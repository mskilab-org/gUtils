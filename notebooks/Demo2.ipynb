{
 "cells": [
  {
   "cell_type": "markdown",
   "metadata": {},
   "source": [
    "# Load packages"
   ]
  },
  {
   "cell_type": "code",
   "execution_count": 1,
   "metadata": {},
   "outputs": [],
   "source": [
    "suppressWarnings(suppressMessages(library(gUtils)))   \n",
    "suppressWarnings(suppressMessages(library(BSgenome.Hsapiens.UCSC.hg19)))\n",
    "Sys.setenv(DEFAULT_BSGENOME = 'BSgenome.Hsapiens.UCSC.hg19::Hsapiens')"
   ]
  },
  {
   "cell_type": "markdown",
   "metadata": {},
   "source": [
    "# Create example GRanges and data.table objects"
   ]
  },
  {
   "cell_type": "code",
   "execution_count": 2,
   "metadata": {
    "scrolled": true
   },
   "outputs": [
    {
     "name": "stdout",
     "output_type": "stream",
     "text": [
      "[1] \"grexample\"\n",
      "GRanges object with 3 ranges and 1 metadata column:\n",
      "      seqnames    ranges strand |        name\n",
      "         <Rle> <IRanges>  <Rle> | <character>\n",
      "  [1]        1  [ 3,  9]      + |           A\n",
      "  [2]        1  [ 9, 13]      - |           B\n",
      "  [3]        1  [13, 20]      - |           C\n",
      "  -------\n",
      "  seqinfo: 1 sequence from an unspecified genome; no seqlengths\n",
      "[1] \"dt\"\n",
      "   seqnames start end\n",
      "1:        1     2   3\n",
      "2:        1     5   8\n",
      "3:        1    10  15\n"
     ]
    }
   ],
   "source": [
    "## instantiate an example GRanges objects, 'gr' and data.table 'dt'\n",
    "\n",
    "grexample = GRanges(1, IRanges(c(3, 9, 13), c(9, 13, 20)), strand=c('+','-','-'), name=c(\"A\",\"B\",\"C\"))\n",
    "\n",
    "dt = data.table(seqnames=1, start=c(2,5,10), end=c(3,8,15))\n",
    "\n",
    "\n",
    "print('grexample')\n",
    "print(grexample)\n",
    "print('dt')\n",
    "print(dt)"
   ]
  },
  {
   "cell_type": "markdown",
   "metadata": {},
   "source": [
    "# gr.start()\n",
    "### gr.start() returns a GRanges of the first coordinate (or first k coordinates) in each interval "
   ]
  },
  {
   "cell_type": "code",
   "execution_count": 3,
   "metadata": {
    "collapsed": true
   },
   "outputs": [],
   "source": [
    "## Function: \n",
    "## 'gr.start()' returns a GRanges of the first coordinate (or first k coordinates) in each interval \n",
    "## \n",
    "## Args:\n",
    "## 'width' integer Specify subranges of greater width including the start of the range. (default = 1)\n",
    "## 'force' boolean If TRUE, allows returned GRanges to have ranges outside of its 'Seqinfo' bounds. (default = FALSE)\n",
    "## 'ignore.strand' If FALSE, gr.start() will extend '-' strands from the other direction (default = TRUE)\n",
    "## 'clip' boolean  If TRUE, trims returned GRanges so that it does not extend beyond bounds of the input (default = TRUE)\n",
    "## \n",
    "## Use:\n",
    "## gr.start(grexample) = returns start of each genomic range in the input 'grexample'\n",
    "## "
   ]
  },
  {
   "cell_type": "code",
   "execution_count": 4,
   "metadata": {},
   "outputs": [
    {
     "name": "stderr",
     "output_type": "stream",
     "text": [
      "Warning message in gr.start(grexample):\n",
      "“Warning: Check or fix seqlengths, some are equal 0 or NA, may lead to negative widths”"
     ]
    },
    {
     "data": {
      "text/plain": [
       "GRanges object with 3 ranges and 1 metadata column:\n",
       "      seqnames    ranges strand |        name\n",
       "         <Rle> <IRanges>  <Rle> | <character>\n",
       "  [1]        1  [ 3,  3]      + |           A\n",
       "  [2]        1  [ 9,  9]      - |           B\n",
       "  [3]        1  [13, 13]      - |           C\n",
       "  -------\n",
       "  seqinfo: 1 sequence from an unspecified genome; no seqlengths"
      ]
     },
     "metadata": {},
     "output_type": "display_data"
    }
   ],
   "source": [
    "gr.start(grexample)"
   ]
  },
  {
   "cell_type": "code",
   "execution_count": 5,
   "metadata": {},
   "outputs": [
    {
     "name": "stderr",
     "output_type": "stream",
     "text": [
      "Warning message in gr.start(grexample, width = 3):\n",
      "“Warning: Check or fix seqlengths, some are equal 0 or NA, may lead to negative widths”"
     ]
    },
    {
     "data": {
      "text/plain": [
       "GRanges object with 3 ranges and 1 metadata column:\n",
       "      seqnames    ranges strand |        name\n",
       "         <Rle> <IRanges>  <Rle> | <character>\n",
       "  [1]        1  [ 3,  5]      + |           A\n",
       "  [2]        1  [ 9, 11]      - |           B\n",
       "  [3]        1  [13, 15]      - |           C\n",
       "  -------\n",
       "  seqinfo: 1 sequence from an unspecified genome; no seqlengths"
      ]
     },
     "metadata": {},
     "output_type": "display_data"
    }
   ],
   "source": [
    "gr.start(grexample, width=3)"
   ]
  },
  {
   "cell_type": "code",
   "execution_count": 6,
   "metadata": {},
   "outputs": [
    {
     "name": "stderr",
     "output_type": "stream",
     "text": [
      "Warning message in gr.start(grexample, width = 50):\n",
      "“Warning: Check or fix seqlengths, some are equal 0 or NA, may lead to negative widths”"
     ]
    },
    {
     "data": {
      "text/plain": [
       "GRanges object with 3 ranges and 1 metadata column:\n",
       "      seqnames    ranges strand |        name\n",
       "         <Rle> <IRanges>  <Rle> | <character>\n",
       "  [1]        1  [ 3,  9]      + |           A\n",
       "  [2]        1  [ 9, 13]      - |           B\n",
       "  [3]        1  [13, 20]      - |           C\n",
       "  -------\n",
       "  seqinfo: 1 sequence from an unspecified genome; no seqlengths"
      ]
     },
     "metadata": {},
     "output_type": "display_data"
    }
   ],
   "source": [
    "## if argument 'width' larger than width(grexample), then the corresponding output will have subranges specified to the range end \n",
    "gr.start(grexample, width=50) \n"
   ]
  },
  {
   "cell_type": "code",
   "execution_count": 7,
   "metadata": {},
   "outputs": [
    {
     "name": "stderr",
     "output_type": "stream",
     "text": [
      "Warning message in gr.start(grexample, ignore.strand = FALSE):\n",
      "“Warning: Check or fix seqlengths, some are equal 0 or NA, may lead to negative widths”"
     ]
    },
    {
     "data": {
      "text/plain": [
       "GRanges object with 3 ranges and 1 metadata column:\n",
       "      seqnames    ranges strand |        name\n",
       "         <Rle> <IRanges>  <Rle> | <character>\n",
       "  [1]        1  [ 3,  3]      + |           A\n",
       "  [2]        1  [13, 13]      - |           B\n",
       "  [3]        1  [20, 20]      - |           C\n",
       "  -------\n",
       "  seqinfo: 1 sequence from an unspecified genome; no seqlengths"
      ]
     },
     "metadata": {},
     "output_type": "display_data"
    }
   ],
   "source": [
    "gr.start(grexample, ignore.strand=FALSE)"
   ]
  },
  {
   "cell_type": "markdown",
   "metadata": {},
   "source": [
    "# gr.end()\n",
    "### gr.end() returns a GRanges of the last coordinate (or last k coordinates) in each interval "
   ]
  },
  {
   "cell_type": "code",
   "execution_count": 8,
   "metadata": {
    "collapsed": true
   },
   "outputs": [],
   "source": [
    "## Function: \n",
    "## 'gr.end()' returns a GRanges of the last coordinate (or last k coordinates) in each interval \n",
    "## \n",
    "## Args:\n",
    "## 'width' integer Specify subranges of greater width including the start of the range. (default = 1)\n",
    "## 'force' boolean If TRUE, allows returned GRanges to have ranges outside of its 'Seqinfo' bounds. (default = FALSE)\n",
    "## 'ignore.strand' If FALSE, gr.start() will extend '-' strands from the other direction (default = TRUE)\n",
    "## 'clip' boolean  If TRUE, trims returned GRanges so that it does not extend beyond bounds of the input (default = TRUE)\n",
    "## \n",
    "## Use:\n",
    "## gr.end(grexample) = returns end of each genomic range in the input 'grexample'\n",
    "## "
   ]
  },
  {
   "cell_type": "code",
   "execution_count": 9,
   "metadata": {},
   "outputs": [
    {
     "name": "stderr",
     "output_type": "stream",
     "text": [
      "Warning message in gr.end(grexample):\n",
      "“Warning: Check or fix seqlengths, some are equal 0 or NA, may lead to negative widths”"
     ]
    },
    {
     "data": {
      "text/plain": [
       "GRanges object with 3 ranges and 1 metadata column:\n",
       "      seqnames    ranges strand |        name\n",
       "         <Rle> <IRanges>  <Rle> | <character>\n",
       "  [1]        1  [ 9,  9]      + |           A\n",
       "  [2]        1  [13, 13]      - |           B\n",
       "  [3]        1  [20, 20]      - |           C\n",
       "  -------\n",
       "  seqinfo: 1 sequence from an unspecified genome; no seqlengths"
      ]
     },
     "metadata": {},
     "output_type": "display_data"
    }
   ],
   "source": [
    "gr.end(grexample)"
   ]
  },
  {
   "cell_type": "code",
   "execution_count": 10,
   "metadata": {},
   "outputs": [
    {
     "name": "stderr",
     "output_type": "stream",
     "text": [
      "Warning message in gr.end(grexample, width = 3):\n",
      "“Warning: Check or fix seqlengths, some are equal 0 or NA, may lead to negative widths”"
     ]
    },
    {
     "data": {
      "text/plain": [
       "GRanges object with 3 ranges and 1 metadata column:\n",
       "      seqnames    ranges strand |        name\n",
       "         <Rle> <IRanges>  <Rle> | <character>\n",
       "  [1]        1  [ 7,  9]      + |           A\n",
       "  [2]        1  [11, 13]      - |           B\n",
       "  [3]        1  [18, 20]      - |           C\n",
       "  -------\n",
       "  seqinfo: 1 sequence from an unspecified genome; no seqlengths"
      ]
     },
     "metadata": {},
     "output_type": "display_data"
    }
   ],
   "source": [
    "gr.end(grexample, width=3)"
   ]
  },
  {
   "cell_type": "code",
   "execution_count": 11,
   "metadata": {},
   "outputs": [
    {
     "name": "stderr",
     "output_type": "stream",
     "text": [
      "Warning message in gr.end(grexample, width = 50):\n",
      "“Warning: Check or fix seqlengths, some are equal 0 or NA, may lead to negative widths”"
     ]
    },
    {
     "data": {
      "text/plain": [
       "GRanges object with 3 ranges and 1 metadata column:\n",
       "      seqnames    ranges strand |        name\n",
       "         <Rle> <IRanges>  <Rle> | <character>\n",
       "  [1]        1  [ 3,  9]      + |           A\n",
       "  [2]        1  [ 9, 13]      - |           B\n",
       "  [3]        1  [13, 20]      - |           C\n",
       "  -------\n",
       "  seqinfo: 1 sequence from an unspecified genome; no seqlengths"
      ]
     },
     "metadata": {},
     "output_type": "display_data"
    }
   ],
   "source": [
    "## if argument 'width' larger than width(grexample), subranges specified to the range start\n",
    "gr.end(grexample, width=50)"
   ]
  },
  {
   "cell_type": "code",
   "execution_count": 12,
   "metadata": {},
   "outputs": [
    {
     "name": "stderr",
     "output_type": "stream",
     "text": [
      "Warning message in gr.end(grexample, ignore.strand = FALSE):\n",
      "“Warning: Check or fix seqlengths, some are equal 0 or NA, may lead to negative widths”"
     ]
    },
    {
     "data": {
      "text/plain": [
       "GRanges object with 3 ranges and 1 metadata column:\n",
       "      seqnames    ranges strand |        name\n",
       "         <Rle> <IRanges>  <Rle> | <character>\n",
       "  [1]        1  [ 9,  9]      + |           A\n",
       "  [2]        1  [ 9,  9]      - |           B\n",
       "  [3]        1  [13, 13]      - |           C\n",
       "  -------\n",
       "  seqinfo: 1 sequence from an unspecified genome; no seqlengths"
      ]
     },
     "metadata": {},
     "output_type": "display_data"
    }
   ],
   "source": [
    "gr.end(grexample, ignore.strand=FALSE)"
   ]
  },
  {
   "cell_type": "markdown",
   "metadata": {},
   "source": [
    "# gr.mid()\n",
    "### gr.mid() returns a GRanges of the last coordinate (or last k coordinates) in each interval "
   ]
  },
  {
   "cell_type": "code",
   "execution_count": 13,
   "metadata": {
    "collapsed": true
   },
   "outputs": [],
   "source": [
    "## Function: \n",
    "## 'gr.mid()' returns a GRanges of the midpoint coordinate in each interval \n",
    "## \n",
    "## Use:\n",
    "## gr.mid(grexample) = returns midpoints of each genomic range in the input 'grexample'\n",
    "## "
   ]
  },
  {
   "cell_type": "code",
   "execution_count": 14,
   "metadata": {},
   "outputs": [
    {
     "data": {
      "text/plain": [
       "GRanges object with 3 ranges and 1 metadata column:\n",
       "      seqnames    ranges strand |        name\n",
       "         <Rle> <IRanges>  <Rle> | <character>\n",
       "  [1]        1  [ 6,  6]      + |           A\n",
       "  [2]        1  [11, 11]      - |           B\n",
       "  [3]        1  [16, 16]      - |           C\n",
       "  -------\n",
       "  seqinfo: 1 sequence from an unspecified genome; no seqlengths"
      ]
     },
     "metadata": {},
     "output_type": "display_data"
    }
   ],
   "source": [
    "gr.mid(grexample)"
   ]
  },
  {
   "cell_type": "code",
   "execution_count": 15,
   "metadata": {},
   "outputs": [
    {
     "data": {
      "text/plain": [
       "GRanges object with 1 range and 0 metadata columns:\n",
       "      seqnames     ranges strand\n",
       "         <Rle>  <IRanges>  <Rle>\n",
       "  [1]        1 [150, 150]      *\n",
       "  -------\n",
       "  seqinfo: 1 sequence from an unspecified genome"
      ]
     },
     "metadata": {},
     "output_type": "display_data"
    }
   ],
   "source": [
    "## midpoint between (100, 200)\n",
    "\n",
    "gr.mid(GRanges(1, IRanges(100, 200), seqinfo=Seqinfo(\"1\", 200)))"
   ]
  },
  {
   "cell_type": "markdown",
   "metadata": {},
   "source": [
    "# dt2gr()\n",
    "### dt2gr() inputs an R data.table/data.frame and outputs a GRanges, if columns 'start', 'end', 'seqnames' exist"
   ]
  },
  {
   "cell_type": "code",
   "execution_count": 16,
   "metadata": {
    "collapsed": true
   },
   "outputs": [],
   "source": [
    "## Function: \n",
    "## 'dt2gr()' inputs an R data.table/data.frame and outputs a GRanges, if columns 'start', 'end', 'seqnames' exist\n",
    "## \n",
    "## Args:\n",
    "## 'seqlengths' named integer vector representing genome (default = hg_seqlengths())\n",
    "## 'seqinfo' Seqinfo of output GRanges object\n",
    "##\n",
    "## Use:\n",
    "## dt2gr(dt)\n",
    "##"
   ]
  },
  {
   "cell_type": "code",
   "execution_count": 17,
   "metadata": {},
   "outputs": [
    {
     "data": {
      "text/plain": [
       "GRanges object with 3 ranges and 0 metadata columns:\n",
       "      seqnames    ranges strand\n",
       "         <Rle> <IRanges>  <Rle>\n",
       "  [1]        1  [ 2,  3]      *\n",
       "  [2]        1  [ 5,  8]      *\n",
       "  [3]        1  [10, 15]      *\n",
       "  -------\n",
       "  seqinfo: 25 sequences from an unspecified genome"
      ]
     },
     "metadata": {},
     "output_type": "display_data"
    }
   ],
   "source": [
    "dt2gr(dt)  ## data.table converted to GRanges"
   ]
  },
  {
   "cell_type": "markdown",
   "metadata": {},
   "source": [
    "# gr2dt()\n",
    "### gr2dt() returns GRanges 'input_gr' converted into an R data.table/data.frame "
   ]
  },
  {
   "cell_type": "code",
   "execution_count": 18,
   "metadata": {
    "collapsed": true
   },
   "outputs": [],
   "source": [
    "## Function: \n",
    "## 'gr2dt()' returns GRanges converted into an R data.table/data.frame \n",
    "##\n",
    "## Use:\n",
    "## gr2dt(grexample)\n",
    "##"
   ]
  },
  {
   "cell_type": "code",
   "execution_count": 19,
   "metadata": {},
   "outputs": [
    {
     "data": {
      "text/html": [
       "<table>\n",
       "<thead><tr><th scope=col>seqnames</th><th scope=col>start</th><th scope=col>end</th><th scope=col>strand</th><th scope=col>width</th><th scope=col>name</th></tr></thead>\n",
       "<tbody>\n",
       "\t<tr><td>1 </td><td> 3</td><td> 9</td><td>+ </td><td>7 </td><td>A </td></tr>\n",
       "\t<tr><td>1 </td><td> 9</td><td>13</td><td>- </td><td>5 </td><td>B </td></tr>\n",
       "\t<tr><td>1 </td><td>13</td><td>20</td><td>- </td><td>8 </td><td>C </td></tr>\n",
       "</tbody>\n",
       "</table>\n"
      ],
      "text/latex": [
       "\\begin{tabular}{r|llllll}\n",
       " seqnames & start & end & strand & width & name\\\\\n",
       "\\hline\n",
       "\t 1  &  3 &  9 & +  & 7  & A \\\\\n",
       "\t 1  &  9 & 13 & -  & 5  & B \\\\\n",
       "\t 1  & 13 & 20 & -  & 8  & C \\\\\n",
       "\\end{tabular}\n"
      ],
      "text/markdown": [
       "\n",
       "seqnames | start | end | strand | width | name | \n",
       "|---|---|---|\n",
       "| 1  |  3 |  9 | +  | 7  | A  | \n",
       "| 1  |  9 | 13 | -  | 5  | B  | \n",
       "| 1  | 13 | 20 | -  | 8  | C  | \n",
       "\n",
       "\n"
      ],
      "text/plain": [
       "  seqnames start end strand width name\n",
       "1 1         3     9  +      7     A   \n",
       "2 1         9    13  -      5     B   \n",
       "3 1        13    20  -      8     C   "
      ]
     },
     "metadata": {},
     "output_type": "display_data"
    },
    {
     "name": "stdout",
     "output_type": "stream",
     "text": [
      "[1] TRUE\n"
     ]
    }
   ],
   "source": [
    "gr2dt(grexample)   ## GRanges converted to data.table\n",
    "\n",
    "print(is(gr2dt(grexample), 'data.table'))"
   ]
  },
  {
   "cell_type": "markdown",
   "metadata": {},
   "source": [
    "# gr.tile()\n",
    "### gr.tile() tiles the input GRanges 'input_gr' with non-overlapping bins of width K."
   ]
  },
  {
   "cell_type": "code",
   "execution_count": 20,
   "metadata": {
    "collapsed": true
   },
   "outputs": [],
   "source": [
    "## Function: \n",
    "## 'gr.tile()' tiles the input GRanges 'input_gr' with non-overlapping bins of width K.\n",
    "## \n",
    "## Args:\n",
    "## 'width' the width of each tile (default = 1e3)\n",
    "##\n",
    "## Use:\n",
    "## gr.tile(input_gr, width = K)\n",
    "##\n",
    "## Refer to function 'gr.tile.map()'"
   ]
  },
  {
   "cell_type": "code",
   "execution_count": 21,
   "metadata": {},
   "outputs": [
    {
     "data": {
      "text/plain": [
       "GRanges object with 11 ranges and 2 metadata columns:\n",
       "       seqnames    ranges strand |  query.id   tile.id\n",
       "          <Rle> <IRanges>  <Rle> | <integer> <integer>\n",
       "   [1]        1  [ 3,  4]      + |         1         1\n",
       "   [2]        1  [ 5,  6]      + |         1         2\n",
       "   [3]        1  [ 7,  8]      + |         1         3\n",
       "   [4]        1  [ 9,  9]      + |         1         4\n",
       "   [5]        1  [ 9, 10]      - |         2         5\n",
       "   [6]        1  [11, 12]      - |         2         6\n",
       "   [7]        1  [13, 13]      - |         2         7\n",
       "   [8]        1  [13, 14]      - |         3         8\n",
       "   [9]        1  [15, 16]      - |         3         9\n",
       "  [10]        1  [17, 18]      - |         3        10\n",
       "  [11]        1  [19, 20]      - |         3        11\n",
       "  -------\n",
       "  seqinfo: 1 sequence from an unspecified genome; no seqlengths"
      ]
     },
     "metadata": {},
     "output_type": "display_data"
    }
   ],
   "source": [
    "gr.tile(grexample, 2)"
   ]
  },
  {
   "cell_type": "code",
   "execution_count": 22,
   "metadata": {},
   "outputs": [
    {
     "data": {
      "text/plain": [
       "GRanges object with 10 ranges and 2 metadata columns:\n",
       "       seqnames    ranges strand |  query.id   tile.id\n",
       "          <Rle> <IRanges>  <Rle> | <integer> <integer>\n",
       "   [1]        1 [ 1,  10]      * |         1         1\n",
       "   [2]        1 [11,  20]      * |         1         2\n",
       "   [3]        1 [21,  30]      * |         1         3\n",
       "   [4]        1 [31,  40]      * |         1         4\n",
       "   [5]        1 [41,  50]      * |         1         5\n",
       "   [6]        1 [51,  60]      * |         1         6\n",
       "   [7]        1 [61,  70]      * |         1         7\n",
       "   [8]        1 [71,  80]      * |         1         8\n",
       "   [9]        1 [81,  90]      * |         1         9\n",
       "  [10]        1 [91, 100]      * |         1        10\n",
       "  -------\n",
       "  seqinfo: 1 sequence from an unspecified genome; no seqlengths"
      ]
     },
     "metadata": {},
     "output_type": "display_data"
    }
   ],
   "source": [
    "## create 10 tiles of width 10 from start=1 to end=100\n",
    "gr.tile(GRanges(1, IRanges(1,100)), width=10)"
   ]
  },
  {
   "cell_type": "markdown",
   "metadata": {},
   "source": [
    "# gr.chr()\n",
    "### gr.chr() prepends 'chr' to GRanges seqlevels()"
   ]
  },
  {
   "cell_type": "code",
   "execution_count": 23,
   "metadata": {
    "collapsed": true
   },
   "outputs": [],
   "source": [
    "## Function: \n",
    "## 'gr.chr()' prepends 'chr' to GRanges seqlevels()\n",
    "## \n",
    "## Use:\n",
    "## gr.chr(grexample)\n",
    "##"
   ]
  },
  {
   "cell_type": "code",
   "execution_count": 24,
   "metadata": {},
   "outputs": [
    {
     "data": {
      "text/plain": [
       "GRanges object with 3 ranges and 1 metadata column:\n",
       "      seqnames    ranges strand |        name\n",
       "         <Rle> <IRanges>  <Rle> | <character>\n",
       "  [1]     chr1  [ 3,  9]      + |           A\n",
       "  [2]     chr1  [ 9, 13]      - |           B\n",
       "  [3]     chr1  [13, 20]      - |           C\n",
       "  -------\n",
       "  seqinfo: 1 sequence from an unspecified genome; no seqlengths"
      ]
     },
     "metadata": {},
     "output_type": "display_data"
    }
   ],
   "source": [
    "gr.chr(grexample)"
   ]
  },
  {
   "cell_type": "markdown",
   "metadata": {},
   "source": [
    "# gr.nochr()\n",
    "### gr.nochr() removes the prefix 'chr' from GRanges seqlevels()"
   ]
  },
  {
   "cell_type": "code",
   "execution_count": 25,
   "metadata": {
    "collapsed": true
   },
   "outputs": [],
   "source": [
    "## Function: \n",
    "## 'gr.nochr()' removes the prefix 'chr' from GRanges seqlevels()\n",
    "## \n",
    "## Use:\n",
    "## gr.nochr(grexample)\n",
    "##"
   ]
  },
  {
   "cell_type": "code",
   "execution_count": 26,
   "metadata": {},
   "outputs": [
    {
     "data": {
      "text/plain": [
       "GRanges object with 3 ranges and 1 metadata column:\n",
       "      seqnames    ranges strand |        name\n",
       "         <Rle> <IRanges>  <Rle> | <character>\n",
       "  [1]        1  [ 3,  9]      + |           A\n",
       "  [2]        1  [ 9, 13]      - |           B\n",
       "  [3]        1  [13, 20]      - |           C\n",
       "  -------\n",
       "  seqinfo: 1 sequence from an unspecified genome; no seqlengths"
      ]
     },
     "metadata": {},
     "output_type": "display_data"
    }
   ],
   "source": [
    "gr.nochr(gr.chr(grexample))"
   ]
  },
  {
   "cell_type": "markdown",
   "metadata": {},
   "source": [
    "# gr.stripstrand()\n",
    "### gr.stripstrand() sets input GRanges strand to '*'"
   ]
  },
  {
   "cell_type": "code",
   "execution_count": 27,
   "metadata": {
    "collapsed": true
   },
   "outputs": [],
   "source": [
    "## Function: \n",
    "## gr.stripstrand() sets input GRanges strand to '*'\n",
    "## \n",
    "## Use:\n",
    "## gr.stripstrand(grexample)\n",
    "##"
   ]
  },
  {
   "cell_type": "code",
   "execution_count": 28,
   "metadata": {},
   "outputs": [
    {
     "data": {
      "text/plain": [
       "GRanges object with 3 ranges and 1 metadata column:\n",
       "      seqnames    ranges strand |        name\n",
       "         <Rle> <IRanges>  <Rle> | <character>\n",
       "  [1]        1  [ 3,  9]      * |           A\n",
       "  [2]        1  [ 9, 13]      * |           B\n",
       "  [3]        1  [13, 20]      * |           C\n",
       "  -------\n",
       "  seqinfo: 1 sequence from an unspecified genome; no seqlengths"
      ]
     },
     "metadata": {},
     "output_type": "display_data"
    }
   ],
   "source": [
    "gr.stripstrand(grexample)"
   ]
  },
  {
   "cell_type": "markdown",
   "metadata": {},
   "source": [
    "# gr.strandflip() \n",
    "### gr.strandflip() reverses GRanges strand signs"
   ]
  },
  {
   "cell_type": "code",
   "execution_count": 29,
   "metadata": {
    "collapsed": true
   },
   "outputs": [],
   "source": [
    "## Function: \n",
    "## gr.flipstrand() inverts GRanges strand, '+' <-> '-'\n",
    "## \n",
    "## Use:\n",
    "## gr.flipstrand(grexample)\n",
    "##"
   ]
  },
  {
   "cell_type": "code",
   "execution_count": 30,
   "metadata": {},
   "outputs": [
    {
     "data": {
      "text/plain": [
       "GRanges object with 3 ranges and 1 metadata column:\n",
       "      seqnames    ranges strand |        name\n",
       "         <Rle> <IRanges>  <Rle> | <character>\n",
       "  [1]        1  [ 3,  9]      - |           A\n",
       "  [2]        1  [ 9, 13]      + |           B\n",
       "  [3]        1  [13, 20]      + |           C\n",
       "  -------\n",
       "  seqinfo: 1 sequence from an unspecified genome; no seqlengths"
      ]
     },
     "metadata": {},
     "output_type": "display_data"
    }
   ],
   "source": [
    "gr.flipstrand(grexample)"
   ]
  },
  {
   "cell_type": "markdown",
   "metadata": {},
   "source": [
    "# gr.flatten()\n",
    "### gr.flatten() returns input GRanges as data.frame with input ranges superimposed  onto a single \"flattened\" chromosome, with ranges laid end-to-end"
   ]
  },
  {
   "cell_type": "code",
   "execution_count": 31,
   "metadata": {
    "collapsed": true
   },
   "outputs": [],
   "source": [
    "## Function: \n",
    "## gr.flatten() returns input GRanges as data.frame with input ranges superimposed \n",
    "## onto a single \"flattened\" chromosome, with ranges laid end-to-end\n",
    "## \n",
    "## Args:\n",
    "## 'gap' number of bases between ranges on the new chromosome (default = 0) \n",
    "## \n",
    "## Use:\n",
    "## gr.flatten(grexample)\n",
    "##"
   ]
  },
  {
   "cell_type": "code",
   "execution_count": 32,
   "metadata": {},
   "outputs": [
    {
     "data": {
      "text/html": [
       "<table>\n",
       "<thead><tr><th scope=col>start</th><th scope=col>end</th><th scope=col>name</th></tr></thead>\n",
       "<tbody>\n",
       "\t<tr><td> 1</td><td> 7</td><td>A </td></tr>\n",
       "\t<tr><td> 8</td><td>12</td><td>B </td></tr>\n",
       "\t<tr><td>13</td><td>20</td><td>C </td></tr>\n",
       "</tbody>\n",
       "</table>\n"
      ],
      "text/latex": [
       "\\begin{tabular}{r|lll}\n",
       " start & end & name\\\\\n",
       "\\hline\n",
       "\t  1 &  7 & A \\\\\n",
       "\t  8 & 12 & B \\\\\n",
       "\t 13 & 20 & C \\\\\n",
       "\\end{tabular}\n"
      ],
      "text/markdown": [
       "\n",
       "start | end | name | \n",
       "|---|---|---|\n",
       "|  1 |  7 | A  | \n",
       "|  8 | 12 | B  | \n",
       "| 13 | 20 | C  | \n",
       "\n",
       "\n"
      ],
      "text/plain": [
       "  start end name\n",
       "1  1     7  A   \n",
       "2  8    12  B   \n",
       "3 13    20  C   "
      ]
     },
     "metadata": {},
     "output_type": "display_data"
    }
   ],
   "source": [
    "gr.flatten(grexample)"
   ]
  },
  {
   "cell_type": "code",
   "execution_count": 33,
   "metadata": {},
   "outputs": [
    {
     "data": {
      "text/html": [
       "<table>\n",
       "<thead><tr><th scope=col>start</th><th scope=col>end</th><th scope=col>name</th></tr></thead>\n",
       "<tbody>\n",
       "\t<tr><td>   1</td><td>   7</td><td>A   </td></tr>\n",
       "\t<tr><td> 508</td><td> 512</td><td>B   </td></tr>\n",
       "\t<tr><td>1013</td><td>1020</td><td>C   </td></tr>\n",
       "</tbody>\n",
       "</table>\n"
      ],
      "text/latex": [
       "\\begin{tabular}{r|lll}\n",
       " start & end & name\\\\\n",
       "\\hline\n",
       "\t    1 &    7 & A   \\\\\n",
       "\t  508 &  512 & B   \\\\\n",
       "\t 1013 & 1020 & C   \\\\\n",
       "\\end{tabular}\n"
      ],
      "text/markdown": [
       "\n",
       "start | end | name | \n",
       "|---|---|---|\n",
       "|    1 |    7 | A    | \n",
       "|  508 |  512 | B    | \n",
       "| 1013 | 1020 | C    | \n",
       "\n",
       "\n"
      ],
      "text/plain": [
       "  start end  name\n",
       "1    1     7 A   \n",
       "2  508   512 B   \n",
       "3 1013  1020 C   "
      ]
     },
     "metadata": {},
     "output_type": "display_data"
    }
   ],
   "source": [
    "gr.flatten(grexample, gap=500)"
   ]
  },
  {
   "cell_type": "markdown",
   "metadata": {},
   "source": [
    "# gr.rand()\n",
    "### gr.rand(w, genome) returns randomly-generated GRanges from input genome"
   ]
  },
  {
   "cell_type": "code",
   "execution_count": 34,
   "metadata": {
    "collapsed": true
   },
   "outputs": [],
   "source": [
    "## Function: \n",
    "## gr.rand(w, genome) returns randomly-generated GRanges from input genome\n",
    "## \n",
    "## Args:\n",
    "## 'w' vector of widths, whereby 'length(w)' determines length of output\n",
    "## 'genome' GRanges, GRangesList, or Seqinfo genome\n",
    "## \n",
    "## Use:\n",
    "## gr.rand(w, genome)\n",
    "##"
   ]
  },
  {
   "cell_type": "code",
   "execution_count": 35,
   "metadata": {},
   "outputs": [
    {
     "data": {
      "text/plain": [
       "GRanges object with 5 ranges and 0 metadata columns:\n",
       "      seqnames               ranges strand\n",
       "         <Rle>            <IRanges>  <Rle>\n",
       "  [1]     chr5 [20550152, 20550161]      *\n",
       "  [2]    chr16 [63222704, 63222713]      *\n",
       "  [3]     chr7 [49369246, 49369255]      *\n",
       "  [4]    chr20 [51594129, 51594138]      *\n",
       "  [5]     chrX [69363664, 69363673]      *\n",
       "  -------\n",
       "  seqinfo: 93 sequences from an unspecified genome"
      ]
     },
     "metadata": {},
     "output_type": "display_data"
    }
   ],
   "source": [
    "## Generate 5 non-overlapping regions of width 10 on hg19\n",
    "\n",
    "## set seed for reproducibility \n",
    "\n",
    "set.seed(123)\n",
    "\n",
    "gr.rand(rep(10,5), BSgenome.Hsapiens.UCSC.hg19::Hsapiens)"
   ]
  },
  {
   "cell_type": "markdown",
   "metadata": {},
   "source": [
    "# gr.trim()\n",
    "### gr.trim() \"trims\" input GRanges relative to the specified <local> coordinates of each range"
   ]
  },
  {
   "cell_type": "code",
   "execution_count": 36,
   "metadata": {
    "collapsed": true
   },
   "outputs": [],
   "source": [
    "## Function: \n",
    "## 'gr.trim()' trims input GRanges relative to the specified <local> coordinates of each range\n",
    "## The motivation behind this function is to fill the role of current GRanges functionality\n",
    "## e.g. shift(), reduce(), restrict(), shift(), resize(), flank()\n",
    "## \n",
    "## Args:\n",
    "## 'start' vector of widths, whereby 'length(w)' determines length of output\n",
    "## 'end' GRanges, GRangesList, or Seqinfo genome\n",
    "## \n",
    "## Use:\n",
    "## gr.trim(input_gr, starts, ends)\n",
    "##"
   ]
  },
  {
   "cell_type": "code",
   "execution_count": 37,
   "metadata": {},
   "outputs": [
    {
     "data": {
      "text/plain": [
       "GRanges object with 1 range and 0 metadata columns:\n",
       "      seqnames             ranges strand\n",
       "         <Rle>          <IRanges>  <Rle>\n",
       "  [1]        1 [1000000, 1000999]      *\n",
       "  -------\n",
       "  seqinfo: 1 sequence from an unspecified genome; no seqlengths"
      ]
     },
     "metadata": {},
     "output_type": "display_data"
    }
   ],
   "source": [
    "GRanges(1, IRanges(1e6, width=1000))"
   ]
  },
  {
   "cell_type": "code",
   "execution_count": 38,
   "metadata": {},
   "outputs": [
    {
     "data": {
      "text/plain": [
       "GRanges object with 1 range and 0 metadata columns:\n",
       "      seqnames             ranges strand\n",
       "         <Rle>          <IRanges>  <Rle>\n",
       "  [1]        1 [1000019, 1000949]      *\n",
       "  -------\n",
       "  seqinfo: 1 sequence from an unspecified genome; no seqlengths"
      ]
     },
     "metadata": {},
     "output_type": "display_data"
    }
   ],
   "source": [
    "## Given GRangeswith genomic coordinates 1:1,000,000-1,001,000, \n",
    "## gr.trim() to \"trim\" the first 20 bases and last 50 bases \n",
    "\n",
    "gr.trim(GRanges(1, IRanges(1e6, width=1500)), starts=20, ends=950)"
   ]
  },
  {
   "cell_type": "markdown",
   "metadata": {},
   "source": [
    "# gr.sample()\n",
    "### gr.sample(gr, k, wid) samples input GRanges intervals within a given territory"
   ]
  },
  {
   "cell_type": "code",
   "execution_count": 39,
   "metadata": {
    "collapsed": true
   },
   "outputs": [],
   "source": [
    "## Function: \n",
    "## gr.sample() samples input GRanges intervals within a given territory\n",
    "## \n",
    "## Args:\n",
    "## 'k'  number of ranges to sample\n",
    "## 'wid' length of the GRanges element to produce (default = 100)\n",
    "## 'replace' If TRUE, will bootstrap. If FALSE, otherwise will sample without replacement. (default = TRUE)\n",
    "## \n",
    "## 'k'  integer Number of ranges to sample\n",
    "## 'wid' integer Length of the \\code{GRanges} element to produce (default = 100)\n",
    "## 'replace' boolean If TRUE, will bootstrap, otherwise will sample without replacement. (default = TRUE)\n",
    "## \n",
    "## If 'k' is a scalar then 'gr.rand()' will (uniformly) select 'k' intervals from the summed territory of GRanges\n",
    "## If 'k' is a vector of 'length(gr)' then will uniformly select 'k' intervals from each.\n",
    "##\n",
    "## Note: This is different from the function GenomicRanges::sample(), which samples from a pile of GRanges\n",
    "##\n",
    "## Use:\n",
    "## gr.sample(gr, k, wid, replace = TRUE)\n",
    "##"
   ]
  },
  {
   "cell_type": "code",
   "execution_count": 40,
   "metadata": {},
   "outputs": [
    {
     "data": {
      "text/plain": [
       "GRanges object with 5 ranges and 1 metadata column:\n",
       "      seqnames               ranges strand |  query.id\n",
       "         <Rle>            <IRanges>  <Rle> | <integer>\n",
       "  [1]        4 [90662968, 90662977]      * |      4619\n",
       "  [2]       11 [27367873, 27367882]      * |     10217\n",
       "  [3]       16 [87924776, 87924785]      * |     13795\n",
       "  [4]       19 [52504313, 52504322]      * |     16412\n",
       "  [5]       21 [30486843, 30486852]      * |     17028\n",
       "  -------\n",
       "  seqinfo: 25 sequences from an unspecified genome"
      ]
     },
     "metadata": {},
     "output_type": "display_data"
    }
   ],
   "source": [
    "## sample five GRanges of length 10 each from territory of RefSeq genes\n",
    "\n",
    "## set seed for reproducibility \n",
    "\n",
    "set.seed(42)\n",
    "\n",
    "gr.sample(reduce(example_genes), k=5, wid=10)"
   ]
  },
  {
   "cell_type": "markdown",
   "metadata": {},
   "source": [
    "# gr.fix()\n",
    "### gr.fix() \"repairs\" genome seqlevels; returns input with a repaired Seqinfo"
   ]
  },
  {
   "cell_type": "code",
   "execution_count": 41,
   "metadata": {
    "collapsed": true
   },
   "outputs": [],
   "source": [
    "## Function: \n",
    "## gr.fix() \"repairs\" genome seqlevels; returns input with a repaired Seqinfo\n",
    "##\n",
    "## If \"genome\" not specified will replace NA 'seqlengths' in GRanges to reflect largest coordinate per 'seqlevel'\n",
    "## and removes all 'NA seqlevels' after this fix.\n",
    "##\n",
    "## If \"genome\" defined (i.e. as Seqinfo object, or a BSgenome, GRanges, GRangesList object with populated \\code{seqlengths}),\n",
    "## then will replace \\code{seqlengths} in \\code{gr} with those for that genome\n",
    "## \n",
    "## Args:\n",
    "## 'genome' Genome to fix to: Seqinfo, BSgenome, GRanges (w/seqlengths), GRangesList (w/seqlengths) (default = NULL)\n",
    "## 'gname'  Name of the genome (optional) (default = NULL)\n",
    "## 'drop'   If TRUE, remove ranges that are not present in the supplied genome (default = FALSE)\n",
    "##\n",
    "## Use:\n",
    "## gr.fix(genome, gname, drop)\n",
    "##"
   ]
  },
  {
   "cell_type": "code",
   "execution_count": 42,
   "metadata": {},
   "outputs": [
    {
     "data": {
      "text/html": [
       "<strong>1:</strong> &lt;NA&gt;"
      ],
      "text/latex": [
       "\\textbf{1:} <NA>"
      ],
      "text/markdown": [
       "**1:** &lt;NA&gt;"
      ],
      "text/plain": [
       " 1 \n",
       "NA "
      ]
     },
     "metadata": {},
     "output_type": "display_data"
    },
    {
     "data": {
      "text/html": [
       "<strong>1:</strong> 20"
      ],
      "text/latex": [
       "\\textbf{1:} 20"
      ],
      "text/markdown": [
       "**1:** 20"
      ],
      "text/plain": [
       " 1 \n",
       "20 "
      ]
     },
     "metadata": {},
     "output_type": "display_data"
    }
   ],
   "source": [
    "## before gr.fix()\n",
    "seqlengths(grexample)\n",
    "\n",
    "## after gr.fix()\n",
    "seqlengths(gr.fix(grexample))"
   ]
  },
  {
   "cell_type": "markdown",
   "metadata": {},
   "source": [
    "# streduce()\n",
    "### streduce() returns a reduced, sorted GRanges with no strand information"
   ]
  },
  {
   "cell_type": "code",
   "execution_count": 43,
   "metadata": {
    "collapsed": true
   },
   "outputs": [],
   "source": [
    "## Function: \n",
    "## 'streduce' returns a reduced, sorted GRanges with no strand information, i.e. a GRanges with a minimal data footprint\n",
    "##\n",
    "## 'pad' Expand the input data before reducing (default = 0)\n",
    "## 'sort' If TRUE, sorts the input (default = TRUE)\n",
    "##\n",
    "## Use:\n",
    "## streduce(input_gr, pad, sort)\n",
    "##"
   ]
  },
  {
   "cell_type": "code",
   "execution_count": 44,
   "metadata": {},
   "outputs": [
    {
     "data": {
      "text/plain": [
       "GRanges object with 1 range and 0 metadata columns:\n",
       "      seqnames    ranges strand\n",
       "         <Rle> <IRanges>  <Rle>\n",
       "  [1]        1   [3, 20]      *\n",
       "  -------\n",
       "  seqinfo: 1 sequence from an unspecified genome"
      ]
     },
     "metadata": {},
     "output_type": "display_data"
    }
   ],
   "source": [
    "streduce(grexample)"
   ]
  },
  {
   "cell_type": "markdown",
   "metadata": {},
   "source": [
    "# gr.string()\n",
    "### gr.string() returns UCSC-style interval string corresponding to GRanges pile (i.e. chr:start-end)`"
   ]
  },
  {
   "cell_type": "code",
   "execution_count": 45,
   "metadata": {
    "collapsed": true
   },
   "outputs": [],
   "source": [
    "## Function: \n",
    "## 'gr.string' returns UCSC-style interval string corresponding to GRanges pile (i.e. chr:start-end)\n",
    "##\n",
    "##\n",
    "## 'add.chr' If TRUE, prepends seqnames with \"chr\" (default = FALSE)\n",
    "## 'mb' If TRUE, rounds to the nearest megabase (default = FALSE)\n",
    "## 'round' If 'mb', 'round' sets the number of digits to round to. (default = 3)\n",
    "## 'other.cols' Names of additional 'mcols' fields to add to the string (seperated by \";\")\n",
    "## 'pretty' If TRUE, outputs interval string in more readable format \n",
    "##\n",
    "## Use:\n",
    "## gr.string(example_dnase)\n",
    "##"
   ]
  },
  {
   "cell_type": "code",
   "execution_count": 46,
   "metadata": {},
   "outputs": [
    {
     "data": {
      "text/html": [
       "<ol class=list-inline>\n",
       "\t<li>'1:3-9+'</li>\n",
       "\t<li>'1:9-13-'</li>\n",
       "\t<li>'1:13-20-'</li>\n",
       "</ol>\n"
      ],
      "text/latex": [
       "\\begin{enumerate*}\n",
       "\\item '1:3-9+'\n",
       "\\item '1:9-13-'\n",
       "\\item '1:13-20-'\n",
       "\\end{enumerate*}\n"
      ],
      "text/markdown": [
       "1. '1:3-9+'\n",
       "2. '1:9-13-'\n",
       "3. '1:13-20-'\n",
       "\n",
       "\n"
      ],
      "text/plain": [
       "[1] \"1:3-9+\"   \"1:9-13-\"  \"1:13-20-\""
      ]
     },
     "metadata": {},
     "output_type": "display_data"
    }
   ],
   "source": [
    "gr.string(grexample)"
   ]
  },
  {
   "cell_type": "markdown",
   "metadata": {},
   "source": [
    "# grl.string()\n",
    "### grl.string() generates a string representation of an input GRangesList"
   ]
  },
  {
   "cell_type": "code",
   "execution_count": 47,
   "metadata": {
    "collapsed": true
   },
   "outputs": [],
   "source": [
    "## Function: \n",
    "## 'grl.string' generates a string representation of an input GRangesList\n",
    "##\n",
    "## 'mb' If TRUE, returns as MB and round to \"round\" (default = FALSE)\n",
    "## 'sep' Character to separate single \\code{GRanges} ranges (default = ',')\n",
    "##\n",
    "## Use:\n",
    "## grl.string(input_GRangesList)\n",
    "##"
   ]
  },
  {
   "cell_type": "code",
   "execution_count": 48,
   "metadata": {},
   "outputs": [
    {
     "data": {
      "text/html": [
       "<dl class=dl-horizontal>\n",
       "\t<dt>10</dt>\n",
       "\t\t<dd>'5:146981323-146981323-,14:104605059-104605059+'</dd>\n",
       "\t<dt>26</dt>\n",
       "\t\t<dd>'9:140100229-140100229-,19:24309057-24309057-'</dd>\n",
       "\t<dt>49</dt>\n",
       "\t\t<dd>'5:132216750-132216750-,17:4803057-4803057+'</dd>\n",
       "\t<dt>50</dt>\n",
       "\t\t<dd>'11:9492855-9492855-,11:69514029-69514029-'</dd>\n",
       "\t<dt>88</dt>\n",
       "\t\t<dd>'2:228337137-228337137+,7:97736489-97736489+'</dd>\n",
       "</dl>\n"
      ],
      "text/latex": [
       "\\begin{description*}\n",
       "\\item[10] '5:146981323-146981323-,14:104605059-104605059+'\n",
       "\\item[26] '9:140100229-140100229-,19:24309057-24309057-'\n",
       "\\item[49] '5:132216750-132216750-,17:4803057-4803057+'\n",
       "\\item[50] '11:9492855-9492855-,11:69514029-69514029-'\n",
       "\\item[88] '2:228337137-228337137+,7:97736489-97736489+'\n",
       "\\end{description*}\n"
      ],
      "text/markdown": [
       "10\n",
       ":   '5:146981323-146981323-,14:104605059-104605059+'26\n",
       ":   '9:140100229-140100229-,19:24309057-24309057-'49\n",
       ":   '5:132216750-132216750-,17:4803057-4803057+'50\n",
       ":   '11:9492855-9492855-,11:69514029-69514029-'88\n",
       ":   '2:228337137-228337137+,7:97736489-97736489+'\n",
       "\n"
      ],
      "text/plain": [
       "                                              10 \n",
       "\"5:146981323-146981323-,14:104605059-104605059+\" \n",
       "                                              26 \n",
       "  \"9:140100229-140100229-,19:24309057-24309057-\" \n",
       "                                              49 \n",
       "    \"5:132216750-132216750-,17:4803057-4803057+\" \n",
       "                                              50 \n",
       "     \"11:9492855-9492855-,11:69514029-69514029-\" \n",
       "                                              88 \n",
       "   \"2:228337137-228337137+,7:97736489-97736489+\" "
      ]
     },
     "metadata": {},
     "output_type": "display_data"
    }
   ],
   "source": [
    "## create input GRangeList 'grl_size_five'\n",
    "\n",
    "grl_size_five = grl1[1:5]\n",
    "\n",
    "\n",
    "grl.string(grl_size_five)"
   ]
  },
  {
   "cell_type": "code",
   "execution_count": 49,
   "metadata": {},
   "outputs": [
    {
     "data": {
      "text/html": [
       "<dl class=dl-horizontal>\n",
       "\t<dt>10</dt>\n",
       "\t\t<dd>'5:146.981-146.981-:14:104.605-104.605+'</dd>\n",
       "\t<dt>26</dt>\n",
       "\t\t<dd>'9:140.1-140.1-:19:24.309-24.309-'</dd>\n",
       "\t<dt>49</dt>\n",
       "\t\t<dd>'5:132.217-132.217-:17:4.803-4.803+'</dd>\n",
       "\t<dt>50</dt>\n",
       "\t\t<dd>'11:9.493-9.493-:11:69.514-69.514-'</dd>\n",
       "\t<dt>88</dt>\n",
       "\t\t<dd>'2:228.337-228.337+:7:97.736-97.736+'</dd>\n",
       "</dl>\n"
      ],
      "text/latex": [
       "\\begin{description*}\n",
       "\\item[10] '5:146.981-146.981-:14:104.605-104.605+'\n",
       "\\item[26] '9:140.1-140.1-:19:24.309-24.309-'\n",
       "\\item[49] '5:132.217-132.217-:17:4.803-4.803+'\n",
       "\\item[50] '11:9.493-9.493-:11:69.514-69.514-'\n",
       "\\item[88] '2:228.337-228.337+:7:97.736-97.736+'\n",
       "\\end{description*}\n"
      ],
      "text/markdown": [
       "10\n",
       ":   '5:146.981-146.981-:14:104.605-104.605+'26\n",
       ":   '9:140.1-140.1-:19:24.309-24.309-'49\n",
       ":   '5:132.217-132.217-:17:4.803-4.803+'50\n",
       ":   '11:9.493-9.493-:11:69.514-69.514-'88\n",
       ":   '2:228.337-228.337+:7:97.736-97.736+'\n",
       "\n"
      ],
      "text/plain": [
       "                                      10 \n",
       "\"5:146.981-146.981-:14:104.605-104.605+\" \n",
       "                                      26 \n",
       "      \"9:140.1-140.1-:19:24.309-24.309-\" \n",
       "                                      49 \n",
       "    \"5:132.217-132.217-:17:4.803-4.803+\" \n",
       "                                      50 \n",
       "     \"11:9.493-9.493-:11:69.514-69.514-\" \n",
       "                                      88 \n",
       "   \"2:228.337-228.337+:7:97.736-97.736+\" "
      ]
     },
     "metadata": {},
     "output_type": "display_data"
    }
   ],
   "source": [
    "grl.string(grl_size_five, sep = ':', mb=TRUE)"
   ]
  },
  {
   "cell_type": "markdown",
   "metadata": {},
   "source": [
    "# grl.reduce()\n",
    "### grl.reduce() returns GRangesList with GRanges of intervals of the input GRanges +/- padding"
   ]
  },
  {
   "cell_type": "code",
   "execution_count": 50,
   "metadata": {
    "collapsed": true
   },
   "outputs": [],
   "source": [
    "## Function: \n",
    "## 'grl.reduce' returns GRangesList with GRanges of intervals of the input GRanges +/- padding\n",
    "##\n",
    "## 'pad' padding to add to ranges inside GRangesList before reducing (default = 0)\n",
    "## 'clip' If TRUE, add padding to ranges inside GRangesList before reducing (default = FALSE)\n",
    "##\n",
    "## Use:\n",
    "## grl.reduce(input_GRangesList)\n",
    "##"
   ]
  },
  {
   "cell_type": "code",
   "execution_count": 51,
   "metadata": {},
   "outputs": [
    {
     "name": "stdout",
     "output_type": "stream",
     "text": [
      "GRangesList object of length 5:\n",
      "$10 \n",
      "GRanges object with 2 ranges and 1 metadata column:\n",
      "      seqnames                 ranges strand |       bin\n",
      "         <Rle>              <IRanges>  <Rle> | <integer>\n",
      "  [1]        5 [146981323, 146981323]      - |        10\n",
      "  [2]       14 [104605059, 104605059]      + |        10\n",
      "\n",
      "$26 \n",
      "GRanges object with 2 ranges and 1 metadata column:\n",
      "      seqnames                 ranges strand | bin\n",
      "  [1]        9 [140100229, 140100229]      - |  26\n",
      "  [2]       19 [ 24309057,  24309057]      - |  26\n",
      "\n",
      "$49 \n",
      "GRanges object with 2 ranges and 1 metadata column:\n",
      "      seqnames                 ranges strand | bin\n",
      "  [1]        5 [132216750, 132216750]      - |  49\n",
      "  [2]       17 [  4803057,   4803057]      + |  49\n",
      "\n",
      "...\n",
      "<2 more elements>\n",
      "-------\n",
      "seqinfo: 25 sequences from an unspecified genome\n",
      "[1] \"\"\n",
      "[1] \"apply grl.reduce(), with padding = 50\"\n"
     ]
    },
    {
     "name": "stderr",
     "output_type": "stream",
     "text": [
      "Warning message in dt2gr(out):\n",
      "“Warning: Coercing to GRanges via non-standard columns”"
     ]
    },
    {
     "data": {
      "text/plain": [
       "GRangesList object of length 5:\n",
       "$10 \n",
       "GRanges object with 2 ranges and 2 metadata columns:\n",
       "      seqnames                 ranges strand |         run     group\n",
       "         <Rle>              <IRanges>  <Rle> | <character> <integer>\n",
       "  [1]       14 [104605009, 104605060]      * |         1 1         1\n",
       "  [2]        5 [146981273, 146981324]      * |         1 2         1\n",
       "\n",
       "$26 \n",
       "GRanges object with 2 ranges and 2 metadata columns:\n",
       "      seqnames                 ranges strand | run group\n",
       "  [1]       19 [ 24309007,  24309058]      * | 2 1     2\n",
       "  [2]        9 [140100179, 140100230]      * | 2 2     2\n",
       "\n",
       "$49 \n",
       "GRanges object with 2 ranges and 2 metadata columns:\n",
       "      seqnames                 ranges strand | run group\n",
       "  [1]       17 [  4803007,   4803058]      * | 3 1     3\n",
       "  [2]        5 [132216700, 132216751]      * | 3 2     3\n",
       "\n",
       "...\n",
       "<2 more elements>\n",
       "-------\n",
       "seqinfo: 25 sequences from an unspecified genome"
      ]
     },
     "metadata": {},
     "output_type": "display_data"
    }
   ],
   "source": [
    "## create input GRangeList 'grl_size_five'\n",
    "\n",
    "grl_size_five = grl1[1:5]\n",
    "\n",
    "print(grl_size_five)\n",
    "print('')\n",
    "print('apply grl.reduce(), with padding = 50')\n",
    "\n",
    "grl.reduce(grl_size_five, pad = 50, clip=TRUE)"
   ]
  },
  {
   "cell_type": "markdown",
   "metadata": {},
   "source": [
    "# gr.duplicated()\n",
    "### gr.duplicated allows to restrict duplicates using \"by\" columns; returns boolean vector of match status"
   ]
  },
  {
   "cell_type": "code",
   "execution_count": 52,
   "metadata": {
    "collapsed": true
   },
   "outputs": [],
   "source": [
    "## Function: \n",
    "## 'gr.duplicated' allows to restrict duplicates using \"by\" columns and allows inexact matching\n",
    "## It will return a boolean vector of the \"match status\"\n",
    "##\n",
    "## 'by' column used to restrict duplicates. See the 'by' argument for function gr.match()\n",
    "## 'type' string 'type' used. See the 'type' argument for function gr.match()\n",
    "##\n",
    "## Use:\n",
    "## gr.duplicated(input_GRangesList)\n",
    "##"
   ]
  },
  {
   "cell_type": "code",
   "execution_count": 53,
   "metadata": {},
   "outputs": [
    {
     "name": "stderr",
     "output_type": "stream",
     "text": [
      "Warning message:\n",
      "“\"ranges\" method for Hits objects is deprecated. Please use\n",
      "  overlapsRanges() instead.”"
     ]
    },
    {
     "data": {
      "text/html": [
       "<ol class=list-inline>\n",
       "\t<li>FALSE</li>\n",
       "\t<li>FALSE</li>\n",
       "\t<li>TRUE</li>\n",
       "\t<li>TRUE</li>\n",
       "\t<li>FALSE</li>\n",
       "\t<li>FALSE</li>\n",
       "\t<li>FALSE</li>\n",
       "\t<li>FALSE</li>\n",
       "\t<li>FALSE</li>\n",
       "\t<li>FALSE</li>\n",
       "</ol>\n"
      ],
      "text/latex": [
       "\\begin{enumerate*}\n",
       "\\item FALSE\n",
       "\\item FALSE\n",
       "\\item TRUE\n",
       "\\item TRUE\n",
       "\\item FALSE\n",
       "\\item FALSE\n",
       "\\item FALSE\n",
       "\\item FALSE\n",
       "\\item FALSE\n",
       "\\item FALSE\n",
       "\\end{enumerate*}\n"
      ],
      "text/markdown": [
       "1. FALSE\n",
       "2. FALSE\n",
       "3. TRUE\n",
       "4. TRUE\n",
       "5. FALSE\n",
       "6. FALSE\n",
       "7. FALSE\n",
       "8. FALSE\n",
       "9. FALSE\n",
       "10. FALSE\n",
       "\n",
       "\n"
      ],
      "text/plain": [
       " [1] FALSE FALSE  TRUE  TRUE FALSE FALSE FALSE FALSE FALSE FALSE"
      ]
     },
     "metadata": {},
     "output_type": "display_data"
    }
   ],
   "source": [
    "first_10_genes = example_genes[1:10]\n",
    "\n",
    "gr.duplicated(first_10_genes)"
   ]
  },
  {
   "cell_type": "markdown",
   "metadata": {},
   "source": [
    "# gr.dice()\n",
    "### gr.dice() \"dices up\" GRanges, returning a width=1 GRanges spanning the input"
   ]
  },
  {
   "cell_type": "code",
   "execution_count": 54,
   "metadata": {
    "collapsed": true
   },
   "outputs": [],
   "source": [
    "## Function: \n",
    "## 'gr.dice' \"dices up\" GRanges, returning a width=1 GRanges spanning the input\n",
    "##\n",
    "## Use:\n",
    "## gr.dice(input_gr)\n",
    "##"
   ]
  },
  {
   "cell_type": "code",
   "execution_count": 55,
   "metadata": {},
   "outputs": [
    {
     "data": {
      "text/plain": [
       "GRangesList object of length 3:\n",
       "$1 \n",
       "GRanges object with 7 ranges and 1 metadata column:\n",
       "      seqnames    ranges strand |           X\n",
       "         <Rle> <IRanges>  <Rle> | <character>\n",
       "  [1]        1    [3, 3]      + |           A\n",
       "  [2]        1    [4, 4]      + |           A\n",
       "  [3]        1    [5, 5]      + |           A\n",
       "  [4]        1    [6, 6]      + |           A\n",
       "  [5]        1    [7, 7]      + |           A\n",
       "  [6]        1    [8, 8]      + |           A\n",
       "  [7]        1    [9, 9]      + |           A\n",
       "\n",
       "$2 \n",
       "GRanges object with 5 ranges and 1 metadata column:\n",
       "      seqnames   ranges strand | X\n",
       "  [1]        1 [13, 13]      - | B\n",
       "  [2]        1 [12, 12]      - | B\n",
       "  [3]        1 [11, 11]      - | B\n",
       "  [4]        1 [10, 10]      - | B\n",
       "  [5]        1 [ 9,  9]      - | B\n",
       "\n",
       "$3 \n",
       "GRanges object with 8 ranges and 1 metadata column:\n",
       "      seqnames   ranges strand | X\n",
       "  [1]        1 [20, 20]      - | C\n",
       "  [2]        1 [19, 19]      - | C\n",
       "  [3]        1 [18, 18]      - | C\n",
       "  [4]        1 [17, 17]      - | C\n",
       "  [5]        1 [16, 16]      - | C\n",
       "  [6]        1 [15, 15]      - | C\n",
       "  [7]        1 [14, 14]      - | C\n",
       "  [8]        1 [13, 13]      - | C\n",
       "\n",
       "-------\n",
       "seqinfo: 1 sequence from an unspecified genome; no seqlengths"
      ]
     },
     "metadata": {},
     "output_type": "display_data"
    }
   ],
   "source": [
    "gr.dice(grexample)"
   ]
  },
  {
   "cell_type": "markdown",
   "metadata": {},
   "source": [
    "# grl.unlist()\n",
    "### grl.unlists executes a robust unlisting of GRangesList that keeps track of origin"
   ]
  },
  {
   "cell_type": "code",
   "execution_count": 56,
   "metadata": {
    "collapsed": true
   },
   "outputs": [],
   "source": [
    "## Function: \n",
    "## 'grl.unlist' executes a robust unlisting of GRangesList that keeps track of origin\n",
    "##\n",
    "## Motivation:\n",
    "## 'grl.unlist()' does a \"nice\" unlist of a GRangesList object adding a field 'grl.ix' denoting \n",
    "## which element of the GRangesList each GRanges corresponds to,  and a field 'grl.iix' which \n",
    "## saves the (local) index that that gr was in its corresponding GRangesList item\n",
    "##\n",
    "## In this way, grl.unlist() is reversible, while BiocGenerics::unlist() is not.\n",
    "##\n",
    "## Use:\n",
    "## grl.unlist(input_GRangesList)\n",
    "##"
   ]
  },
  {
   "cell_type": "code",
   "execution_count": 57,
   "metadata": {},
   "outputs": [
    {
     "data": {
      "text/plain": [
       "GRanges object with 6 ranges and 3 metadata columns:\n",
       "      seqnames                 ranges strand |       bin    grl.ix   grl.iix\n",
       "         <Rle>              <IRanges>  <Rle> | <integer> <integer> <integer>\n",
       "  [1]        8 [110374809, 110374809]      - |      4678         1         1\n",
       "  [2]       17 [ 72874459,  72874459]      + |      4678         1         2\n",
       "  [3]        7 [116166641, 116166641]      + |      4713         2         1\n",
       "  [4]       22 [ 21738147,  21738147]      - |      4713         2         2\n",
       "  [5]        6 [ 32822006,  32822006]      + |      4723         3         1\n",
       "  [6]        9 [136529010, 136529010]      - |      4723         3         2\n",
       "  -------\n",
       "  seqinfo: 25 sequences from an unspecified genome"
      ]
     },
     "metadata": {},
     "output_type": "display_data"
    }
   ],
   "source": [
    "head(grl.unlist(grl2))   ## using 'head()' as the resulting GRanges has 502 ranges"
   ]
  },
  {
   "cell_type": "markdown",
   "metadata": {},
   "source": [
    "# gr.collapse()\n",
    "### gr.collapse() executes a robust unlisting of GRanges that keeps track of origin"
   ]
  },
  {
   "cell_type": "code",
   "execution_count": 58,
   "metadata": {
    "collapsed": true
   },
   "outputs": [],
   "source": [
    "## Function: \n",
    "## 'gr.collapse' executes a robust unlisting of GRanges that keeps track of origin\n",
    "##\n",
    "## Motivation:\n",
    "## Similar to GenomicRanges::reduce() except only collapses *adjacent* ranges in the input\n",
    "## In this way, grl.unlist() is reversible, while BiocGenerics::unlist() is not.\n",
    "##\n",
    "## Args:\n",
    "## 'pad' Padding for not quite adjacent elements to be considered overlapping (default = 1)\n",
    "##\n",
    "## Use:\n",
    "## gr.collapse(input_GRanges)\n",
    "##"
   ]
  },
  {
   "cell_type": "code",
   "execution_count": 59,
   "metadata": {
    "collapsed": true
   },
   "outputs": [],
   "source": [
    "## gr.collapse(grexample)"
   ]
  },
  {
   "cell_type": "markdown",
   "metadata": {},
   "source": [
    "# rle.query()\n",
    "### rle.query() queries an 'RleList' representing genomic data, returning an Rle representing the (concatenated) vector of data"
   ]
  },
  {
   "cell_type": "code",
   "execution_count": 60,
   "metadata": {
    "collapsed": true
   },
   "outputs": [],
   "source": [
    "## Function: \n",
    "## 'rle.query' queries an 'RleList' representing genomic data, returning an  \n",
    "## 'Rle' representing the (concatenated) vector of data\n",
    "## This function has been implemeneted to be multithreaded via 'parallel:mc.cores()'\n",
    "##\n",
    "## Motivation:\n",
    "## Recall: An Rle (run-length-encoded) vector is a specific representation of a vector\n",
    "## An Rle is an efficient data structure if (1) the vector is quite large and/or\n",
    "## (2) there are many consecutive values of the same identity. \n",
    "##\n",
    "## Args:\n",
    "## 'subject.rle' Rle\n",
    "## 'query.gr' GRangeslist or GRanges\n",
    "## 'chunksize' integer Number of \\code{query.gr} ranges to consider in one memory chunk. (default = 1e9)\n",
    "## 'mc.cores' Number of cores to apply when doing chunked operation (default = 1)\n",
    "## 'verbose' Set the verbosity of the output (default = FALSE)\n",
    "## \n",
    "## Use:\n",
    "## rle.query(subject.rle, query.gr)\n",
    "##"
   ]
  },
  {
   "cell_type": "code",
   "execution_count": 61,
   "metadata": {},
   "outputs": [
    {
     "name": "stdout",
     "output_type": "stream",
     "text": [
      "[1] \"example_rlelist\"\n",
      "RleList of length 2\n",
      "$chr1\n",
      "integer-Rle of length 55 with 10 runs\n",
      "  Lengths:  1  2  3  4  5  6  7  8  9 10\n",
      "  Values : 10  9  8  7  6  5  4  3  2  1\n",
      "\n",
      "$chr2\n",
      "integer-Rle of length 55 with 10 runs\n",
      "  Lengths:  1  2  3  4  5  6  7  8  9 10\n",
      "  Values : 10  9  8  7  6  5  4  3  2  1\n",
      "\n",
      "[1] \"rle.query()\"\n"
     ]
    },
    {
     "data": {
      "text/plain": [
       "logical-Rle of length 20 with 1 run\n",
       "  Lengths: 20\n",
       "  Values : NA"
      ]
     },
     "metadata": {},
     "output_type": "display_data"
    }
   ],
   "source": [
    "## an example RleList\n",
    "chr1_Rle = Rle(10:1, 1:10)\n",
    "chr2_Rle = Rle(10:1, 1:10)\n",
    "example_rlelist = RleList( chr1=chr1_Rle, chr2=chr2_Rle)\n",
    "\n",
    "print('example_rlelist')\n",
    "print(example_rlelist)\n",
    "\n",
    "\n",
    "print('rle.query()')\n",
    "rle.query(example_rlelist, grexample)"
   ]
  },
  {
   "cell_type": "markdown",
   "metadata": {},
   "source": [
    "# grl.pivot()\n",
    "### grl.pivot() pivots GRangesList object 'x' by returning a new GRangesList 'y' whose kth item is GRanges object of ranges x[[i]][k] for all i in 1:length(x) "
   ]
  },
  {
   "cell_type": "code",
   "execution_count": 62,
   "metadata": {
    "collapsed": true
   },
   "outputs": [],
   "source": [
    "## Function: \n",
    "## 'grl.pivot' pivots GRangesList object 'x' by returning a new GRangesList 'y' whose\n",
    "## kth item is GRanges object of ranges x[[i]][k] for all i in 1:length(x) \n",
    "## \n",
    "## e.g. If the length of a GRangesList `grl is 50, `length(grl)=50`, and the length of each GRanges element inside is 2, \n",
    "## then 'grl.pivot(grl' will produce a length 3 GRangesList with 50 elements per GRanges\n",
    "##\n",
    "## Note: Assumes all GRanges in \"x\" are of equal length\n",
    "##\n",
    "##\n",
    "## Use:\n",
    "## grl.pivot(input_GRangesList)\n",
    "##"
   ]
  },
  {
   "cell_type": "code",
   "execution_count": 63,
   "metadata": {},
   "outputs": [
    {
     "data": {
      "text/plain": [
       "GRangesList object of length 2:\n",
       "$1 \n",
       "GRanges object with 250 ranges and 1 metadata column:\n",
       "       seqnames                 ranges strand |       bin\n",
       "          <Rle>              <IRanges>  <Rle> | <integer>\n",
       "    10        5 [146981323, 146981323]      - |        10\n",
       "    26        9 [140100229, 140100229]      - |        26\n",
       "    49        5 [132216750, 132216750]      - |        49\n",
       "    50       11 [  9492855,   9492855]      - |        50\n",
       "    88        2 [228337137, 228337137]      + |        88\n",
       "   ...      ...                    ...    ... .       ...\n",
       "  4601        2 [ 69002312,  69002312]      + |      4601\n",
       "  4604        6 [136173136, 136173136]      + |      4604\n",
       "  4643        8 [ 22005672,  22005672]      - |      4643\n",
       "  4673        4 [ 71554394,  71554394]      - |      4673\n",
       "  4678        8 [110374809, 110374809]      - |      4678\n",
       "\n",
       "...\n",
       "<1 more element>\n",
       "-------\n",
       "seqinfo: 25 sequences from an unspecified genome"
      ]
     },
     "metadata": {},
     "output_type": "display_data"
    }
   ],
   "source": [
    "head(grl.pivot(grl1))"
   ]
  },
  {
   "cell_type": "markdown",
   "metadata": {},
   "source": [
    "# gr.sub()\n",
    "### gr.sub() applies gsub to seqlevels of input GRanges"
   ]
  },
  {
   "cell_type": "code",
   "execution_count": 64,
   "metadata": {
    "collapsed": true
   },
   "outputs": [],
   "source": [
    "## Function: \n",
    "## 'gr.sub' applies gsub to seqlevels of input GRanges\n",
    "## by default, removes 'chr', and \"0.1\" suffixes, and replaces \"MT\" with \"M\"\n",
    "## kth item is GRanges object of ranges x[[i]][k] for all i in 1:length(x) \n",
    "## \n",
    "## 'a' vector of regular expressions of things to substitute out (default = c(\"(^chr)(\\\\.1$)\", \"MT\"))\n",
    "## 'b' vector of values to substitute in (default = c(\"\", \"M\"))\n",
    "## \n",
    "## Use:\n",
    "## gr.sub(input_GRanges)\n",
    "##"
   ]
  },
  {
   "cell_type": "code",
   "execution_count": 65,
   "metadata": {},
   "outputs": [
    {
     "data": {
      "text/html": [
       "'chr1'"
      ],
      "text/latex": [
       "'chr1'"
      ],
      "text/markdown": [
       "'chr1'"
      ],
      "text/plain": [
       "[1] \"chr1\""
      ]
     },
     "metadata": {},
     "output_type": "display_data"
    }
   ],
   "source": [
    "seqlevels(grexample) = 'chr1'\n",
    "seqlevels(gr.sub(grexample))"
   ]
  },
  {
   "cell_type": "markdown",
   "metadata": {},
   "source": [
    "# seg2gr()\n",
    "### seg2gr() converts \"GRanges-like\" data.frame into GRanges"
   ]
  },
  {
   "cell_type": "code",
   "execution_count": 66,
   "metadata": {
    "collapsed": true
   },
   "outputs": [],
   "source": [
    "## Function: \n",
    "## 'seg2gr' converts \"GRanges-like\" data.frame into GRanges\n",
    "##\n",
    "## There are a number of acceptable columns to specify chromsomes, segment starts, segment ends, and strand\n",
    "## Please refer to 'standardize_segs()' for full details.\n",
    "## \n",
    "## Use:\n",
    "## seg2gr(input_data.frame)\n",
    "##"
   ]
  },
  {
   "cell_type": "code",
   "execution_count": 67,
   "metadata": {},
   "outputs": [
    {
     "data": {},
     "metadata": {},
     "output_type": "display_data"
    },
    {
     "name": "stdout",
     "output_type": "stream",
     "text": [
      "[1] \"print(dt) outputs\"\n",
      "   seqnames start end strand\n",
      "1:        1     2   3      *\n",
      "2:        1     5   8      *\n",
      "3:        1    10  15      *\n",
      "[1] \"seg2gr(dt) outputs\"\n"
     ]
    },
    {
     "data": {
      "text/plain": [
       "GRanges object with 3 ranges and 0 metadata columns:\n",
       "      seqnames    ranges strand\n",
       "         <Rle> <IRanges>  <Rle>\n",
       "  [1]        1  [ 2,  3]      *\n",
       "  [2]        1  [ 5,  8]      *\n",
       "  [3]        1  [10, 15]      *\n",
       "  -------\n",
       "  seqinfo: 1 sequence from an unspecified genome; no seqlengths"
      ]
     },
     "metadata": {},
     "output_type": "display_data"
    }
   ],
   "source": [
    "dt[, strand := '*']  ## define strand column in data.table dt\n",
    "## similar to defining columns in data.frame, i.e.'dt$strand = \"*\"'\n",
    "\n",
    "print('print(dt) outputs')\n",
    "print(dt)\n",
    "\n",
    "print('seg2gr(dt) outputs')\n",
    "seg2gr(dt)   ## outputs converted data.table"
   ]
  },
  {
   "cell_type": "code",
   "execution_count": 68,
   "metadata": {
    "collapsed": true
   },
   "outputs": [],
   "source": [
    "## segments_dt = data.table(patient = c('patient11235813', 'patient3141592', 'patient42'), \n",
    "##                         chromosome = c('chr3', 'chr5', 'chrX'), \n",
    "##                         start_position = c(1000, 2000, 3000), \n",
    "##                         end_position = c(5000, 6000, 7000), \n",
    "##                         strand = c('-', '+', '*'))\n",
    "##                         \n",
    "## \n",
    "## seg2gr(segments_dt)\n",
    "## "
   ]
  },
  {
   "cell_type": "markdown",
   "metadata": {},
   "source": [
    "# grl.eval()\n",
    "### grl.eval() evaluates and aggregates an R expression on GRanges column in GRangesList"
   ]
  },
  {
   "cell_type": "code",
   "execution_count": 69,
   "metadata": {
    "collapsed": true
   },
   "outputs": [],
   "source": [
    "## Function: \n",
    "## 'grl.eval' evaluates and aggregates an R expression on GRanges column in GRangesList\n",
    "##\n",
    "## Args:\n",
    "## 'expr' Any syntactically valid R expression, on columns of GRanges or GRangesList\n",
    "## \n",
    "## Use:\n",
    "## grl.eval(input_GRangesList, expr=valid_R_expression)\n",
    "##"
   ]
  },
  {
   "cell_type": "code",
   "execution_count": 70,
   "metadata": {},
   "outputs": [
    {
     "data": {
      "text/html": [
       "<ol class=list-inline>\n",
       "\t<li>100</li>\n",
       "\t<li>100</li>\n",
       "\t<li>676</li>\n",
       "\t<li>676</li>\n",
       "\t<li>2401</li>\n",
       "</ol>\n"
      ],
      "text/latex": [
       "\\begin{enumerate*}\n",
       "\\item 100\n",
       "\\item 100\n",
       "\\item 676\n",
       "\\item 676\n",
       "\\item 2401\n",
       "\\end{enumerate*}\n"
      ],
      "text/markdown": [
       "1. 100\n",
       "2. 100\n",
       "3. 676\n",
       "4. 676\n",
       "5. 2401\n",
       "\n",
       "\n"
      ],
      "text/plain": [
       "[1]  100  100  676  676 2401"
      ]
     },
     "metadata": {},
     "output_type": "display_data"
    },
    {
     "data": {
      "text/html": [
       "<ol class=list-inline>\n",
       "\t<li>-4</li>\n",
       "\t<li>-4</li>\n",
       "\t<li>-4</li>\n",
       "\t<li>-4</li>\n",
       "\t<li>-4</li>\n",
       "</ol>\n"
      ],
      "text/latex": [
       "\\begin{enumerate*}\n",
       "\\item -4\n",
       "\\item -4\n",
       "\\item -4\n",
       "\\item -4\n",
       "\\item -4\n",
       "\\end{enumerate*}\n"
      ],
      "text/markdown": [
       "1. -4\n",
       "2. -4\n",
       "3. -4\n",
       "4. -4\n",
       "5. -4\n",
       "\n",
       "\n"
      ],
      "text/plain": [
       "[1] -4 -4 -4 -4 -4"
      ]
     },
     "metadata": {},
     "output_type": "display_data"
    }
   ],
   "source": [
    "## NOTE: only printing first 5 rows\n",
    "\n",
    "## calculate 'bin ** 2' whereby bin is the metadata column in 'grl1'\n",
    "grl.eval(grl1, bin**2)[1:5]  \n",
    "\n",
    "## calculate 'width() - 5' \n",
    "grl.eval(grl1, width-5)[1:5]\n"
   ]
  },
  {
   "cell_type": "markdown",
   "metadata": {},
   "source": [
    "# gr.simplify()\n",
    "### gr.simplify() calculates the pairwise-distance for SV rearrangements represented by GRangesList"
   ]
  },
  {
   "cell_type": "code",
   "execution_count": 71,
   "metadata": {
    "collapsed": true
   },
   "outputs": [],
   "source": [
    "## Function: \n",
    "## 'gr.simplify' calculates the pairwise-distance for SV rearrangements represented by GRangesList\n",
    "##\n",
    "## Args:\n",
    "## 'field' character scalar, corresponding to value field of input GRanges. (default = NULL)\n",
    "## val character scalar (default = NULL)\n",
    "## include.val If TRUE, will include in out input GRanges the values field of first matching record in said input GRanges. (default = TRUE)\n",
    "## split If TRUE, will split the output into GRangesList split by \"field\". (default = FALSE)\n",
    "## pad integer Pad ranges by this amount before doing merge. [1], which merges contiguous but non-overlapping ranges. (default = 1)\n",
    "##\n",
    "## \n",
    "## Use:\n",
    "## gr.simplify(input_GRanges, field = NULL, val = NULL, include.val = TRUE, split = FALSE, pad = 1)\n",
    "##"
   ]
  },
  {
   "cell_type": "code",
   "execution_count": 72,
   "metadata": {},
   "outputs": [
    {
     "data": {
      "text/plain": [
       "GRangesList object of length 3:\n",
       "$A \n",
       "GRanges object with 1 range and 1 metadata column:\n",
       "      seqnames    ranges strand |           X\n",
       "         <Rle> <IRanges>  <Rle> | <character>\n",
       "  [1]     chr1    [3, 9]      + |           A\n",
       "\n",
       "$B \n",
       "GRanges object with 1 range and 1 metadata column:\n",
       "      seqnames  ranges strand | X\n",
       "  [1]     chr1 [9, 13]      - | B\n",
       "\n",
       "$C \n",
       "GRanges object with 1 range and 1 metadata column:\n",
       "      seqnames   ranges strand | X\n",
       "  [1]     chr1 [13, 20]      - | C\n",
       "\n",
       "-------\n",
       "seqinfo: 1 sequence from an unspecified genome; no seqlengths"
      ]
     },
     "metadata": {},
     "output_type": "display_data"
    }
   ],
   "source": [
    "gr.simplify(grexample, pad=4, field=\"name\", split = TRUE)"
   ]
  },
  {
   "cell_type": "markdown",
   "metadata": {},
   "source": [
    "# gr.parse()\n",
    "### gr.parse() returns GRanges parsed from input IGV-/UCSC-style strings"
   ]
  },
  {
   "cell_type": "code",
   "execution_count": 73,
   "metadata": {
    "collapsed": true
   },
   "outputs": [],
   "source": [
    "## Function: \n",
    "## 'gr.parse' returns GRanges parsed from input IGV-/UCSC-style strings\n",
    "## \n",
    "## Use:\n",
    "## gr.parse(input_IGV_UCSC_strings)\n",
    "##"
   ]
  },
  {
   "cell_type": "code",
   "execution_count": 74,
   "metadata": {},
   "outputs": [
    {
     "data": {
      "text/plain": [
       "GRanges object with 2 ranges and 0 metadata columns:\n",
       "      seqnames             ranges strand\n",
       "         <Rle>          <IRanges>  <Rle>\n",
       "  [1]        1 [1000000, 5000000]      +\n",
       "  [2]        2 [2000000, 5000000]      -\n",
       "  -------\n",
       "  seqinfo: 25 sequences from an unspecified genome"
      ]
     },
     "metadata": {},
     "output_type": "display_data"
    }
   ],
   "source": [
    "parse.gr(c('1:1e6-5e6+', '2:2e6-5e6-'))"
   ]
  },
  {
   "cell_type": "markdown",
   "metadata": {},
   "source": [
    "# grl.parse()\n",
    "### grl.parse() eturns GRangesList parsed from input IGV-/UCSC-style strings"
   ]
  },
  {
   "cell_type": "code",
   "execution_count": 75,
   "metadata": {
    "collapsed": true
   },
   "outputs": [],
   "source": [
    "## Function: \n",
    "## 'grl.parse' returns GRangesList parsed from input IGV-/UCSC-style strings\n",
    "## \n",
    "## Use:\n",
    "## grl.parse(input_IGV_UCSC_strings)\n",
    "##"
   ]
  },
  {
   "cell_type": "code",
   "execution_count": 76,
   "metadata": {},
   "outputs": [
    {
     "data": {
      "text/plain": [
       "GRangesList object of length 2:\n",
       "[[1]] \n",
       "GRanges object with 2 ranges and 0 metadata columns:\n",
       "      seqnames             ranges strand\n",
       "         <Rle>          <IRanges>  <Rle>\n",
       "  [1]        1 [1000000, 5000000]      +\n",
       "  [2]        5 [     10,    2000]      *\n",
       "\n",
       "[[2]] \n",
       "GRanges object with 2 ranges and 0 metadata columns:\n",
       "      seqnames                 ranges strand\n",
       "  [1]        2 [  2000000,   5000000]      -\n",
       "  [2]       10 [100231321, 100231399]      *\n",
       "\n",
       "-------\n",
       "seqinfo: 25 sequences from an unspecified genome"
      ]
     },
     "metadata": {},
     "output_type": "display_data"
    }
   ],
   "source": [
    "parse.grl(c('1:1e6-5e6+;5:10-2000', '2:2e6-5e6-;10:100231321-100231399'))"
   ]
  },
  {
   "cell_type": "markdown",
   "metadata": {},
   "source": [
    "# gr.sum()\n",
    "### gr.sum() sums either by doing coverage and either weighting them equally or using a field \"weight\"."
   ]
  },
  {
   "cell_type": "code",
   "execution_count": 77,
   "metadata": {
    "collapsed": true
   },
   "outputs": [],
   "source": [
    "## Function: \n",
    "## gr.sum() sums either by doing coverage and either weighting them equally\n",
    "## or using a field \"weight\".  Will return either sum or average.\n",
    "##\n",
    "## Args: \n",
    "## 'field' field from input GRanges to use as a weight\n",
    "## 'mean' if TRUE, calculates mena. Flag specifies whether to divide the output at each interval but the total number of intervals overlapping it (only applies if field == NULL) (default FALSE)\n",
    "##\n",
    "## gr.sum(input_GRanges)"
   ]
  },
  {
   "cell_type": "code",
   "execution_count": 78,
   "metadata": {},
   "outputs": [
    {
     "data": {
      "text/plain": [
       "GRanges object with 6 ranges and 1 metadata column:\n",
       "      seqnames    ranges strand |     score\n",
       "         <Rle> <IRanges>  <Rle> | <numeric>\n",
       "  [1]     chr1  [ 1,  2]      * |         0\n",
       "  [2]     chr1  [ 3,  8]      * |         1\n",
       "  [3]     chr1  [ 9,  9]      * |         2\n",
       "  [4]     chr1  [10, 12]      * |         1\n",
       "  [5]     chr1  [13, 13]      * |         2\n",
       "  [6]     chr1  [14, 20]      * |         1\n",
       "  -------\n",
       "  seqinfo: 1 sequence from an unspecified genome"
      ]
     },
     "metadata": {},
     "output_type": "display_data"
    }
   ],
   "source": [
    "gr.sum(grexample)"
   ]
  },
  {
   "cell_type": "code",
   "execution_count": 79,
   "metadata": {},
   "outputs": [
    {
     "data": {
      "text/plain": [
       "GRanges object with 6 ranges and 1 metadata column:\n",
       "      seqnames    ranges strand |        GC\n",
       "         <Rle> <IRanges>  <Rle> | <numeric>\n",
       "  [1]     chr1  [ 1,  2]      * |         0\n",
       "  [2]     chr1  [ 3,  8]      * |      0.75\n",
       "  [3]     chr1  [ 9,  9]      * |      1.75\n",
       "  [4]     chr1  [10, 12]      * |         1\n",
       "  [5]     chr1  [13, 13]      * |      1.25\n",
       "  [6]     chr1  [14, 20]      * |      0.25\n",
       "  -------\n",
       "  seqinfo: 1 sequence from an unspecified genome"
      ]
     },
     "metadata": {},
     "output_type": "display_data"
    }
   ],
   "source": [
    "grexample$GC = c(0.75, 1.0, 0.25)  ## add 'GC' column\n",
    "\n",
    "gr.sum(grexample, field='GC')"
   ]
  },
  {
   "cell_type": "code",
   "execution_count": null,
   "metadata": {
    "collapsed": true
   },
   "outputs": [],
   "source": []
  },
  {
   "cell_type": "code",
   "execution_count": null,
   "metadata": {
    "collapsed": true
   },
   "outputs": [],
   "source": []
  },
  {
   "cell_type": "code",
   "execution_count": null,
   "metadata": {
    "collapsed": true
   },
   "outputs": [],
   "source": []
  }
 ],
 "metadata": {
  "kernelspec": {
   "display_name": "R 3.3",
   "language": "R",
   "name": "ir33"
  },
  "language_info": {
   "codemirror_mode": "r",
   "file_extension": ".r",
   "mimetype": "text/x-r-source",
   "name": "R",
   "pygments_lexer": "r",
   "version": "3.4.3"
  }
 },
 "nbformat": 4,
 "nbformat_minor": 2
}
