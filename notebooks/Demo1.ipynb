{
 "cells": [
  {
   "cell_type": "markdown",
   "metadata": {
    "collapsed": true
   },
   "source": [
    "# Introduction\n",
    "\n",
    "### This notebook serves as a tutorial for using `gUtils` functions.\n",
    "\n",
    "### gUtils is an R package developed to extend the functionality of GenomicRanges,  the R package which stores genomic data and represents genomic locations in the Bioconductor project "
   ]
  },
  {
   "cell_type": "markdown",
   "metadata": {
    "collapsed": true
   },
   "source": [
    "## Load the necessary packages and data\n",
    "\n",
    "### Although it is not a required dependency, we recommmend that users download a BSGenome, the structure used to represent full genomes within Bioconductor packages. \n",
    "\n",
    "### Please install with `biocLite()`\n",
    "\n",
    "```r\n",
    "### try http:// if https:// URLs are not supported\n",
    "source(\"https://bioconductor.org/biocLite.R\")\n",
    "biocLite(\"BSgenome.Hsapiens.UCSC.hg19\")\n",
    "```\n",
    "\n",
    "### See the BSgenome documentation for more details: https://bioconductor.org/packages/release/data/annotation/html/BSgenome.Hsapiens.UCSC.hg19.html\n"
   ]
  },
  {
   "cell_type": "markdown",
   "metadata": {},
   "source": [
    "# Load gUtils"
   ]
  },
  {
   "cell_type": "code",
   "execution_count": 1,
   "metadata": {},
   "outputs": [],
   "source": [
    "suppressWarnings(suppressMessages(library(gUtils)))"
   ]
  },
  {
   "cell_type": "markdown",
   "metadata": {},
   "source": [
    "### Load `BSgenome.Hsapiens.UCSC.hg19`  and set with the variable `DEFAULT_BSGENOME` in your environment:"
   ]
  },
  {
   "cell_type": "code",
   "execution_count": 2,
   "metadata": {},
   "outputs": [
    {
     "name": "stderr",
     "output_type": "stream",
     "text": [
      "Loading required package: BSgenome\n",
      "Loading required package: Biostrings\n",
      "Loading required package: XVector\n",
      "\n",
      "Attaching package: ‘Biostrings’\n",
      "\n",
      "The following object is masked from ‘package:base’:\n",
      "\n",
      "    strsplit\n",
      "\n",
      "Loading required package: rtracklayer\n"
     ]
    }
   ],
   "source": [
    "library(BSgenome.Hsapiens.UCSC.hg19)\n",
    "Sys.setenv(DEFAULT_BSGENOME = 'BSgenome.Hsapiens.UCSC.hg19::Hsapiens')"
   ]
  },
  {
   "cell_type": "markdown",
   "metadata": {},
   "source": [
    "# Create GRanges objects for examples"
   ]
  },
  {
   "cell_type": "code",
   "execution_count": 3,
   "metadata": {},
   "outputs": [
    {
     "name": "stdout",
     "output_type": "stream",
     "text": [
      "GRanges object with 3 ranges and 1 metadata column:\n",
      "      seqnames    ranges strand |        name\n",
      "         <Rle> <IRanges>  <Rle> | <character>\n",
      "  [1]        1  [ 3,  9]      + |           A\n",
      "  [2]        1  [ 9, 13]      - |           B\n",
      "  [3]        1  [13, 20]      - |           C\n",
      "  -------\n",
      "  seqinfo: 1 sequence from an unspecified genome; no seqlengths\n"
     ]
    }
   ],
   "source": [
    "## instantiate an example GRanges objects, gr\n",
    "\n",
    "gr = GRanges(1, IRanges(c(3, 9, 13), c(9, 13, 20)), strand=c('+','-','-'), name=c(\"A\",\"B\",\"C\"))\n",
    "\n",
    "print(gr)"
   ]
  },
  {
   "cell_type": "code",
   "execution_count": 4,
   "metadata": {},
   "outputs": [
    {
     "name": "stdout",
     "output_type": "stream",
     "text": [
      "GRanges object with 10 ranges and 2 metadata columns:\n",
      "    seqnames     ranges strand |     score                GC\n",
      "       <Rle>  <IRanges>  <Rle> | <integer>         <numeric>\n",
      "  a        1 [101, 111]      - |         1                 1\n",
      "  b        2 [102, 112]      + |         2 0.888888888888889\n",
      "  c        2 [103, 113]      + |         3 0.777777777777778\n",
      "  d        2 [104, 114]      * |         4 0.666666666666667\n",
      "  e        1 [105, 115]      * |         5 0.555555555555556\n",
      "  f        1 [106, 116]      + |         6 0.444444444444444\n",
      "  g        3 [107, 117]      + |         7 0.333333333333333\n",
      "  h        3 [108, 118]      + |         8 0.222222222222222\n",
      "  i        3 [109, 119]      - |         9 0.111111111111111\n",
      "  j        3 [110, 120]      - |        10                 0\n",
      "  -------\n",
      "  seqinfo: 3 sequences from an unspecified genome; no seqlengths\n",
      "GRanges object with 3 ranges and 1 metadata column:\n",
      "      seqnames     ranges strand |        name\n",
      "         <Rle>  <IRanges>  <Rle> | <character>\n",
      "  [1]        1 [103, 105]      + |           A\n",
      "  [2]        1 [107, 109]      - |           B\n",
      "  [3]        1 [113, 116]      - |           C\n",
      "  -------\n",
      "  seqinfo: 1 sequence from an unspecified genome; no seqlengths\n"
     ]
    }
   ],
   "source": [
    "## instantiate multiple GRanges objects (to be used in examples below)\n",
    "\n",
    "gr1 = suppressWarnings(GRanges(\n",
    "    seqnames = Rle(c(1, 2, 1, 3), c(1, 3, 2, 4)),\n",
    "    ranges = IRanges(101:110, end = 111:120, names = head(letters, 10)),\n",
    "    strand = Rle(strand(c(\"-\", \"+\", \"*\", \"+\", \"-\")), c(1, 2, 2, 3, 2)),\n",
    "    score = 1:10,\n",
    "    GC = seq(1, 0, length=10)))\n",
    "\n",
    "gr2 = GRanges(1, IRanges(c(103, 107, 113), c(105, 109, 116)), \n",
    "    strand=c('+','-','-'), \n",
    "    name=c(\"A\",\"B\",\"C\"))\n",
    "\n",
    "print(gr1)\n",
    "\n",
    "\n",
    "print(gr2)"
   ]
  },
  {
   "cell_type": "markdown",
   "metadata": {},
   "source": [
    "## Functions %-% and %+%"
   ]
  },
  {
   "cell_type": "code",
   "execution_count": 5,
   "metadata": {},
   "outputs": [
    {
     "data": {
      "text/plain": [
       "GRanges object with 3 ranges and 1 metadata column:\n",
       "      seqnames    ranges strand |        name\n",
       "         <Rle> <IRanges>  <Rle> | <character>\n",
       "  [1]        1  [-2, 14]      + |           A\n",
       "  [2]        1  [ 4, 18]      - |           B\n",
       "  [3]        1  [ 8, 25]      - |           C\n",
       "  -------\n",
       "  seqinfo: 1 sequence from an unspecified genome; no seqlengths"
      ]
     },
     "metadata": {},
     "output_type": "display_data"
    },
    {
     "data": {
      "text/plain": [
       "GRanges object with 3 ranges and 1 metadata column:\n",
       "      seqnames    ranges strand |        name\n",
       "         <Rle> <IRanges>  <Rle> | <character>\n",
       "  [1]        1  [ 5,  7]      + |           A\n",
       "  [2]        1  [11, 11]      - |           B\n",
       "  [3]        1  [15, 18]      - |           C\n",
       "  -------\n",
       "  seqinfo: 1 sequence from an unspecified genome; no seqlengths"
      ]
     },
     "metadata": {},
     "output_type": "display_data"
    }
   ],
   "source": [
    "## Motivation:\n",
    "## Adding integer N to a GRanges object with IRanges(start, end) \n",
    "## will result in a GRanges with IRanges(start - N, end + N)\n",
    "gr + 5\n",
    "\n",
    "## Subtracting integer N to a GRanges object with IRanges(start, end) \n",
    "## will result in a GRanges with IRanges(start + N, end - N)\n",
    "gr - 2\n",
    "\n",
    "## The functions '%+%' and '%-%' are designed to easily manipulate a GRanges object to add/substract bases \n",
    "## to 'start' and 'end' "
   ]
  },
  {
   "cell_type": "markdown",
   "metadata": {},
   "source": [
    "## %+% : shifts GRanges by N bases to the right"
   ]
  },
  {
   "cell_type": "code",
   "execution_count": 6,
   "metadata": {
    "collapsed": true
   },
   "outputs": [],
   "source": [
    "## Function: \n",
    "## '%+%' is an operator which shifts GRanges by N bases to the right, i.e. IRanges(start + N, end + N)\n",
    "## Use:\n",
    "## gr %+% N = original GRanges 'gr' shifted N bases to the right."
   ]
  },
  {
   "cell_type": "code",
   "execution_count": 7,
   "metadata": {},
   "outputs": [
    {
     "data": {
      "text/plain": [
       "GRanges object with 3 ranges and 1 metadata column:\n",
       "      seqnames    ranges strand |        name\n",
       "         <Rle> <IRanges>  <Rle> | <character>\n",
       "  [1]        1  [ 8, 14]      + |           A\n",
       "  [2]        1  [14, 18]      - |           B\n",
       "  [3]        1  [18, 25]      - |           C\n",
       "  -------\n",
       "  seqinfo: 1 sequence from an unspecified genome; no seqlengths"
      ]
     },
     "metadata": {},
     "output_type": "display_data"
    }
   ],
   "source": [
    "gr %+% 5"
   ]
  },
  {
   "cell_type": "markdown",
   "metadata": {},
   "source": [
    "## %-% : shifts GRanges by N bases to the left"
   ]
  },
  {
   "cell_type": "code",
   "execution_count": 8,
   "metadata": {
    "collapsed": true
   },
   "outputs": [],
   "source": [
    "## Function: \n",
    "## '%-%' is an operator which shifts GRanges by N bases to the left, , i.e. IRanges(start - N, end - N)\n",
    "## Use:\n",
    "## gr %-% N = original GRanges 'gr' shifted N bases to the right."
   ]
  },
  {
   "cell_type": "code",
   "execution_count": 9,
   "metadata": {},
   "outputs": [
    {
     "data": {
      "text/plain": [
       "GRanges object with 3 ranges and 1 metadata column:\n",
       "      seqnames    ranges strand |        name\n",
       "         <Rle> <IRanges>  <Rle> | <character>\n",
       "  [1]        1  [-2,  4]      + |           A\n",
       "  [2]        1  [ 4,  8]      - |           B\n",
       "  [3]        1  [ 8, 15]      - |           C\n",
       "  -------\n",
       "  seqinfo: 1 sequence from an unspecified genome; no seqlengths"
      ]
     },
     "metadata": {},
     "output_type": "display_data"
    }
   ],
   "source": [
    "gr %-% 5"
   ]
  },
  {
   "cell_type": "markdown",
   "metadata": {},
   "source": [
    "## %Q% : subsets the GRanges based on conditionals"
   ]
  },
  {
   "cell_type": "code",
   "execution_count": 10,
   "metadata": {
    "collapsed": true
   },
   "outputs": [],
   "source": [
    "## Function: \n",
    "## '%Q%' subsets the GRanges 'gr' based on conditionals of the metadata columns in 'gr'\n",
    "## Use:\n",
    "## gr %Q% (gene_names == 'KRAS')\n",
    "## gr %Q% ((mapq >= 40) && (GC < 0.5))\n",
    "## gr %Q% (width < 100)"
   ]
  },
  {
   "cell_type": "code",
   "execution_count": 11,
   "metadata": {},
   "outputs": [
    {
     "data": {
      "text/plain": [
       "GRanges object with 2 ranges and 1 metadata column:\n",
       "      seqnames    ranges strand |        name\n",
       "         <Rle> <IRanges>  <Rle> | <character>\n",
       "  [1]        1  [ 3,  9]      + |           A\n",
       "  [2]        1  [13, 20]      - |           C\n",
       "  -------\n",
       "  seqinfo: 1 sequence from an unspecified genome; no seqlengths"
      ]
     },
     "metadata": {},
     "output_type": "display_data"
    }
   ],
   "source": [
    "gr %Q% (name != 'B')"
   ]
  },
  {
   "cell_type": "markdown",
   "metadata": {},
   "source": [
    "##  %*% : Performs \"natural join\" or merge of metadata columns of two GRanges"
   ]
  },
  {
   "cell_type": "code",
   "execution_count": 12,
   "metadata": {
    "collapsed": true
   },
   "outputs": [],
   "source": [
    "## Function: \n",
    "## '%*%' Performs \"natural join\" or merge of metadata columns of grA and grB \n",
    "## using interval overlap as a \"primary key\", outputs a new GRanges whose maximum length is length(grA)*length(grB). \n",
    "## (See please see documentation for function 'gr.findoverlaps()' for more complex queries)\n",
    "## Use:\n",
    "## grA %*% grB   # strand-agnostic merging\n",
    "## grA %**% grB  # strand-specific merging"
   ]
  },
  {
   "cell_type": "code",
   "execution_count": 13,
   "metadata": {},
   "outputs": [
    {
     "name": "stderr",
     "output_type": "stream",
     "text": [
      "Warning message:\n",
      "“\"ranges\" method for Hits objects is deprecated. Please use\n",
      "  overlapsRanges() instead.”"
     ]
    },
    {
     "data": {
      "text/plain": [
       "GRanges object with 7 ranges and 5 metadata columns:\n",
       "      seqnames     ranges strand |  query.id subject.id     score        GC\n",
       "         <Rle>  <IRanges>  <Rle> | <integer>  <integer> <integer> <numeric>\n",
       "  [1]        1 [103, 105]      * |         1          1         1 1.0000000\n",
       "  [2]        1 [105, 105]      * |         5          1         5 0.5555556\n",
       "  [3]        1 [107, 109]      * |         1          2         1 1.0000000\n",
       "  [4]        1 [107, 109]      * |         5          2         5 0.5555556\n",
       "  [5]        1 [107, 109]      * |         6          2         6 0.4444444\n",
       "  [6]        1 [113, 115]      * |         5          3         5 0.5555556\n",
       "  [7]        1 [113, 116]      * |         6          3         6 0.4444444\n",
       "             name\n",
       "      <character>\n",
       "  [1]           A\n",
       "  [2]           A\n",
       "  [3]           B\n",
       "  [4]           B\n",
       "  [5]           B\n",
       "  [6]           C\n",
       "  [7]           C\n",
       "  -------\n",
       "  seqinfo: 25 sequences from an unspecified genome"
      ]
     },
     "metadata": {},
     "output_type": "display_data"
    }
   ],
   "source": [
    "## grA %*% grB  # strand-agnostic merging\n",
    "\n",
    "gr1 %*% gr2   ## gr2 %*% gr1 will have metadata columns in a different order"
   ]
  },
  {
   "cell_type": "code",
   "execution_count": 14,
   "metadata": {},
   "outputs": [
    {
     "name": "stderr",
     "output_type": "stream",
     "text": [
      "Warning message:\n",
      "“\"ranges\" method for Hits objects is deprecated. Please use\n",
      "  overlapsRanges() instead.”"
     ]
    },
    {
     "data": {
      "text/plain": [
       "GRanges object with 4 ranges and 5 metadata columns:\n",
       "      seqnames     ranges strand |  query.id subject.id     score        GC\n",
       "         <Rle>  <IRanges>  <Rle> | <integer>  <integer> <integer> <numeric>\n",
       "  [1]        1 [107, 109]      - |         1          2         1 1.0000000\n",
       "  [2]        1 [105, 105]      * |         5          1         5 0.5555556\n",
       "  [3]        1 [107, 109]      * |         5          2         5 0.5555556\n",
       "  [4]        1 [113, 115]      * |         5          3         5 0.5555556\n",
       "             name\n",
       "      <character>\n",
       "  [1]           B\n",
       "  [2]           A\n",
       "  [3]           B\n",
       "  [4]           C\n",
       "  -------\n",
       "  seqinfo: 25 sequences from an unspecified genome"
      ]
     },
     "metadata": {},
     "output_type": "display_data"
    }
   ],
   "source": [
    "## grA %**% grB # strand-specific merging\n",
    "\n",
    "gr1 %**% gr2"
   ]
  },
  {
   "cell_type": "markdown",
   "metadata": {},
   "source": [
    "## %\\$% : aggreagates metadata across GRanges\n",
    "### grA %\\$% grB  aggregates the metadata in grB across the territory of each range in grA"
   ]
  },
  {
   "cell_type": "code",
   "execution_count": 15,
   "metadata": {
    "collapsed": true
   },
   "outputs": [],
   "source": [
    "## Function: \n",
    "## '%$%' aggregates the metadata in grB across the territory of each range in grA  \n",
    "## Aggregates the metadata in grB across the territory of each range in grA. \n",
    "## This returns grA appended with additional metadata columns of grA with values aggregated over where grA and grB overlap. \n",
    "## For character or factor-valued metadata columns of grB, aggregation will return a comma collapsed character value of all grB values that overlap grA[i].\n",
    "## For numeric columns of grB it will return the width-weighted mean value of that column across the grA[i] and grB overlap. \n",
    "## Use:\n",
    "## grA %$% grB   # strand-agnostic aggregation\n",
    "## grA %$$% grB  # strand-specific aggregation"
   ]
  },
  {
   "cell_type": "code",
   "execution_count": 16,
   "metadata": {},
   "outputs": [
    {
     "name": "stderr",
     "output_type": "stream",
     "text": [
      "Warning message:\n",
      "“\"ranges\" method for Hits objects is deprecated. Please use\n",
      "  overlapsRanges() instead.”"
     ]
    },
    {
     "data": {
      "text/plain": [
       "GRanges object with 10 ranges and 3 metadata columns:\n",
       "    seqnames     ranges strand |     score        GC        name\n",
       "       <Rle>  <IRanges>  <Rle> | <integer> <numeric> <character>\n",
       "  a        1 [101, 111]      - |         1 1.0000000        A, B\n",
       "  b        2 [102, 112]      + |         2 0.8888889            \n",
       "  c        2 [103, 113]      + |         3 0.7777778            \n",
       "  d        2 [104, 114]      * |         4 0.6666667            \n",
       "  e        1 [105, 115]      * |         5 0.5555556     A, B, C\n",
       "  f        1 [106, 116]      + |         6 0.4444444        B, C\n",
       "  g        3 [107, 117]      + |         7 0.3333333            \n",
       "  h        3 [108, 118]      + |         8 0.2222222            \n",
       "  i        3 [109, 119]      - |         9 0.1111111            \n",
       "  j        3 [110, 120]      - |        10 0.0000000            \n",
       "  -------\n",
       "  seqinfo: 3 sequences from an unspecified genome; no seqlengths"
      ]
     },
     "metadata": {},
     "output_type": "display_data"
    }
   ],
   "source": [
    "## grA %$% grB  # strand-agnostic aggregation\n",
    "\n",
    "gr1 %$% gr2"
   ]
  },
  {
   "cell_type": "code",
   "execution_count": 17,
   "metadata": {},
   "outputs": [
    {
     "name": "stderr",
     "output_type": "stream",
     "text": [
      "Warning message:\n",
      "“\"ranges\" method for Hits objects is deprecated. Please use\n",
      "  overlapsRanges() instead.”"
     ]
    },
    {
     "data": {
      "text/plain": [
       "GRanges object with 3 ranges and 3 metadata columns:\n",
       "      seqnames     ranges strand |        name     score        GC\n",
       "         <Rle>  <IRanges>  <Rle> | <character> <numeric> <numeric>\n",
       "  [1]        1 [103, 105]      + |           A  2.000000 0.8888889\n",
       "  [2]        1 [107, 109]      - |           B  4.000000 0.6666667\n",
       "  [3]        1 [113, 116]      - |           C  5.571429 0.4920635\n",
       "  -------\n",
       "  seqinfo: 1 sequence from an unspecified genome; no seqlengths"
      ]
     },
     "metadata": {},
     "output_type": "display_data"
    }
   ],
   "source": [
    "gr2 %$% gr1"
   ]
  },
  {
   "cell_type": "code",
   "execution_count": 18,
   "metadata": {},
   "outputs": [
    {
     "name": "stderr",
     "output_type": "stream",
     "text": [
      "Warning message:\n",
      "“\"ranges\" method for Hits objects is deprecated. Please use\n",
      "  overlapsRanges() instead.”"
     ]
    },
    {
     "data": {
      "text/plain": [
       "GRanges object with 10 ranges and 3 metadata columns:\n",
       "    seqnames     ranges strand |     score        GC        name\n",
       "       <Rle>  <IRanges>  <Rle> | <integer> <numeric> <character>\n",
       "  a        1 [101, 111]      - |         1 1.0000000           B\n",
       "  b        2 [102, 112]      + |         2 0.8888889            \n",
       "  c        2 [103, 113]      + |         3 0.7777778            \n",
       "  d        2 [104, 114]      * |         4 0.6666667            \n",
       "  e        1 [105, 115]      * |         5 0.5555556     A, B, C\n",
       "  f        1 [106, 116]      + |         6 0.4444444            \n",
       "  g        3 [107, 117]      + |         7 0.3333333            \n",
       "  h        3 [108, 118]      + |         8 0.2222222            \n",
       "  i        3 [109, 119]      - |         9 0.1111111            \n",
       "  j        3 [110, 120]      - |        10 0.0000000            \n",
       "  -------\n",
       "  seqinfo: 3 sequences from an unspecified genome; no seqlengths"
      ]
     },
     "metadata": {},
     "output_type": "display_data"
    }
   ],
   "source": [
    "## grA %$$% grB  # strand-specific aggregation\n",
    "\n",
    "gr1 %$$% gr2"
   ]
  },
  {
   "cell_type": "code",
   "execution_count": 19,
   "metadata": {},
   "outputs": [
    {
     "name": "stderr",
     "output_type": "stream",
     "text": [
      "Warning message:\n",
      "“\"ranges\" method for Hits objects is deprecated. Please use\n",
      "  overlapsRanges() instead.”"
     ]
    },
    {
     "data": {
      "text/plain": [
       "GRanges object with 3 ranges and 3 metadata columns:\n",
       "      seqnames     ranges strand |        name     score        GC\n",
       "         <Rle>  <IRanges>  <Rle> | <character> <numeric> <numeric>\n",
       "  [1]        1 [103, 105]      + |           A         5 0.5555556\n",
       "  [2]        1 [107, 109]      - |           B         3 0.7777778\n",
       "  [3]        1 [113, 116]      - |           C         5 0.5555556\n",
       "  -------\n",
       "  seqinfo: 1 sequence from an unspecified genome; no seqlengths"
      ]
     },
     "metadata": {},
     "output_type": "display_data"
    }
   ],
   "source": [
    "gr2 %$$% gr1"
   ]
  },
  {
   "cell_type": "markdown",
   "metadata": {},
   "source": [
    "## %&% : returns subset of overlapping GRanges\n",
    "### grA %&% grB  returns the subset of ranges in grA that overlap with at least one range in grB"
   ]
  },
  {
   "cell_type": "code",
   "execution_count": 20,
   "metadata": {
    "collapsed": true
   },
   "outputs": [],
   "source": [
    "## Function: \n",
    "## '%&%' return the subset of ranges in grA that overlap with at least one range in grB.\n",
    "## Use:\n",
    "## grA %&% grB   # strand-agnostic \n",
    "## grA %&&% grB  # strand-specific "
   ]
  },
  {
   "cell_type": "code",
   "execution_count": 21,
   "metadata": {},
   "outputs": [
    {
     "name": "stderr",
     "output_type": "stream",
     "text": [
      "Warning message:\n",
      "“\"ranges\" method for Hits objects is deprecated. Please use\n",
      "  overlapsRanges() instead.”"
     ]
    },
    {
     "data": {
      "text/plain": [
       "GRanges object with 3 ranges and 2 metadata columns:\n",
       "    seqnames     ranges strand |     score                GC\n",
       "       <Rle>  <IRanges>  <Rle> | <integer>         <numeric>\n",
       "  a        1 [101, 111]      - |         1                 1\n",
       "  e        1 [105, 115]      * |         5 0.555555555555556\n",
       "  f        1 [106, 116]      + |         6 0.444444444444444\n",
       "  -------\n",
       "  seqinfo: 3 sequences from an unspecified genome; no seqlengths"
      ]
     },
     "metadata": {},
     "output_type": "display_data"
    }
   ],
   "source": [
    "## grA %&% grB  # strand-agnostic \n",
    "\n",
    "gr1 %&% gr2"
   ]
  },
  {
   "cell_type": "code",
   "execution_count": 22,
   "metadata": {},
   "outputs": [
    {
     "name": "stderr",
     "output_type": "stream",
     "text": [
      "Warning message:\n",
      "“\"ranges\" method for Hits objects is deprecated. Please use\n",
      "  overlapsRanges() instead.”"
     ]
    },
    {
     "data": {
      "text/plain": [
       "GRanges object with 3 ranges and 1 metadata column:\n",
       "      seqnames     ranges strand |        name\n",
       "         <Rle>  <IRanges>  <Rle> | <character>\n",
       "  [1]        1 [103, 105]      + |           A\n",
       "  [2]        1 [107, 109]      - |           B\n",
       "  [3]        1 [113, 116]      - |           C\n",
       "  -------\n",
       "  seqinfo: 1 sequence from an unspecified genome; no seqlengths"
      ]
     },
     "metadata": {},
     "output_type": "display_data"
    }
   ],
   "source": [
    "gr2 %&% gr1"
   ]
  },
  {
   "cell_type": "code",
   "execution_count": 23,
   "metadata": {},
   "outputs": [
    {
     "name": "stderr",
     "output_type": "stream",
     "text": [
      "Warning message:\n",
      "“\"ranges\" method for Hits objects is deprecated. Please use\n",
      "  overlapsRanges() instead.”"
     ]
    },
    {
     "data": {
      "text/plain": [
       "GRanges object with 2 ranges and 2 metadata columns:\n",
       "    seqnames     ranges strand |     score                GC\n",
       "       <Rle>  <IRanges>  <Rle> | <integer>         <numeric>\n",
       "  a        1 [101, 111]      - |         1                 1\n",
       "  e        1 [105, 115]      * |         5 0.555555555555556\n",
       "  -------\n",
       "  seqinfo: 3 sequences from an unspecified genome; no seqlengths"
      ]
     },
     "metadata": {},
     "output_type": "display_data"
    }
   ],
   "source": [
    "## grA %&&% grB  # strand-specific \n",
    "\n",
    "gr1 %&&% gr2"
   ]
  },
  {
   "cell_type": "code",
   "execution_count": 24,
   "metadata": {},
   "outputs": [
    {
     "name": "stderr",
     "output_type": "stream",
     "text": [
      "Warning message:\n",
      "“\"ranges\" method for Hits objects is deprecated. Please use\n",
      "  overlapsRanges() instead.”"
     ]
    },
    {
     "data": {
      "text/plain": [
       "GRanges object with 3 ranges and 1 metadata column:\n",
       "      seqnames     ranges strand |        name\n",
       "         <Rle>  <IRanges>  <Rle> | <character>\n",
       "  [1]        1 [103, 105]      + |           A\n",
       "  [2]        1 [107, 109]      - |           B\n",
       "  [3]        1 [113, 116]      - |           C\n",
       "  -------\n",
       "  seqinfo: 1 sequence from an unspecified genome; no seqlengths"
      ]
     },
     "metadata": {},
     "output_type": "display_data"
    }
   ],
   "source": [
    "gr2 %&&% gr1"
   ]
  },
  {
   "cell_type": "markdown",
   "metadata": {},
   "source": [
    "## %O% : returns number of bases in overlapping GRanges\n",
    "### grA %O% grB returns a length(grA) numeric vector whose item i is the *fraction of the width* of grA[i] which overlaps at least one range in grB."
   ]
  },
  {
   "cell_type": "code",
   "execution_count": 25,
   "metadata": {
    "collapsed": true
   },
   "outputs": [],
   "source": [
    "## Function: \n",
    "## '%O%' \n",
    "## Returns a length(grA) numeric vector whose item i is the *fraction of the width* of grA[i] \n",
    "## which overlaps at least one range in grB.\n",
    "## Use:\n",
    "## grA %O% grB   # strand-agnostic\n",
    "## grA %OO% grB  # strand-specific"
   ]
  },
  {
   "cell_type": "code",
   "execution_count": 26,
   "metadata": {},
   "outputs": [
    {
     "name": "stdout",
     "output_type": "stream",
     "text": [
      "[1] \"gr1 %O% gr2 outputs\"\n"
     ]
    },
    {
     "name": "stderr",
     "output_type": "stream",
     "text": [
      "Warning message:\n",
      "“\"ranges\" method for Hits objects is deprecated. Please use\n",
      "  overlapsRanges() instead.”"
     ]
    },
    {
     "name": "stdout",
     "output_type": "stream",
     "text": [
      " [1] 0.5454545 0.0000000 0.0000000 0.0000000 0.6363636 0.6363636 0.0000000\n",
      " [8] 0.0000000 0.0000000 0.0000000\n",
      "[1] \"\"\n",
      "[1] \"gr2 %O% gr1 outputs\"\n"
     ]
    },
    {
     "name": "stderr",
     "output_type": "stream",
     "text": [
      "Warning message:\n",
      "“\"ranges\" method for Hits objects is deprecated. Please use\n",
      "  overlapsRanges() instead.”"
     ]
    },
    {
     "name": "stdout",
     "output_type": "stream",
     "text": [
      "[1] 1.333333 3.000000 1.750000\n"
     ]
    }
   ],
   "source": [
    "## grA %O% grB   # strand-agnostic\n",
    "\n",
    "print('gr1 %O% gr2 outputs')\n",
    "print(gr1 %O% gr2)\n",
    "print('')\n",
    "print('gr2 %O% gr1 outputs')\n",
    "print(gr2 %O% gr1)"
   ]
  },
  {
   "cell_type": "code",
   "execution_count": 27,
   "metadata": {},
   "outputs": [
    {
     "name": "stdout",
     "output_type": "stream",
     "text": [
      "[1] \"gr1 %OO% gr2 outputs\"\n"
     ]
    },
    {
     "name": "stderr",
     "output_type": "stream",
     "text": [
      "Warning message:\n",
      "“\"ranges\" method for Hits objects is deprecated. Please use\n",
      "  overlapsRanges() instead.”"
     ]
    },
    {
     "name": "stdout",
     "output_type": "stream",
     "text": [
      " [1] 0.2727273 0.0000000 0.0000000 0.0000000 0.6363636 0.0000000 0.0000000\n",
      " [8] 0.0000000 0.0000000 0.0000000\n",
      "[1] \"\"\n",
      "[1] \"gr2 %OO% gr1 outputs\"\n"
     ]
    },
    {
     "name": "stderr",
     "output_type": "stream",
     "text": [
      "Warning message:\n",
      "“\"ranges\" method for Hits objects is deprecated. Please use\n",
      "  overlapsRanges() instead.”"
     ]
    },
    {
     "name": "stdout",
     "output_type": "stream",
     "text": [
      "[1] 0.3333333 2.0000000 0.7500000\n"
     ]
    }
   ],
   "source": [
    "## grA %OO% grB   # strand-specific\n",
    "\n",
    "print('gr1 %OO% gr2 outputs')\n",
    "print(gr1 %OO% gr2)\n",
    "print('')\n",
    "print('gr2 %OO% gr1 outputs')\n",
    "print(gr2 %OO% gr1)"
   ]
  },
  {
   "cell_type": "markdown",
   "metadata": {
    "collapsed": true
   },
   "source": [
    "## %o% : returns width fraction in overlapping GRanges\n",
    "### grA %o% grB returns a length(grA) numeric vector whose item i is the *number of bases* in grA[i] "
   ]
  },
  {
   "cell_type": "code",
   "execution_count": 28,
   "metadata": {
    "collapsed": true
   },
   "outputs": [],
   "source": [
    "# %o%\n",
    "## Function: \n",
    "## '%o%' \n",
    "## Returns a length(grA) numeric vector whose item i is the *number of bases* in grA[i] \n",
    "## which overlaps at least one range in grB. \n",
    "## Use:\n",
    "## grA %o% grB   # strand-agnostic\n",
    "## grA %oo% grB  # strand-specific"
   ]
  },
  {
   "cell_type": "code",
   "execution_count": 29,
   "metadata": {},
   "outputs": [
    {
     "name": "stdout",
     "output_type": "stream",
     "text": [
      "[1] \"gr1 %o% gr2 outputs\"\n"
     ]
    },
    {
     "name": "stderr",
     "output_type": "stream",
     "text": [
      "Warning message:\n",
      "“\"ranges\" method for Hits objects is deprecated. Please use\n",
      "  overlapsRanges() instead.”"
     ]
    },
    {
     "name": "stdout",
     "output_type": "stream",
     "text": [
      " [1] 6 0 0 0 7 7 0 0 0 0\n",
      "[1] \"\"\n",
      "[1] \"gr2 %o% gr1 outputs\"\n"
     ]
    },
    {
     "name": "stderr",
     "output_type": "stream",
     "text": [
      "Warning message:\n",
      "“\"ranges\" method for Hits objects is deprecated. Please use\n",
      "  overlapsRanges() instead.”"
     ]
    },
    {
     "name": "stdout",
     "output_type": "stream",
     "text": [
      "[1] 4 9 7\n"
     ]
    }
   ],
   "source": [
    "## grA %o% grB   # strand-agnostic\n",
    "\n",
    "print('gr1 %o% gr2 outputs')\n",
    "print(gr1 %o% gr2)\n",
    "print('')\n",
    "print('gr2 %o% gr1 outputs')\n",
    "print(gr2 %o% gr1)"
   ]
  },
  {
   "cell_type": "code",
   "execution_count": 30,
   "metadata": {},
   "outputs": [
    {
     "name": "stdout",
     "output_type": "stream",
     "text": [
      "[1] \"gr1 %oo% gr2 outputs\"\n"
     ]
    },
    {
     "name": "stderr",
     "output_type": "stream",
     "text": [
      "Warning message:\n",
      "“\"ranges\" method for Hits objects is deprecated. Please use\n",
      "  overlapsRanges() instead.”"
     ]
    },
    {
     "name": "stdout",
     "output_type": "stream",
     "text": [
      " [1] 3 0 0 0 7 0 0 0 0 0\n",
      "[1] \"\"\n",
      "[1] \"gr2 %oo% gr1 outputs\"\n"
     ]
    },
    {
     "name": "stderr",
     "output_type": "stream",
     "text": [
      "Warning message:\n",
      "“\"ranges\" method for Hits objects is deprecated. Please use\n",
      "  overlapsRanges() instead.”"
     ]
    },
    {
     "name": "stdout",
     "output_type": "stream",
     "text": [
      "[1] 1 6 3\n"
     ]
    }
   ],
   "source": [
    "## grA %oo% grB  # strand-specific\n",
    "\n",
    "print('gr1 %oo% gr2 outputs')\n",
    "print(gr1 %oo% gr2)\n",
    "print('')\n",
    "print('gr2 %oo% gr1 outputs')\n",
    "print(gr2 %oo% gr1)"
   ]
  },
  {
   "cell_type": "markdown",
   "metadata": {},
   "source": [
    "## %N% : returns total number of ranges in overlapping GRanges\n",
    "### grA %o% grB returns a length(grA) numeric vector whose item i is the total number of ranges in grB that overlap with grA[i]"
   ]
  },
  {
   "cell_type": "code",
   "execution_count": 31,
   "metadata": {
    "collapsed": true
   },
   "outputs": [],
   "source": [
    "## Function: \n",
    "## '%N%' \n",
    "## Returns a length(grA) numeric vector whose item i is the total number of ranges in grB that overlap with grA[i]\n",
    "## Use:\n",
    "## grA %N%  grB   # strand-agnostic\n",
    "## grA %NN% grB  # strand-specific"
   ]
  },
  {
   "cell_type": "code",
   "execution_count": 32,
   "metadata": {},
   "outputs": [
    {
     "name": "stdout",
     "output_type": "stream",
     "text": [
      "[1] \"gr1 %N% gr2 outputs\"\n"
     ]
    },
    {
     "name": "stderr",
     "output_type": "stream",
     "text": [
      "Warning message:\n",
      "“\"ranges\" method for Hits objects is deprecated. Please use\n",
      "  overlapsRanges() instead.”"
     ]
    },
    {
     "name": "stdout",
     "output_type": "stream",
     "text": [
      " [1] 2 0 0 0 3 2 0 0 0 0\n",
      "[1] \"\"\n",
      "[1] \"gr2 %N% gr1 outputs\"\n"
     ]
    },
    {
     "name": "stderr",
     "output_type": "stream",
     "text": [
      "Warning message:\n",
      "“\"ranges\" method for Hits objects is deprecated. Please use\n",
      "  overlapsRanges() instead.”"
     ]
    },
    {
     "name": "stdout",
     "output_type": "stream",
     "text": [
      "[1] 2 3 2\n"
     ]
    }
   ],
   "source": [
    "## grA %N% grB   # strand-agnostic\n",
    "\n",
    "print('gr1 %N% gr2 outputs')\n",
    "print(gr1 %N% gr2)\n",
    "print('')\n",
    "print('gr2 %N% gr1 outputs')\n",
    "print(gr2 %N% gr1)"
   ]
  },
  {
   "cell_type": "code",
   "execution_count": 33,
   "metadata": {},
   "outputs": [
    {
     "name": "stdout",
     "output_type": "stream",
     "text": [
      "[1] \"gr1 %NN% gr2 outputs\"\n"
     ]
    },
    {
     "name": "stderr",
     "output_type": "stream",
     "text": [
      "Warning message:\n",
      "“\"ranges\" method for Hits objects is deprecated. Please use\n",
      "  overlapsRanges() instead.”"
     ]
    },
    {
     "name": "stdout",
     "output_type": "stream",
     "text": [
      " [1] 1 0 0 0 3 0 0 0 0 0\n",
      "[1] \"\"\n",
      "[1] \"gr2 %N% gr1 outputs\"\n"
     ]
    },
    {
     "name": "stderr",
     "output_type": "stream",
     "text": [
      "Warning message:\n",
      "“\"ranges\" method for Hits objects is deprecated. Please use\n",
      "  overlapsRanges() instead.”"
     ]
    },
    {
     "name": "stdout",
     "output_type": "stream",
     "text": [
      "[1] 1 2 1\n"
     ]
    }
   ],
   "source": [
    "## grA %NN% grB   # strand-agnostic\n",
    "\n",
    "print('gr1 %NN% gr2 outputs')\n",
    "print(gr1 %NN% gr2)\n",
    "print('')\n",
    "print('gr2 %N% gr1 outputs')\n",
    "print(gr2 %NN% gr1)"
   ]
  },
  {
   "cell_type": "markdown",
   "metadata": {},
   "source": [
    "## %^% : returns boolean vector TRUE in overlapping GRanges\n",
    "### grA %^% grB returns a length(grA) logical vector whose item i TRUE if the grA[i] overlap at least on range in grB "
   ]
  },
  {
   "cell_type": "code",
   "execution_count": 34,
   "metadata": {
    "collapsed": true
   },
   "outputs": [],
   "source": [
    "## Function: \n",
    "## '%^%' \n",
    "## Returns a length(grA) logical vector whose item i TRUE if the grA[i] overlap at least on range in grB \n",
    "## Use:\n",
    "## grA %^%  grB  # strand-agnostic\n",
    "## grA %^^% grB  # strand-specific"
   ]
  },
  {
   "cell_type": "code",
   "execution_count": 35,
   "metadata": {},
   "outputs": [
    {
     "name": "stdout",
     "output_type": "stream",
     "text": [
      "[1] \"gr1 %^% gr2 outputs\"\n"
     ]
    },
    {
     "name": "stderr",
     "output_type": "stream",
     "text": [
      "Warning message:\n",
      "“\"ranges\" method for Hits objects is deprecated. Please use\n",
      "  overlapsRanges() instead.”"
     ]
    },
    {
     "name": "stdout",
     "output_type": "stream",
     "text": [
      " [1]  TRUE FALSE FALSE FALSE  TRUE  TRUE FALSE FALSE FALSE FALSE\n",
      "[1] \"\"\n",
      "[1] \"gr2 %^% gr1 outputs\"\n"
     ]
    },
    {
     "name": "stderr",
     "output_type": "stream",
     "text": [
      "Warning message:\n",
      "“\"ranges\" method for Hits objects is deprecated. Please use\n",
      "  overlapsRanges() instead.”"
     ]
    },
    {
     "name": "stdout",
     "output_type": "stream",
     "text": [
      "[1] TRUE TRUE TRUE\n"
     ]
    }
   ],
   "source": [
    "## grA %^%  grB  # strand-agnostic\n",
    "\n",
    "print('gr1 %^% gr2 outputs')\n",
    "print(gr1 %^% gr2)\n",
    "print('')\n",
    "print('gr2 %^% gr1 outputs')\n",
    "print(gr2 %^% gr1)"
   ]
  },
  {
   "cell_type": "code",
   "execution_count": 36,
   "metadata": {},
   "outputs": [
    {
     "name": "stdout",
     "output_type": "stream",
     "text": [
      "[1] \"gr1 %^^% gr2 outputs\"\n"
     ]
    },
    {
     "name": "stderr",
     "output_type": "stream",
     "text": [
      "Warning message:\n",
      "“\"ranges\" method for Hits objects is deprecated. Please use\n",
      "  overlapsRanges() instead.”"
     ]
    },
    {
     "name": "stdout",
     "output_type": "stream",
     "text": [
      " [1]  TRUE FALSE FALSE FALSE  TRUE FALSE FALSE FALSE FALSE FALSE\n",
      "[1] \"\"\n",
      "[1] \"gr2 %^^% gr1 outputs\"\n"
     ]
    },
    {
     "name": "stderr",
     "output_type": "stream",
     "text": [
      "Warning message:\n",
      "“\"ranges\" method for Hits objects is deprecated. Please use\n",
      "  overlapsRanges() instead.”"
     ]
    },
    {
     "name": "stdout",
     "output_type": "stream",
     "text": [
      "[1] TRUE TRUE TRUE\n"
     ]
    }
   ],
   "source": [
    "## grA %^^% grB  # strand-specific\n",
    "\n",
    "print('gr1 %^^% gr2 outputs')\n",
    "print(gr1 %^^% gr2)\n",
    "print('')\n",
    "print('gr2 %^^% gr1 outputs')\n",
    "print(gr2 %^^% gr1)"
   ]
  },
  {
   "cell_type": "markdown",
   "metadata": {},
   "source": [
    "## %_% : returns GRanges representing setdiff in input GRanges"
   ]
  },
  {
   "cell_type": "code",
   "execution_count": 37,
   "metadata": {
    "collapsed": true
   },
   "outputs": [],
   "source": [
    "## Function: \n",
    "## '%_%' \n",
    "## Similar to the function BiocGenerics::setdiff(), but strand-agnostic (cf. https://github.com/Bioconductor/BiocGenerics)\n",
    "## Use:\n",
    "## grA %_% grB  "
   ]
  },
  {
   "cell_type": "code",
   "execution_count": 38,
   "metadata": {},
   "outputs": [
    {
     "name": "stdout",
     "output_type": "stream",
     "text": [
      "[1] \"gr1 %_% gr2 outputs\"\n",
      "GRanges object with 5 ranges and 0 metadata columns:\n",
      "      seqnames     ranges strand\n",
      "         <Rle>  <IRanges>  <Rle>\n",
      "  [1]        1 [101, 102]      *\n",
      "  [2]        1 [106, 106]      *\n",
      "  [3]        1 [110, 112]      *\n",
      "  [4]        2 [102, 114]      *\n",
      "  [5]        3 [107, 120]      *\n",
      "  -------\n",
      "  seqinfo: 3 sequences from an unspecified genome; no seqlengths\n",
      "[1] \"\"\n",
      "[1] \"gr2 %_% gr1 outputs\"\n",
      "GRanges object with 0 ranges and 0 metadata columns:\n",
      "   seqnames    ranges strand\n",
      "      <Rle> <IRanges>  <Rle>\n",
      "  -------\n",
      "  seqinfo: 3 sequences from an unspecified genome; no seqlengths\n"
     ]
    }
   ],
   "source": [
    "print('gr1 %_% gr2 outputs')\n",
    "print(suppressWarnings(gr1 %_% gr2))\n",
    "print('')\n",
    "print('gr2 %_% gr1 outputs')\n",
    "print(suppressWarnings(gr2 %_% gr1))"
   ]
  },
  {
   "cell_type": "markdown",
   "metadata": {
    "collapsed": true
   },
   "source": [
    "# gUtils internal data and functions to load internal data\n",
    "### gUtils contains several internal data variable which load "
   ]
  },
  {
   "cell_type": "markdown",
   "metadata": {},
   "source": [
    "## hg_seqlengths()\n",
    "### returns standard hg19 seqlengths as an integer vector"
   ]
  },
  {
   "cell_type": "code",
   "execution_count": 39,
   "metadata": {
    "collapsed": true
   },
   "outputs": [],
   "source": [
    "# hg_seqlengths()\n",
    "## Function: 'hg_seqlengths()'\n",
    "## Details:\n",
    "## Outputs standard hg19 seqlengths as an integer vector"
   ]
  },
  {
   "cell_type": "code",
   "execution_count": 40,
   "metadata": {},
   "outputs": [
    {
     "data": {
      "text/html": [
       "<dl class=dl-horizontal>\n",
       "\t<dt>1</dt>\n",
       "\t\t<dd>249250621</dd>\n",
       "\t<dt>2</dt>\n",
       "\t\t<dd>243199373</dd>\n",
       "\t<dt>3</dt>\n",
       "\t\t<dd>198022430</dd>\n",
       "\t<dt>4</dt>\n",
       "\t\t<dd>191154276</dd>\n",
       "\t<dt>5</dt>\n",
       "\t\t<dd>180915260</dd>\n",
       "\t<dt>6</dt>\n",
       "\t\t<dd>171115067</dd>\n",
       "</dl>\n"
      ],
      "text/latex": [
       "\\begin{description*}\n",
       "\\item[1] 249250621\n",
       "\\item[2] 243199373\n",
       "\\item[3] 198022430\n",
       "\\item[4] 191154276\n",
       "\\item[5] 180915260\n",
       "\\item[6] 171115067\n",
       "\\end{description*}\n"
      ],
      "text/markdown": [
       "1\n",
       ":   2492506212\n",
       ":   2431993733\n",
       ":   1980224304\n",
       ":   1911542765\n",
       ":   1809152606\n",
       ":   171115067\n",
       "\n"
      ],
      "text/plain": [
       "        1         2         3         4         5         6 \n",
       "249250621 243199373 198022430 191154276 180915260 171115067 "
      ]
     },
     "metadata": {},
     "output_type": "display_data"
    }
   ],
   "source": [
    "hg_seqlengths()[1:6]"
   ]
  },
  {
   "cell_type": "markdown",
   "metadata": {},
   "source": [
    "## example_genes\n",
    "### returns GRanges of RefSeq genes with exon count and names, using hg19"
   ]
  },
  {
   "cell_type": "code",
   "execution_count": 41,
   "metadata": {
    "collapsed": true
   },
   "outputs": [],
   "source": [
    "# example_genes\n",
    "## Data: 'example_genes', GRanges\n",
    "## Details:\n",
    "## GRanges of RefSeq genes with exon count and names, using hg19"
   ]
  },
  {
   "cell_type": "code",
   "execution_count": 42,
   "metadata": {},
   "outputs": [
    {
     "data": {
      "text/plain": [
       "GRanges object with 6 ranges and 2 metadata columns:\n",
       "      seqnames           ranges strand |        name exonCount\n",
       "         <Rle>        <IRanges>  <Rle> | <character> <integer>\n",
       "  [1]        1 [ 69090,  70008]      + |       OR4F5         1\n",
       "  [2]        1 [367658, 368597]      + |      OR4F16         1\n",
       "  [3]        1 [367658, 368597]      + |       OR4F3         1\n",
       "  [4]        1 [367658, 368597]      + |      OR4F29         1\n",
       "  [5]        1 [861321, 879533]      + |      SAMD11        14\n",
       "  [6]        1 [896073, 900571]      + |      KLHL17        12\n",
       "  -------\n",
       "  seqinfo: 25 sequences from hg19 genome"
      ]
     },
     "metadata": {},
     "output_type": "display_data"
    },
    {
     "data": {
      "text/html": [
       "18812"
      ],
      "text/latex": [
       "18812"
      ],
      "text/markdown": [
       "18812"
      ],
      "text/plain": [
       "[1] 18812"
      ]
     },
     "metadata": {},
     "output_type": "display_data"
    }
   ],
   "source": [
    "head(example_genes)\n",
    "\n",
    "length(example_genes)"
   ]
  },
  {
   "cell_type": "markdown",
   "metadata": {},
   "source": [
    "## example_dnase\n",
    "### returns DNAaseI hypersensitivity sites from UCSC Table Browser hg19, subsampled to 10,000 sites"
   ]
  },
  {
   "cell_type": "code",
   "execution_count": 43,
   "metadata": {
    "collapsed": true
   },
   "outputs": [],
   "source": [
    "# example_dnase\n",
    "## Data: 'example_dnase', GRanges\n",
    "## Details:\n",
    "## DNAaseI hypersensitivity sites from UCSC Table Browser hg19,\n",
    "## subsampled to 10,000 sites"
   ]
  },
  {
   "cell_type": "code",
   "execution_count": 44,
   "metadata": {},
   "outputs": [
    {
     "data": {
      "text/plain": [
       "GRanges object with 6 ranges and 2 metadata columns:\n",
       "      seqnames             ranges strand | signalValue    pValue\n",
       "         <Rle>          <IRanges>  <Rle> |   <numeric> <numeric>\n",
       "  [1]        1 [ 567461,  567893]      * |     50.4687   282.177\n",
       "  [2]        1 [ 848076,  848474]      * |     9.15261    12.211\n",
       "  [3]        1 [ 860836,  861798]      * |     23.4447   53.1665\n",
       "  [4]        1 [1172453, 1172732]      * |     2.74806   2.10225\n",
       "  [5]        1 [1210156, 1210484]      * |     2.20956   1.60014\n",
       "  [6]        1 [1221000, 1221366]      * |     5.70984   5.91024\n",
       "  -------\n",
       "  seqinfo: 25 sequences from hg19 genome"
      ]
     },
     "metadata": {},
     "output_type": "display_data"
    },
    {
     "data": {
      "text/html": [
       "10000"
      ],
      "text/latex": [
       "10000"
      ],
      "text/markdown": [
       "10000"
      ],
      "text/plain": [
       "[1] 10000"
      ]
     },
     "metadata": {},
     "output_type": "display_data"
    }
   ],
   "source": [
    "head(example_dnase)\n",
    "\n",
    "length(example_dnase)"
   ]
  },
  {
   "cell_type": "markdown",
   "metadata": {},
   "source": [
    "## grl1\n",
    "### returns SV rearrangements, first dataset"
   ]
  },
  {
   "cell_type": "code",
   "execution_count": 45,
   "metadata": {
    "collapsed": true
   },
   "outputs": [],
   "source": [
    "# grl1\n",
    "## Data: 'grl1', GRangesList\n",
    "## Details:\n",
    "## simulated SV rearrangements, first dataset"
   ]
  },
  {
   "cell_type": "code",
   "execution_count": 46,
   "metadata": {},
   "outputs": [
    {
     "data": {
      "text/plain": [
       "GRangesList object of length 3:\n",
       "$10 \n",
       "GRanges object with 2 ranges and 1 metadata column:\n",
       "      seqnames                 ranges strand |       bin\n",
       "         <Rle>              <IRanges>  <Rle> | <integer>\n",
       "  [1]        5 [146981323, 146981323]      - |        10\n",
       "  [2]       14 [104605059, 104605059]      + |        10\n",
       "\n",
       "$26 \n",
       "GRanges object with 2 ranges and 1 metadata column:\n",
       "      seqnames                 ranges strand | bin\n",
       "  [1]        9 [140100229, 140100229]      - |  26\n",
       "  [2]       19 [ 24309057,  24309057]      - |  26\n",
       "\n",
       "$49 \n",
       "GRanges object with 2 ranges and 1 metadata column:\n",
       "      seqnames                 ranges strand | bin\n",
       "  [1]        5 [132216750, 132216750]      - |  49\n",
       "  [2]       17 [  4803057,   4803057]      + |  49\n",
       "\n",
       "-------\n",
       "seqinfo: 25 sequences from an unspecified genome"
      ]
     },
     "metadata": {},
     "output_type": "display_data"
    }
   ],
   "source": [
    "head(grl1, 3)"
   ]
  },
  {
   "cell_type": "markdown",
   "metadata": {},
   "source": [
    "## grl2\n",
    "### returns SV rearrangements, second dataset"
   ]
  },
  {
   "cell_type": "code",
   "execution_count": 47,
   "metadata": {
    "collapsed": true
   },
   "outputs": [],
   "source": [
    "# grl2\n",
    "## Data: 'grl2', GRangesList\n",
    "## Details:\n",
    "## simulated SV rearrangements, second dataset"
   ]
  },
  {
   "cell_type": "code",
   "execution_count": 48,
   "metadata": {},
   "outputs": [
    {
     "data": {
      "text/plain": [
       "GRangesList object of length 3:\n",
       "$4678 \n",
       "GRanges object with 2 ranges and 1 metadata column:\n",
       "      seqnames                 ranges strand |       bin\n",
       "         <Rle>              <IRanges>  <Rle> | <integer>\n",
       "  [1]        8 [110374809, 110374809]      - |      4678\n",
       "  [2]       17 [ 72874459,  72874459]      + |      4678\n",
       "\n",
       "$4713 \n",
       "GRanges object with 2 ranges and 1 metadata column:\n",
       "      seqnames                 ranges strand |  bin\n",
       "  [1]        7 [116166641, 116166641]      + | 4713\n",
       "  [2]       22 [ 21738147,  21738147]      - | 4713\n",
       "\n",
       "$4723 \n",
       "GRanges object with 2 ranges and 1 metadata column:\n",
       "      seqnames                 ranges strand |  bin\n",
       "  [1]        6 [ 32822006,  32822006]      + | 4723\n",
       "  [2]        9 [136529010, 136529010]      - | 4723\n",
       "\n",
       "-------\n",
       "seqinfo: 25 sequences from an unspecified genome"
      ]
     },
     "metadata": {},
     "output_type": "display_data"
    }
   ],
   "source": [
    "head(grl2, 3)"
   ]
  },
  {
   "cell_type": "markdown",
   "metadata": {},
   "source": [
    "## si \n",
    "### returns Seqinfo object for hg19"
   ]
  },
  {
   "cell_type": "code",
   "execution_count": 49,
   "metadata": {},
   "outputs": [
    {
     "data": {
      "text/plain": [
       "Seqinfo object with 25 sequences from hg19 genome:\n",
       "  seqnames seqlengths isCircular genome\n",
       "  1         249250621      FALSE   hg19\n",
       "  2         243199373      FALSE   hg19\n",
       "  3         198022430      FALSE   hg19\n",
       "  4         191154276      FALSE   hg19\n",
       "  5         180915260      FALSE   hg19\n",
       "  ...             ...        ...    ...\n",
       "  21         48129895      FALSE   hg19\n",
       "  22         51304566      FALSE   hg19\n",
       "  X         155270560      FALSE   hg19\n",
       "  Y          59373566      FALSE   hg19\n",
       "  M             16571      FALSE   hg19"
      ]
     },
     "metadata": {},
     "output_type": "display_data"
    }
   ],
   "source": [
    "# si\n",
    "## Data: si, Seqinfo object\n",
    "## Details:\n",
    "## Seqinfo object for hg19\n",
    "\n",
    "si "
   ]
  },
  {
   "cell_type": "markdown",
   "metadata": {},
   "source": [
    "## grl.hiC\n",
    "### HiC data for chr14 from Lieberman-Aiden 2009 (in hg19), subsampled to 10,000 interactions\n"
   ]
  },
  {
   "cell_type": "code",
   "execution_count": 50,
   "metadata": {},
   "outputs": [
    {
     "data": {
      "text/plain": [
       "GRangesList object of length 6:\n",
       "$462760 \n",
       "GRanges object with 2 ranges and 1 metadata column:\n",
       "      seqnames               ranges strand |        id\n",
       "         <Rle>            <IRanges>  <Rle> | <integer>\n",
       "  [1]       14 [72176266, 72176266]      - |    462760\n",
       "  [2]       14 [72422406, 72422406]      - |    462760\n",
       "\n",
       "$40284 \n",
       "GRanges object with 2 ranges and 1 metadata column:\n",
       "      seqnames               ranges strand |    id\n",
       "  [1]       14 [74904243, 74904243]      + | 40284\n",
       "  [2]       14 [74905303, 74905303]      - | 40284\n",
       "\n",
       "$240518 \n",
       "GRanges object with 2 ranges and 1 metadata column:\n",
       "      seqnames               ranges strand |     id\n",
       "  [1]       14 [23569934, 23569934]      + | 240518\n",
       "  [2]       14 [96453342, 96453342]      + | 240518\n",
       "\n",
       "...\n",
       "<3 more elements>\n",
       "-------\n",
       "seqinfo: 25 sequences from an unspecified genome"
      ]
     },
     "metadata": {},
     "output_type": "display_data"
    }
   ],
   "source": [
    "# grl.hiC\n",
    "## Data: 'grl.hiC', GRangesList\n",
    "## Details:\n",
    "## HiC data for chr14 from Lieberman-Aiden 2009 (in hg19), subsampled\n",
    "## to 10,000 interactions\n",
    "\n",
    "head(grl.hiC)"
   ]
  },
  {
   "cell_type": "code",
   "execution_count": null,
   "metadata": {
    "collapsed": true
   },
   "outputs": [],
   "source": []
  },
  {
   "cell_type": "code",
   "execution_count": null,
   "metadata": {
    "collapsed": true
   },
   "outputs": [],
   "source": []
  }
 ],
 "metadata": {
  "kernelspec": {
   "display_name": "R 3.3",
   "language": "R",
   "name": "ir33"
  },
  "language_info": {
   "codemirror_mode": "r",
   "file_extension": ".r",
   "mimetype": "text/x-r-source",
   "name": "R",
   "pygments_lexer": "r",
   "version": "3.4.3"
  }
 },
 "nbformat": 4,
 "nbformat_minor": 2
}
