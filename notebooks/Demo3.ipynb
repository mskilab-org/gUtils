{
 "cells": [
  {
   "cell_type": "markdown",
   "metadata": {},
   "source": [
    "# Load packages"
   ]
  },
  {
   "cell_type": "code",
   "execution_count": 1,
   "metadata": {},
   "outputs": [],
   "source": [
    "suppressWarnings(suppressMessages(library(gUtils)))\n",
    "suppressWarnings(suppressMessages(library(BSgenome.Hsapiens.UCSC.hg19)))\n",
    "Sys.setenv(DEFAULT_BSGENOME = 'BSgenome.Hsapiens.UCSC.hg19::Hsapiens')"
   ]
  },
  {
   "cell_type": "markdown",
   "metadata": {},
   "source": [
    "# Create GRanges for examples"
   ]
  },
  {
   "cell_type": "code",
   "execution_count": 2,
   "metadata": {},
   "outputs": [
    {
     "name": "stdout",
     "output_type": "stream",
     "text": [
      "[1] \"print gr1:\"\n",
      "GRanges object with 10 ranges and 2 metadata columns:\n",
      "    seqnames     ranges strand |     score                GC\n",
      "       <Rle>  <IRanges>  <Rle> | <integer>         <numeric>\n",
      "  a        1 [101, 111]      - |         1                 1\n",
      "  b        2 [102, 112]      + |         2 0.888888888888889\n",
      "  c        2 [103, 113]      + |         3 0.777777777777778\n",
      "  d        2 [104, 114]      * |         4 0.666666666666667\n",
      "  e        1 [105, 115]      * |         5 0.555555555555556\n",
      "  f        1 [106, 116]      + |         6 0.444444444444444\n",
      "  g        3 [107, 117]      + |         7 0.333333333333333\n",
      "  h        3 [108, 118]      + |         8 0.222222222222222\n",
      "  i        3 [109, 119]      - |         9 0.111111111111111\n",
      "  j        3 [110, 120]      - |        10                 0\n",
      "  -------\n",
      "  seqinfo: 3 sequences from an unspecified genome; no seqlengths\n",
      "[1] \"print gr2 :\"\n",
      "GRanges object with 3 ranges and 1 metadata column:\n",
      "      seqnames     ranges strand |        name\n",
      "         <Rle>  <IRanges>  <Rle> | <character>\n",
      "  [1]        1 [103, 105]      + |           A\n",
      "  [2]        1 [107, 109]      - |           B\n",
      "  [3]        1 [113, 116]      - |           C\n",
      "  -------\n",
      "  seqinfo: 1 sequence from an unspecified genome; no seqlengths\n"
     ]
    }
   ],
   "source": [
    "## instantiate GRanges objects\n",
    "\n",
    "gr1 = suppressWarnings(GRanges(\n",
    "    seqnames = Rle(c(1, 2, 1, 3), c(1, 3, 2, 4)),\n",
    "    ranges = IRanges(101:110, end = 111:120, names = head(letters, 10)),\n",
    "    strand = Rle(strand(c(\"-\", \"+\", \"*\", \"+\", \"-\")), c(1, 2, 2, 3, 2)),\n",
    "    score = 1:10,\n",
    "    GC = seq(1, 0, length=10)))\n",
    "\n",
    "gr2 = GRanges(1, IRanges(c(103, 107, 113), c(105, 109, 116)), \n",
    "    strand=c('+','-','-'), \n",
    "    name=c(\"A\",\"B\",\"C\"))\n",
    "\n",
    "print('print gr1:')\n",
    "print(gr1)\n",
    "print('print gr2 :')\n",
    "print(gr2)"
   ]
  },
  {
   "cell_type": "markdown",
   "metadata": {},
   "source": [
    "# gr.match()\n",
    "### gr.match(grA, grB) returns a length(grA) integer vector whose item i contains the first index in grB overlapping grA[i] "
   ]
  },
  {
   "cell_type": "code",
   "execution_count": 3,
   "metadata": {
    "collapsed": true
   },
   "outputs": [],
   "source": [
    "### Function: \n",
    "### gr.match()\n",
    "### gr.match(grA, grB) returns a length(grA) integer vector whose item i contains the first index in grB overlapping grA[i] \n",
    "### The function has been implemented to be multithreaded via `parallel::mc.cores`\n",
    "### \n",
    "### Args:\n",
    "### 'query' GRanges\n",
    "### 'subject' GRanges\n",
    "### 'ignore.strand' if FALSE, gr.match() will be strand specific. if TRUE, it is strand-agnostic\n",
    "### 'max.slice' max slice of query to match at a time (default = Inf)\n",
    "### 'verbose' boolean flag to set whether to give verbose output (default = FALSE)\n",
    "### 'mc.cores' the number of cores to use (default = 1)\n",
    "### \n",
    "### Use:\n",
    "### gr.match(query, subject)\n",
    "### "
   ]
  },
  {
   "cell_type": "code",
   "execution_count": 4,
   "metadata": {},
   "outputs": [
    {
     "name": "stderr",
     "output_type": "stream",
     "text": [
      "Warning message:\n",
      "“\"ranges\" method for Hits objects is deprecated. Please use\n",
      "  overlapsRanges() instead.”"
     ]
    },
    {
     "data": {
      "text/html": [
       "<ol class=list-inline>\n",
       "\t<li>1</li>\n",
       "\t<li>&lt;NA&gt;</li>\n",
       "\t<li>&lt;NA&gt;</li>\n",
       "\t<li>&lt;NA&gt;</li>\n",
       "\t<li>1</li>\n",
       "\t<li>2</li>\n",
       "\t<li>&lt;NA&gt;</li>\n",
       "\t<li>&lt;NA&gt;</li>\n",
       "\t<li>&lt;NA&gt;</li>\n",
       "\t<li>&lt;NA&gt;</li>\n",
       "</ol>\n"
      ],
      "text/latex": [
       "\\begin{enumerate*}\n",
       "\\item 1\n",
       "\\item <NA>\n",
       "\\item <NA>\n",
       "\\item <NA>\n",
       "\\item 1\n",
       "\\item 2\n",
       "\\item <NA>\n",
       "\\item <NA>\n",
       "\\item <NA>\n",
       "\\item <NA>\n",
       "\\end{enumerate*}\n"
      ],
      "text/markdown": [
       "1. 1\n",
       "2. &lt;NA&gt;\n",
       "3. &lt;NA&gt;\n",
       "4. &lt;NA&gt;\n",
       "5. 1\n",
       "6. 2\n",
       "7. &lt;NA&gt;\n",
       "8. &lt;NA&gt;\n",
       "9. &lt;NA&gt;\n",
       "10. &lt;NA&gt;\n",
       "\n",
       "\n"
      ],
      "text/plain": [
       " [1]  1 NA NA NA  1  2 NA NA NA NA"
      ]
     },
     "metadata": {},
     "output_type": "display_data"
    }
   ],
   "source": [
    "gr.match(gr1, gr2, ignore.strand=TRUE)"
   ]
  },
  {
   "cell_type": "code",
   "execution_count": 5,
   "metadata": {},
   "outputs": [
    {
     "name": "stderr",
     "output_type": "stream",
     "text": [
      "Warning message:\n",
      "“\"ranges\" method for Hits objects is deprecated. Please use\n",
      "  overlapsRanges() instead.”"
     ]
    },
    {
     "data": {
      "text/html": [
       "<ol class=list-inline>\n",
       "\t<li>2</li>\n",
       "\t<li>&lt;NA&gt;</li>\n",
       "\t<li>&lt;NA&gt;</li>\n",
       "\t<li>&lt;NA&gt;</li>\n",
       "\t<li>1</li>\n",
       "\t<li>&lt;NA&gt;</li>\n",
       "\t<li>&lt;NA&gt;</li>\n",
       "\t<li>&lt;NA&gt;</li>\n",
       "\t<li>&lt;NA&gt;</li>\n",
       "\t<li>&lt;NA&gt;</li>\n",
       "</ol>\n"
      ],
      "text/latex": [
       "\\begin{enumerate*}\n",
       "\\item 2\n",
       "\\item <NA>\n",
       "\\item <NA>\n",
       "\\item <NA>\n",
       "\\item 1\n",
       "\\item <NA>\n",
       "\\item <NA>\n",
       "\\item <NA>\n",
       "\\item <NA>\n",
       "\\item <NA>\n",
       "\\end{enumerate*}\n"
      ],
      "text/markdown": [
       "1. 2\n",
       "2. &lt;NA&gt;\n",
       "3. &lt;NA&gt;\n",
       "4. &lt;NA&gt;\n",
       "5. 1\n",
       "6. &lt;NA&gt;\n",
       "7. &lt;NA&gt;\n",
       "8. &lt;NA&gt;\n",
       "9. &lt;NA&gt;\n",
       "10. &lt;NA&gt;\n",
       "\n",
       "\n"
      ],
      "text/plain": [
       " [1]  2 NA NA NA  1 NA NA NA NA NA"
      ]
     },
     "metadata": {},
     "output_type": "display_data"
    }
   ],
   "source": [
    "gr.match(gr1, gr2, ignore.strand=FALSE)"
   ]
  },
  {
   "cell_type": "code",
   "execution_count": 6,
   "metadata": {},
   "outputs": [
    {
     "name": "stderr",
     "output_type": "stream",
     "text": [
      "Warning message:\n",
      "“\"ranges\" method for Hits objects is deprecated. Please use\n",
      "  overlapsRanges() instead.”"
     ]
    },
    {
     "data": {
      "text/html": [
       "<ol class=list-inline>\n",
       "\t<li>1</li>\n",
       "\t<li>1</li>\n",
       "\t<li>5</li>\n",
       "</ol>\n"
      ],
      "text/latex": [
       "\\begin{enumerate*}\n",
       "\\item 1\n",
       "\\item 1\n",
       "\\item 5\n",
       "\\end{enumerate*}\n"
      ],
      "text/markdown": [
       "1. 1\n",
       "2. 1\n",
       "3. 5\n",
       "\n",
       "\n"
      ],
      "text/plain": [
       "[1] 1 1 5"
      ]
     },
     "metadata": {},
     "output_type": "display_data"
    }
   ],
   "source": [
    "gr.match(gr2, gr1, ignore.strand=TRUE)"
   ]
  },
  {
   "cell_type": "code",
   "execution_count": 7,
   "metadata": {},
   "outputs": [
    {
     "name": "stderr",
     "output_type": "stream",
     "text": [
      "Warning message:\n",
      "“\"ranges\" method for Hits objects is deprecated. Please use\n",
      "  overlapsRanges() instead.”"
     ]
    },
    {
     "data": {
      "text/html": [
       "<ol class=list-inline>\n",
       "\t<li>5</li>\n",
       "\t<li>1</li>\n",
       "\t<li>5</li>\n",
       "</ol>\n"
      ],
      "text/latex": [
       "\\begin{enumerate*}\n",
       "\\item 5\n",
       "\\item 1\n",
       "\\item 5\n",
       "\\end{enumerate*}\n"
      ],
      "text/markdown": [
       "1. 5\n",
       "2. 1\n",
       "3. 5\n",
       "\n",
       "\n"
      ],
      "text/plain": [
       "[1] 5 1 5"
      ]
     },
     "metadata": {},
     "output_type": "display_data"
    }
   ],
   "source": [
    "gr.match(gr2, gr1, ignore.strand=FALSE)"
   ]
  },
  {
   "cell_type": "markdown",
   "metadata": {},
   "source": [
    "# gr.tile.map()\n",
    "### gr.tile.map(gr_query, gr_subject) returns a length(gr_query) list whose items are integer vectors of indices in gr_subject  which overlap gr_query"
   ]
  },
  {
   "cell_type": "code",
   "execution_count": 8,
   "metadata": {
    "collapsed": true
   },
   "outputs": [],
   "source": [
    "## Function: \n",
    "## gr.tile.map()\n",
    "## gr.tile.map(gr_query, gr_subject) returns a length(gr_query) list whose items are integer vectors of indices in gr_subject \n",
    "## which overlap gr_query\n",
    "## \n",
    "## gr.tile.map() is strand-agnostic (it ignores the strand)\n",
    "## \n",
    "## 'gr.tile.map()' assumes that input query and subject have no gaps (including at end) or overlaps, i.e. ignores end()\n",
    "#' coordinates and only uses \"starts\"\n",
    "##\n",
    "## Use:\n",
    "## gr.tile.map(query, subject, verbose = FALSE)\n",
    "## \n",
    "## Refer to function 'gr.tile()'"
   ]
  },
  {
   "cell_type": "code",
   "execution_count": 9,
   "metadata": {},
   "outputs": [
    {
     "name": "stderr",
     "output_type": "stream",
     "text": [
      "Warning message in gr.tile.map(gr2, gr1):\n",
      "“Warning: Query GRanges has gaps. Unexpected behavior may follow”Warning message in gr.tile.map(gr2, gr1):\n",
      "“Warning: Subject GRanges has gaps. Unexpected behavior may follow”"
     ]
    },
    {
     "data": {
      "text/html": [
       "<dl>\n",
       "\t<dt>$`1`</dt>\n",
       "\t\t<dd><ol class=list-inline>\n",
       "\t<li>1</li>\n",
       "\t<li>5</li>\n",
       "\t<li>6</li>\n",
       "</ol>\n",
       "</dd>\n",
       "\t<dt>$`2`</dt>\n",
       "\t\t<dd>6</dd>\n",
       "\t<dt>$`3`</dt>\n",
       "\t\t<dd>6</dd>\n",
       "</dl>\n"
      ],
      "text/latex": [
       "\\begin{description}\n",
       "\\item[\\$`1`] \\begin{enumerate*}\n",
       "\\item 1\n",
       "\\item 5\n",
       "\\item 6\n",
       "\\end{enumerate*}\n",
       "\n",
       "\\item[\\$`2`] 6\n",
       "\\item[\\$`3`] 6\n",
       "\\end{description}\n"
      ],
      "text/markdown": [
       "$`1`\n",
       ":   1. 1\n",
       "2. 5\n",
       "3. 6\n",
       "\n",
       "\n",
       "\n",
       "$`2`\n",
       ":   6\n",
       "$`3`\n",
       ":   6\n",
       "\n",
       "\n"
      ],
      "text/plain": [
       "$`1`\n",
       "[1] 1 5 6\n",
       "\n",
       "$`2`\n",
       "[1] 6\n",
       "\n",
       "$`3`\n",
       "[1] 6\n"
      ]
     },
     "metadata": {},
     "output_type": "display_data"
    }
   ],
   "source": [
    "gr.tile.map(gr2, gr1)"
   ]
  },
  {
   "cell_type": "markdown",
   "metadata": {},
   "source": [
    "# grbind()\n",
    "### grbind() returns a concatenated GRanges"
   ]
  },
  {
   "cell_type": "code",
   "execution_count": 10,
   "metadata": {
    "collapsed": true
   },
   "outputs": [],
   "source": [
    "## Function: \n",
    "## grbind() returns a concatenated GRanges\n",
    "## \n",
    "## Use:\n",
    "## grbind(input_GRanges1, input_GRanges2, ...)\n",
    "## \n",
    "## See function 'grl.bind()' "
   ]
  },
  {
   "cell_type": "code",
   "execution_count": 11,
   "metadata": {},
   "outputs": [
    {
     "name": "stderr",
     "output_type": "stream",
     "text": [
      "Warning message in valid.GenomicRanges.seqinfo(x, suggest.trim = TRUE):\n",
      "“GRanges object contains 10 out-of-bound ranges located on sequences 1,\n",
      "  2, and 3. Note that only ranges located on a non-circular sequence\n",
      "  whose length is not NA can be considered out-of-bound (use seqlengths()\n",
      "  and isCircular() to get the lengths and circularity flags of the\n",
      "  underlying sequences). You can use trim() to trim these ranges. See\n",
      "  ?`trim,GenomicRanges-method` for more information.”Warning message in valid.GenomicRanges.seqinfo(x, suggest.trim = TRUE):\n",
      "“GRanges object contains 3 out-of-bound ranges located on sequence 1.\n",
      "  Note that only ranges located on a non-circular sequence whose length\n",
      "  is not NA can be considered out-of-bound (use seqlengths() and\n",
      "  isCircular() to get the lengths and circularity flags of the underlying\n",
      "  sequences). You can use trim() to trim these ranges. See\n",
      "  ?`trim,GenomicRanges-method` for more information.”"
     ]
    },
    {
     "data": {
      "text/plain": [
       "GRanges object with 13 ranges and 3 metadata columns:\n",
       "       seqnames     ranges strand |     score        GC     name\n",
       "          <Rle>  <IRanges>  <Rle> | <integer> <numeric> <factor>\n",
       "   [1]        1 [101, 111]      - |         1 1.0000000     <NA>\n",
       "   [2]        2 [102, 112]      + |         2 0.8888889     <NA>\n",
       "   [3]        2 [103, 113]      + |         3 0.7777778     <NA>\n",
       "   [4]        2 [104, 114]      * |         4 0.6666667     <NA>\n",
       "   [5]        1 [105, 115]      * |         5 0.5555556     <NA>\n",
       "   ...      ...        ...    ... .       ...       ...      ...\n",
       "   [9]        3 [109, 119]      - |         9 0.1111111     <NA>\n",
       "  [10]        3 [110, 120]      - |        10 0.0000000     <NA>\n",
       "  [11]        1 [103, 105]      + |      <NA>      <NA>        A\n",
       "  [12]        1 [107, 109]      - |      <NA>      <NA>        B\n",
       "  [13]        1 [113, 116]      - |      <NA>      <NA>        C\n",
       "  -------\n",
       "  seqinfo: 25 sequences from an unspecified genome"
      ]
     },
     "metadata": {},
     "output_type": "display_data"
    }
   ],
   "source": [
    "grbind(gr1, gr2)"
   ]
  },
  {
   "cell_type": "code",
   "execution_count": 12,
   "metadata": {},
   "outputs": [
    {
     "name": "stderr",
     "output_type": "stream",
     "text": [
      "Warning message in valid.GenomicRanges.seqinfo(x, suggest.trim = TRUE):\n",
      "“GRanges object contains 3 out-of-bound ranges located on sequence 1.\n",
      "  Note that only ranges located on a non-circular sequence whose length\n",
      "  is not NA can be considered out-of-bound (use seqlengths() and\n",
      "  isCircular() to get the lengths and circularity flags of the underlying\n",
      "  sequences). You can use trim() to trim these ranges. See\n",
      "  ?`trim,GenomicRanges-method` for more information.”Warning message in valid.GenomicRanges.seqinfo(x, suggest.trim = TRUE):\n",
      "“GRanges object contains 10 out-of-bound ranges located on sequences 1,\n",
      "  2, and 3. Note that only ranges located on a non-circular sequence\n",
      "  whose length is not NA can be considered out-of-bound (use seqlengths()\n",
      "  and isCircular() to get the lengths and circularity flags of the\n",
      "  underlying sequences). You can use trim() to trim these ranges. See\n",
      "  ?`trim,GenomicRanges-method` for more information.”"
     ]
    },
    {
     "data": {
      "text/plain": [
       "GRanges object with 13 ranges and 3 metadata columns:\n",
       "       seqnames     ranges strand |     name     score        GC\n",
       "          <Rle>  <IRanges>  <Rle> | <factor> <integer> <numeric>\n",
       "   [1]        1 [103, 105]      + |        A      <NA>      <NA>\n",
       "   [2]        1 [107, 109]      - |        B      <NA>      <NA>\n",
       "   [3]        1 [113, 116]      - |        C      <NA>      <NA>\n",
       "   [4]        1 [101, 111]      - |     <NA>         1 1.0000000\n",
       "   [5]        2 [102, 112]      + |     <NA>         2 0.8888889\n",
       "   ...      ...        ...    ... .      ...       ...       ...\n",
       "   [9]        1 [106, 116]      + |     <NA>         6 0.4444444\n",
       "  [10]        3 [107, 117]      + |     <NA>         7 0.3333333\n",
       "  [11]        3 [108, 118]      + |     <NA>         8 0.2222222\n",
       "  [12]        3 [109, 119]      - |     <NA>         9 0.1111111\n",
       "  [13]        3 [110, 120]      - |     <NA>        10 0.0000000\n",
       "  -------\n",
       "  seqinfo: 25 sequences from an unspecified genome"
      ]
     },
     "metadata": {},
     "output_type": "display_data"
    }
   ],
   "source": [
    "grbind(gr2, gr1)  ## order-specific"
   ]
  },
  {
   "cell_type": "markdown",
   "metadata": {},
   "source": [
    "# grl.bind()\n",
    "### grl.bind() returns a concatenated GRangesList "
   ]
  },
  {
   "cell_type": "code",
   "execution_count": 13,
   "metadata": {
    "collapsed": true
   },
   "outputs": [],
   "source": [
    "## Function: \n",
    "## grl.bind() returns a concatenated GRangesList \n",
    "## \n",
    "## Use:\n",
    "## grl.bind(input_GRangesList1, input_GRangesList2, ...)\n",
    "## \n",
    "## See function 'grbind()' "
   ]
  },
  {
   "cell_type": "code",
   "execution_count": 14,
   "metadata": {},
   "outputs": [
    {
     "data": {
      "text/plain": [
       "GRangesList object of length 10:\n",
       "$1 \n",
       "GRanges object with 2 ranges and 1 metadata column:\n",
       "      seqnames                 ranges strand |       bin\n",
       "         <Rle>              <IRanges>  <Rle> | <integer>\n",
       "  [1]        5 [146981323, 146981323]      - |        10\n",
       "  [2]       14 [104605059, 104605059]      + |        10\n",
       "\n",
       "$2 \n",
       "GRanges object with 2 ranges and 1 metadata column:\n",
       "      seqnames                 ranges strand | bin\n",
       "  [1]        9 [140100229, 140100229]      - |  26\n",
       "  [2]       19 [ 24309057,  24309057]      - |  26\n",
       "\n",
       "$3 \n",
       "GRanges object with 2 ranges and 1 metadata column:\n",
       "      seqnames                 ranges strand | bin\n",
       "  [1]        5 [132216750, 132216750]      - |  49\n",
       "  [2]       17 [  4803057,   4803057]      + |  49\n",
       "\n",
       "...\n",
       "<7 more elements>\n",
       "-------\n",
       "seqinfo: 25 sequences from an unspecified genome"
      ]
     },
     "metadata": {},
     "output_type": "display_data"
    }
   ],
   "source": [
    "grlist1 = grl1[1:5]  ## create two small GRangeLists as an example\n",
    "grlist2 = grl2[1:5]\n",
    "\n",
    "grl.bind(grlist1, grlist2)"
   ]
  },
  {
   "cell_type": "markdown",
   "metadata": {},
   "source": [
    "# gr.dist()\n",
    "### gr.dist() returns a concatenated GRangesList "
   ]
  },
  {
   "cell_type": "code",
   "execution_count": 15,
   "metadata": {
    "collapsed": true
   },
   "outputs": [],
   "source": [
    "## Function: \n",
    "## gr.dist() returns a concatenated GRangesList \n",
    "## \n",
    "## Args: \n",
    "## 'ignore.strand' If TRUE, will ignore strand. If FALSE, operation is strand-specific. \n",
    "## \n",
    "## Use:\n",
    "## gr.dist(input_GRanges1, input_GRanges2)\n",
    "## "
   ]
  },
  {
   "cell_type": "code",
   "execution_count": 16,
   "metadata": {},
   "outputs": [
    {
     "data": {
      "text/html": [
       "<table>\n",
       "<tbody>\n",
       "\t<tr><td>NA</td><td>NA</td><td>NA</td><td>NA</td><td>0 </td><td> 0</td><td>NA</td><td>NA</td><td>NA</td><td>NA</td></tr>\n",
       "\t<tr><td> 0</td><td>NA</td><td>NA</td><td>NA</td><td>0 </td><td>NA</td><td>NA</td><td>NA</td><td>NA</td><td>NA</td></tr>\n",
       "\t<tr><td> 1</td><td>NA</td><td>NA</td><td>NA</td><td>0 </td><td>NA</td><td>NA</td><td>NA</td><td>NA</td><td>NA</td></tr>\n",
       "</tbody>\n",
       "</table>\n"
      ],
      "text/latex": [
       "\\begin{tabular}{llllllllll}\n",
       "\t NA & NA & NA & NA & 0  &  0 & NA & NA & NA & NA\\\\\n",
       "\t  0 & NA & NA & NA & 0  & NA & NA & NA & NA & NA\\\\\n",
       "\t  1 & NA & NA & NA & 0  & NA & NA & NA & NA & NA\\\\\n",
       "\\end{tabular}\n"
      ],
      "text/markdown": [
       "\n",
       "| NA | NA | NA | NA | 0  |  0 | NA | NA | NA | NA | \n",
       "|  0 | NA | NA | NA | 0  | NA | NA | NA | NA | NA | \n",
       "|  1 | NA | NA | NA | 0  | NA | NA | NA | NA | NA | \n",
       "\n",
       "\n"
      ],
      "text/plain": [
       "     [,1] [,2] [,3] [,4] [,5] [,6] [,7] [,8] [,9] [,10]\n",
       "[1,] NA   NA   NA   NA   0     0   NA   NA   NA   NA   \n",
       "[2,]  0   NA   NA   NA   0    NA   NA   NA   NA   NA   \n",
       "[3,]  1   NA   NA   NA   0    NA   NA   NA   NA   NA   "
      ]
     },
     "metadata": {},
     "output_type": "display_data"
    }
   ],
   "source": [
    "gr.dist(gr2, gr1)"
   ]
  },
  {
   "cell_type": "code",
   "execution_count": 17,
   "metadata": {},
   "outputs": [
    {
     "data": {
      "text/html": [
       "<table>\n",
       "<tbody>\n",
       "\t<tr><td>0 </td><td>NA</td><td>NA</td><td>NA</td><td>0 </td><td>0 </td><td>NA</td><td>NA</td><td>NA</td><td>NA</td></tr>\n",
       "\t<tr><td>0 </td><td>NA</td><td>NA</td><td>NA</td><td>0 </td><td>0 </td><td>NA</td><td>NA</td><td>NA</td><td>NA</td></tr>\n",
       "\t<tr><td>1 </td><td>NA</td><td>NA</td><td>NA</td><td>0 </td><td>0 </td><td>NA</td><td>NA</td><td>NA</td><td>NA</td></tr>\n",
       "</tbody>\n",
       "</table>\n"
      ],
      "text/latex": [
       "\\begin{tabular}{llllllllll}\n",
       "\t 0  & NA & NA & NA & 0  & 0  & NA & NA & NA & NA\\\\\n",
       "\t 0  & NA & NA & NA & 0  & 0  & NA & NA & NA & NA\\\\\n",
       "\t 1  & NA & NA & NA & 0  & 0  & NA & NA & NA & NA\\\\\n",
       "\\end{tabular}\n"
      ],
      "text/markdown": [
       "\n",
       "| 0  | NA | NA | NA | 0  | 0  | NA | NA | NA | NA | \n",
       "| 0  | NA | NA | NA | 0  | 0  | NA | NA | NA | NA | \n",
       "| 1  | NA | NA | NA | 0  | 0  | NA | NA | NA | NA | \n",
       "\n",
       "\n"
      ],
      "text/plain": [
       "     [,1] [,2] [,3] [,4] [,5] [,6] [,7] [,8] [,9] [,10]\n",
       "[1,] 0    NA   NA   NA   0    0    NA   NA   NA   NA   \n",
       "[2,] 0    NA   NA   NA   0    0    NA   NA   NA   NA   \n",
       "[3,] 1    NA   NA   NA   0    0    NA   NA   NA   NA   "
      ]
     },
     "metadata": {},
     "output_type": "display_data"
    }
   ],
   "source": [
    "gr.dist(gr2, gr1, ignore.strand = TRUE)"
   ]
  },
  {
   "cell_type": "markdown",
   "metadata": {},
   "source": [
    "# gr.in()\n",
    "### gr.in(query, subject) returns boolean vector TRUE if query range i is found in any range in subject"
   ]
  },
  {
   "cell_type": "code",
   "execution_count": 18,
   "metadata": {
    "collapsed": true
   },
   "outputs": [],
   "source": [
    "## Function: \n",
    "## gr.in() \n",
    "## gr.in(query, subject) returns boolean vector TRUE if query range i is found in any range in subject. \n",
    "## \n",
    "## Motivation:\n",
    "## modified implementation of GenomicRanges::findOverlaps()\n",
    "## \n",
    "## Args: \n",
    "## 'query' GRanges Set of GRanges to query. Refer to gr.findoverlaps() and GenomicRanges::findOverlaps()\n",
    "## 'subject' GRanges Set of GRanges as 'subject' in query. Refer to gr.findoverlaps() and GenomicRanges::findOverlaps()\n",
    "## \n",
    "## Use:\n",
    "## gr.in(query, subject)\n",
    "##\n",
    "## See function 'grl.in()'"
   ]
  },
  {
   "cell_type": "code",
   "execution_count": 19,
   "metadata": {},
   "outputs": [
    {
     "name": "stderr",
     "output_type": "stream",
     "text": [
      "Warning message:\n",
      "“\"ranges\" method for Hits objects is deprecated. Please use\n",
      "  overlapsRanges() instead.”"
     ]
    },
    {
     "data": {
      "text/html": [
       "<ol class=list-inline>\n",
       "\t<li>TRUE</li>\n",
       "\t<li>FALSE</li>\n",
       "\t<li>FALSE</li>\n",
       "\t<li>FALSE</li>\n",
       "\t<li>TRUE</li>\n",
       "\t<li>TRUE</li>\n",
       "\t<li>FALSE</li>\n",
       "\t<li>FALSE</li>\n",
       "\t<li>FALSE</li>\n",
       "\t<li>FALSE</li>\n",
       "</ol>\n"
      ],
      "text/latex": [
       "\\begin{enumerate*}\n",
       "\\item TRUE\n",
       "\\item FALSE\n",
       "\\item FALSE\n",
       "\\item FALSE\n",
       "\\item TRUE\n",
       "\\item TRUE\n",
       "\\item FALSE\n",
       "\\item FALSE\n",
       "\\item FALSE\n",
       "\\item FALSE\n",
       "\\end{enumerate*}\n"
      ],
      "text/markdown": [
       "1. TRUE\n",
       "2. FALSE\n",
       "3. FALSE\n",
       "4. FALSE\n",
       "5. TRUE\n",
       "6. TRUE\n",
       "7. FALSE\n",
       "8. FALSE\n",
       "9. FALSE\n",
       "10. FALSE\n",
       "\n",
       "\n"
      ],
      "text/plain": [
       " [1]  TRUE FALSE FALSE FALSE  TRUE  TRUE FALSE FALSE FALSE FALSE"
      ]
     },
     "metadata": {},
     "output_type": "display_data"
    }
   ],
   "source": [
    "gr.in(gr1, gr2)"
   ]
  },
  {
   "cell_type": "markdown",
   "metadata": {},
   "source": [
    "# grl.in()\n",
    "### grl.in() calculates intersection of \\code{GRangesList} with windows on genome, returning a boolean vector of match status"
   ]
  },
  {
   "cell_type": "code",
   "execution_count": 20,
   "metadata": {
    "collapsed": true
   },
   "outputs": [],
   "source": [
    "## Function: \n",
    "## grl.in() calculates intersection of \\code{GRangesList} with windows on genome, returning a boolean vector of match status\n",
    "## \n",
    "## Motivation:\n",
    "## modified implementation of %in% for GRangesList\n",
    "## \n",
    "## Args: \n",
    "## 'windows' GRanges pile of windows\n",
    "## 'some' If TRUE, will return TRUE for GRangesList elements that intersect at least on window range (default = FALSE)\n",
    "## 'only'  If TRUE, will return TRUE for  GRangesList elements only if there are no elements of query that fail to intersect with windows (default = FALSE)\n",
    "## 'logical' If TRUE, will return logical otherwise will return numeric vector of number of windows overlapping each GRangeslist (default = TRUE)\n",
    "## 'exact' If TRUE, will return exact intersection\n",
    "##\n",
    "\n",
    "## Use:\n",
    "## gr.in(query, subject)\n",
    "##\n",
    "## See function 'gr.in()'"
   ]
  },
  {
   "cell_type": "code",
   "execution_count": 21,
   "metadata": {},
   "outputs": [
    {
     "data": {
      "text/html": [
       "<ol class=list-inline>\n",
       "\t<li>FALSE</li>\n",
       "\t<li>FALSE</li>\n",
       "\t<li>FALSE</li>\n",
       "\t<li>FALSE</li>\n",
       "\t<li>FALSE</li>\n",
       "\t<li>FALSE</li>\n",
       "\t<li>FALSE</li>\n",
       "\t<li>FALSE</li>\n",
       "\t<li>FALSE</li>\n",
       "\t<li>FALSE</li>\n",
       "</ol>\n"
      ],
      "text/latex": [
       "\\begin{enumerate*}\n",
       "\\item FALSE\n",
       "\\item FALSE\n",
       "\\item FALSE\n",
       "\\item FALSE\n",
       "\\item FALSE\n",
       "\\item FALSE\n",
       "\\item FALSE\n",
       "\\item FALSE\n",
       "\\item FALSE\n",
       "\\item FALSE\n",
       "\\end{enumerate*}\n"
      ],
      "text/markdown": [
       "1. FALSE\n",
       "2. FALSE\n",
       "3. FALSE\n",
       "4. FALSE\n",
       "5. FALSE\n",
       "6. FALSE\n",
       "7. FALSE\n",
       "8. FALSE\n",
       "9. FALSE\n",
       "10. FALSE\n",
       "\n",
       "\n"
      ],
      "text/plain": [
       " [1] FALSE FALSE FALSE FALSE FALSE FALSE FALSE FALSE FALSE FALSE"
      ]
     },
     "metadata": {},
     "output_type": "display_data"
    }
   ],
   "source": [
    "grl.in(grl.hiC[1:10], gr2)"
   ]
  },
  {
   "cell_type": "markdown",
   "metadata": {},
   "source": [
    "# gr.findoverlaps()\n",
    "### gr.findoverlaps(query, subject) returns intersecting GRanges, with query.id and subject.id marking sources"
   ]
  },
  {
   "cell_type": "code",
   "execution_count": 22,
   "metadata": {
    "collapsed": true
   },
   "outputs": [],
   "source": [
    "## Function: \n",
    "## gr.findoverlaps()\n",
    "## gr.findoverlaps(query, subject) returns intersecting GRanges, with query.id and subject.id marking sources\n",
    "## \n",
    "## Motivation:\n",
    "## modification of {GenomicRanges::findOverlaps() with added funtionality\n",
    "## \n",
    "## Args: \n",
    "## 'query' GRanges as query\n",
    "## 'subject' GRanges as subject\n",
    "## 'ignore.strand' Don't consider strand information during overlaps (default = TRUE)\n",
    "## 'first' If TRUEm restricts to only the first match of the subject. If FALSE will return all matches. (default = FALSE)\n",
    "## 'qcol' \\vector of query meta-data columns to add to results (default = NULL)\n",
    "## 'scol' vector of subject meta-data columns to add to results (default = NULL)\n",
    "## 'type' 'type' argument as defined by \\code{IRanges::findOverlaps} (\\code{\"any\"}, \\code{\"start\"}, \\code{\"end\"}, \\code{\"within\"}, \\code{\"equal\"}). (default = 'any')\n",
    "## 'by' Meta-data column to consider when performing overlaps (default = NULL)\n",
    "## 'return.type'Select data format to return (supplied as character): \\code{\"same\"}, \\code{\"data.table\"}, \\code{\"GRanges\"}. (default = 'same')\n",
    "## 'max.chunk' Maximum number of \\code{query*subject} ranges to consider at once. Lower number increases runtime but decreased memory. If \\code{length(query)*length(subject)} is less than \\code{max.chunk}, overlaps will run in one batch. (default = 1e3)\n",
    "## 'verbose' If TRUE, will increase the verbosity. (default = FALSE)\n",
    "## 'mc.cores' Number of cores to use when running in chunked mode (default = 1)\n",
    "## \n",
    "## Use: \n",
    "## gr.findoverlaps(query, subject, by='column_example')\n",
    "##"
   ]
  },
  {
   "cell_type": "code",
   "execution_count": 23,
   "metadata": {},
   "outputs": [
    {
     "name": "stderr",
     "output_type": "stream",
     "text": [
      "Warning message:\n",
      "“\"ranges\" method for Hits objects is deprecated. Please use\n",
      "  overlapsRanges() instead.”"
     ]
    },
    {
     "data": {
      "text/plain": [
       "GRanges object with 7 ranges and 2 metadata columns:\n",
       "      seqnames     ranges strand |  query.id subject.id\n",
       "         <Rle>  <IRanges>  <Rle> | <integer>  <integer>\n",
       "  [1]        1 [103, 105]      * |         1          1\n",
       "  [2]        1 [105, 105]      * |         5          1\n",
       "  [3]        1 [107, 109]      * |         1          2\n",
       "  [4]        1 [107, 109]      * |         5          2\n",
       "  [5]        1 [107, 109]      * |         6          2\n",
       "  [6]        1 [113, 115]      * |         5          3\n",
       "  [7]        1 [113, 116]      * |         6          3\n",
       "  -------\n",
       "  seqinfo: 25 sequences from an unspecified genome"
      ]
     },
     "metadata": {},
     "output_type": "display_data"
    }
   ],
   "source": [
    "gr.findoverlaps(gr1, gr2)"
   ]
  },
  {
   "cell_type": "code",
   "execution_count": 24,
   "metadata": {},
   "outputs": [
    {
     "name": "stderr",
     "output_type": "stream",
     "text": [
      "Warning message:\n",
      "“\"ranges\" method for Hits objects is deprecated. Please use\n",
      "  overlapsRanges() instead.”"
     ]
    },
    {
     "data": {
      "text/plain": [
       "GRanges object with 3 ranges and 2 metadata columns:\n",
       "      seqnames     ranges strand |  query.id subject.id\n",
       "         <Rle>  <IRanges>  <Rle> | <integer>  <integer>\n",
       "  [1]        1 [103, 105]      * |         1          1\n",
       "  [2]        1 [107, 109]      * |         5          2\n",
       "  [3]        1 [107, 109]      * |         6          2\n",
       "  -------\n",
       "  seqinfo: 25 sequences from an unspecified genome"
      ]
     },
     "metadata": {},
     "output_type": "display_data"
    }
   ],
   "source": [
    "gr1$name = c('A', 'A', 'A', 'A', 'B', 'B', 'B', 'C', 'D', 'D')  ## add meta data column 'name'\n",
    "\n",
    "\n",
    "gr.findoverlaps(gr1, gr2, by='name')"
   ]
  },
  {
   "cell_type": "markdown",
   "metadata": {},
   "source": [
    "# gr.setdiff()\n",
    "### gr.setdiff() returns indices of query in subject (modified from GenomicRanges::setdiff())"
   ]
  },
  {
   "cell_type": "code",
   "execution_count": 25,
   "metadata": {
    "collapsed": true
   },
   "outputs": [],
   "source": [
    "## Function: \n",
    "## gr.setdiff() returns indices of query in subject (modified from GenomicRanges::setdiff())\n",
    "## \n",
    "## Motivation:\n",
    "## modification of GenomicRanges::setdiff()\n",
    "## 'gr.setdiff()' is robust to common edge cases of setdiff(gr1, gr2)  where gr2 ranges are contained inside gr1's (yieldings\n",
    "## setdiffs yield two output ranges for some of the input gr1 intervals.\n",
    "## \n",
    "##\n",
    "## Args: \n",
    "## 'query' GRanges as query\n",
    "## 'subject' GRanges as subject\n",
    "## 'ignore.strand' If TRUE, operations will ignore strand. Refer to 'gr.findoverlaps()'. (default = TRUE)\n",
    "## 'by' Meta-data column to consider when performing overlaps. Refer to 'gr.findoverlaps()' documentation (default = NULL)\n",
    "##\n",
    "## Use: \n",
    "## gr.setdiff(query, subject)\n",
    "##"
   ]
  },
  {
   "cell_type": "code",
   "execution_count": 26,
   "metadata": {},
   "outputs": [
    {
     "name": "stderr",
     "output_type": "stream",
     "text": [
      "Warning message:\n",
      "“\"ranges\" method for Hits objects is deprecated. Please use\n",
      "  overlapsRanges() instead.”"
     ]
    },
    {
     "data": {
      "text/plain": [
       "GRanges object with 7 ranges and 5 metadata columns:\n",
       "      seqnames     ranges strand |  query.id subject.id     score        GC\n",
       "         <Rle>  <IRanges>  <Rle> | <integer>  <integer> <integer> <numeric>\n",
       "  [1]        1 [101, 102]      * |         1          1         1 1.0000000\n",
       "  [2]        1 [106, 106]      * |         1          2         1 1.0000000\n",
       "  [3]        1 [106, 106]      * |         5          2         5 0.5555556\n",
       "  [4]        1 [106, 106]      * |         6          2         6 0.4444444\n",
       "  [5]        1 [110, 111]      * |         1          3         1 1.0000000\n",
       "  [6]        1 [110, 112]      * |         5          3         5 0.5555556\n",
       "  [7]        1 [110, 112]      * |         6          3         6 0.4444444\n",
       "             name\n",
       "      <character>\n",
       "  [1]           A\n",
       "  [2]           A\n",
       "  [3]           B\n",
       "  [4]           B\n",
       "  [5]           A\n",
       "  [6]           B\n",
       "  [7]           B\n",
       "  -------\n",
       "  seqinfo: 25 sequences from an unspecified genome"
      ]
     },
     "metadata": {},
     "output_type": "display_data"
    }
   ],
   "source": [
    "gr.setdiff(gr1, gr2)"
   ]
  },
  {
   "cell_type": "markdown",
   "metadata": {},
   "source": [
    "# gr.merge()\n",
    "### gr.merge() merges GRanges by using coordinates as primary key"
   ]
  },
  {
   "cell_type": "code",
   "execution_count": 27,
   "metadata": {
    "collapsed": true
   },
   "outputs": [],
   "source": [
    "## Function: \n",
    "## gr.merge() merges GRanges by using coordinates as primary key\n",
    "## \n",
    "## Args: \n",
    "## 'query' Set of GRanges to query. \n",
    "## 'subject' \\Set of GRanges as 'subject' \n",
    "## 'by' Additional metadata fields to join on\n",
    "## 'all' If TRUE, executes left and right joins\n",
    "## 'all.query' If TRUE, executes left join (default = all)\n",
    "## 'all.subject' If TRUE, executes right join (default = all)\n",
    "## \n",
    "## Use: \n",
    "## gr.merge(query, subject)\n",
    "##"
   ]
  },
  {
   "cell_type": "code",
   "execution_count": 28,
   "metadata": {},
   "outputs": [
    {
     "name": "stderr",
     "output_type": "stream",
     "text": [
      "Warning message:\n",
      "“\"ranges\" method for Hits objects is deprecated. Please use\n",
      "  overlapsRanges() instead.”"
     ]
    },
    {
     "data": {
      "text/plain": [
       "GRanges object with 7 ranges and 5 metadata columns:\n",
       "      seqnames     ranges strand |  query.id subject.id     score        GC\n",
       "         <Rle>  <IRanges>  <Rle> | <integer>  <integer> <integer> <numeric>\n",
       "  [1]        1 [103, 105]      * |         1          1         1 1.0000000\n",
       "  [2]        1 [105, 105]      * |         5          1         5 0.5555556\n",
       "  [3]        1 [107, 109]      * |         1          2         1 1.0000000\n",
       "  [4]        1 [107, 109]      * |         5          2         5 0.5555556\n",
       "  [5]        1 [107, 109]      * |         6          2         6 0.4444444\n",
       "  [6]        1 [113, 115]      * |         5          3         5 0.5555556\n",
       "  [7]        1 [113, 116]      * |         6          3         6 0.4444444\n",
       "             name\n",
       "      <character>\n",
       "  [1]           A\n",
       "  [2]           A\n",
       "  [3]           B\n",
       "  [4]           B\n",
       "  [5]           B\n",
       "  [6]           C\n",
       "  [7]           C\n",
       "  -------\n",
       "  seqinfo: 25 sequences from an unspecified genome"
      ]
     },
     "metadata": {},
     "output_type": "display_data"
    }
   ],
   "source": [
    "gr1 = GRanges(              \n",
    "    seqnames = Rle(c(1, 2, 1, 3), c(1, 3, 2, 4)),\n",
    "    ranges = IRanges(101:110, end = 111:120, names = head(letters, 10)),\n",
    "    strand = Rle(strand(c(\"-\", \"+\", \"*\", \"+\", \"-\")), c(1, 2, 2, 3, 2)),\n",
    "    score = 1:10,\n",
    "    GC = seq(1, 0, length=10))\n",
    "\n",
    "gr.merge(gr1, gr2)"
   ]
  },
  {
   "cell_type": "code",
   "execution_count": 29,
   "metadata": {},
   "outputs": [
    {
     "name": "stderr",
     "output_type": "stream",
     "text": [
      "Warning message:\n",
      "“\"ranges\" method for Hits objects is deprecated. Please use\n",
      "  overlapsRanges() instead.”"
     ]
    },
    {
     "data": {
      "text/plain": [
       "GRanges object with 3 ranges and 5 metadata columns:\n",
       "      seqnames     ranges strand |  query.id subject.id     score        GC\n",
       "         <Rle>  <IRanges>  <Rle> | <integer>  <integer> <integer> <numeric>\n",
       "  [1]        1 [103, 105]      * |         1          1         1 1.0000000\n",
       "  [2]        1 [107, 109]      * |         5          2         5 0.5555556\n",
       "  [3]        1 [107, 109]      * |         6          2         6 0.4444444\n",
       "             name\n",
       "      <character>\n",
       "  [1]           A\n",
       "  [2]           B\n",
       "  [3]           B\n",
       "  -------\n",
       "  seqinfo: 25 sequences from an unspecified genome"
      ]
     },
     "metadata": {},
     "output_type": "display_data"
    }
   ],
   "source": [
    "gr1$name = c('A', 'A', 'A', 'A', 'B', 'B', 'B', 'C', 'D', 'D')  ## add meta data column 'name'\n",
    "\n",
    "\n",
    "gr.merge(gr1, gr2, by='name')"
   ]
  },
  {
   "cell_type": "markdown",
   "metadata": {},
   "source": [
    "# gr.val()\n",
    "### gr.val(query, target) annotates input GRanges with values from another GRanges"
   ]
  },
  {
   "cell_type": "code",
   "execution_count": 30,
   "metadata": {
    "collapsed": true
   },
   "outputs": [],
   "source": [
    "## Function: \n",
    "## gr.val() annotates input GRanges with values from another GRanges\n",
    "## \n",
    "## 'query' and 'target' can be GRangesList, in which case 'val' will refer to GRangeslist level values fields\n",
    "##\n",
    "## Args: \n",
    "## 'query' GRanges of query ranges whose 'val' column we will populate with aggregated values of 'target'\n",
    "## 'target' GRanges of target ranges that already have \"val\" column populated\n",
    "## 'val' If a character field: then aggregation will paste together the (unique) overlapping values, collapsing by comma. (default = NULL)\n",
    "## 'mean' If FALSE, then will return sum instead of mean, only applies if target 'val' column is numeric. (default = TRUE)\n",
    "## 'weighted' Calculate a weighted mean. If FALSE, calculates unweighted mean. (default = 'mean')\n",
    "## 'na.rm' If TRUE, removes NA values when calulating means. Only applies if val column of target is numeric (default = FALSE)\n",
    "## 'by' specifies additional \"by\" column of query AND target that will be used to match up query and target pairs (i.e. in addition to pure GRanges overlap). (default = NULL)\n",
    "## 'by.prefix' Choose a set of 'val'fields by a shared prefix. (default = 'val')\n",
    "## 'merge' If merge = FALSE then will cross every range in query with every level of \"by\" in target (and create data matrix), otherwise will assume query has \"by\" and merge only ranges that have matching \"by\" values in both query and target (default = FALSE)\n",
    "## 'FUN' Optional different function to call than mean. Takes two arguments (value, na.rm = TRUE) if weighted = FALSE, and three (value, width, na.rm = TRUE) if weighted = TRUE. (default = NULL)\n",
    "## 'default.val' If no hit in 'target' found in 'query', fill output 'val' field with this value. (default = NA)\n",
    "## 'max.slice' Maximum number of query ranges to consider in one memory chunk. (default = Inf)\n",
    "## 'mc.cores' Number of cores to use when running in chunked mode (default = 1)\n",
    "## 'sep' Specifies character to use as separator when aggregating character \"vals\" from target, only applies if target is character (default = ', ')\n",
    "## 'verbose'If TRUE, increase the verbosity of the output (default = FALSE)\n",
    "## \n",
    "## \n",
    "## Use: \n",
    "## gr.val(query, target)\n",
    "##"
   ]
  },
  {
   "cell_type": "code",
   "execution_count": 31,
   "metadata": {},
   "outputs": [
    {
     "name": "stderr",
     "output_type": "stream",
     "text": [
      "Warning message:\n",
      "“\"ranges\" method for Hits objects is deprecated. Please use\n",
      "  overlapsRanges() instead.”"
     ]
    },
    {
     "data": {
      "text/plain": [
       "GRanges object with 3 ranges and 2 metadata columns:\n",
       "      seqnames     ranges strand |        name     value\n",
       "         <Rle>  <IRanges>  <Rle> | <character> <numeric>\n",
       "  [1]        1 [103, 105]      + |           A         1\n",
       "  [2]        1 [107, 109]      - |           B         1\n",
       "  [3]        1 [113, 116]      - |           C         1\n",
       "  -------\n",
       "  seqinfo: 1 sequence from an unspecified genome; no seqlengths"
      ]
     },
     "metadata": {},
     "output_type": "display_data"
    }
   ],
   "source": [
    "gr1 = GRanges(              \n",
    "    seqnames = Rle(c(1, 2, 1, 3), c(1, 3, 2, 4)),\n",
    "    ranges = IRanges(101:110, end = 111:120, names = head(letters, 10)),\n",
    "    strand = Rle(strand(c(\"-\", \"+\", \"*\", \"+\", \"-\")), c(1, 2, 2, 3, 2)),\n",
    "    score = 1:10,\n",
    "    GC = seq(1, 0, length=10))\n",
    "\n",
    "gr.val(gr2, gr1)"
   ]
  },
  {
   "cell_type": "code",
   "execution_count": 32,
   "metadata": {},
   "outputs": [
    {
     "name": "stderr",
     "output_type": "stream",
     "text": [
      "Warning message:\n",
      "“\"ranges\" method for Hits objects is deprecated. Please use\n",
      "  overlapsRanges() instead.”"
     ]
    },
    {
     "data": {
      "text/plain": [
       "GRanges object with 3 ranges and 5 metadata columns:\n",
       "      seqnames     ranges strand |  query.id subject.id     score        GC\n",
       "         <Rle>  <IRanges>  <Rle> | <integer>  <integer> <integer> <numeric>\n",
       "  [1]        1 [103, 105]      * |         1          1         1 1.0000000\n",
       "  [2]        1 [107, 109]      * |         2          5         5 0.5555556\n",
       "  [3]        1 [107, 109]      * |         2          6         6 0.4444444\n",
       "             name\n",
       "      <character>\n",
       "  [1]           A\n",
       "  [2]           B\n",
       "  [3]           B\n",
       "  -------\n",
       "  seqinfo: 25 sequences from an unspecified genome"
      ]
     },
     "metadata": {},
     "output_type": "display_data"
    }
   ],
   "source": [
    "gr1$name = c('A', 'A', 'A', 'A', 'B', 'B', 'B', 'C', 'D', 'D')  ## add meta data column 'name'\n",
    "\n",
    "\n",
    "gr.merge(gr2, gr1, by='name')"
   ]
  },
  {
   "cell_type": "markdown",
   "metadata": {},
   "source": [
    "# anchorlift()\n",
    "### anchorlift(query, subject) \"lifts\" all queries with respect to subject in coordinates that are within \"pad\""
   ]
  },
  {
   "cell_type": "code",
   "execution_count": 33,
   "metadata": {
    "collapsed": true
   },
   "outputs": [],
   "source": [
    "## Function: \n",
    "## anchorlift()\n",
    "##\n",
    "## \"lifts\" all queries with respect to subject in coordinates that are within \"pad\"\n",
    "## i.e. puts the queries into subject-centric coordinates, which is a new genome with label \"Anchor\" (default)\n",
    "##\n",
    "## Respects strand of subject (i.e. if subject strand gr is \"-\" then will lift all queries to the left of it\n",
    "## into positive subject-centric coordinates). Keeps track of subject and query id for later deconvolution if need be.\n",
    "##\n",
    "## Args:\n",
    "## 'query' GRanges that will be lifted around the subject\n",
    "## 'subject' GRanges around which the queries will be lifted\n",
    "## 'window' integer specifying how far around each subject to gather query intervals to lift (default = 1e9)\n",
    "## 'by' character vector specifying additional columms (e.g. sample id) around which to restrict overlaps (via gr.findoverlaps()). Refer to `gr.findoverlaps()` documentation. (default = NULL)\n",
    "## 'seqname' String specifying the name of the output sequence around which to anchor (default = \"Anchor\")\n",
    "## 'include.values' If TRUE, include values from query and subject (default = TRUE)\n",
    "## \n",
    "## Use: \n",
    "## anchorlift(query, subject)\n",
    "##"
   ]
  },
  {
   "cell_type": "code",
   "execution_count": 34,
   "metadata": {},
   "outputs": [
    {
     "name": "stderr",
     "output_type": "stream",
     "text": [
      "Warning message:\n",
      "“\"ranges\" method for Hits objects is deprecated. Please use\n",
      "  overlapsRanges() instead.”"
     ]
    },
    {
     "data": {
      "text/plain": [
       "GRanges object with 9 ranges and 6 metadata columns:\n",
       "      seqnames    ranges strand | subject.id  query.id     score        GC\n",
       "         <Rle> <IRanges>  <Rle> |  <integer> <integer> <integer> <numeric>\n",
       "  [1]   Anchor  [-8,  2]      * |          1         1         1 1.0000000\n",
       "  [2]   Anchor  [ 2, 12]      * |          2         1         1 1.0000000\n",
       "  [3]   Anchor  [ 8, 18]      * |          3         1         1 1.0000000\n",
       "  [4]   Anchor  [-4,  6]      * |          1         5         5 0.5555556\n",
       "  [5]   Anchor  [-2,  8]      * |          2         5         5 0.5555556\n",
       "  [6]   Anchor  [ 4, 14]      * |          3         5         5 0.5555556\n",
       "  [7]   Anchor  [-3,  7]      * |          1         6         6 0.4444444\n",
       "  [8]   Anchor  [-3,  7]      * |          2         6         6 0.4444444\n",
       "  [9]   Anchor  [ 3, 13]      * |          3         6         6 0.4444444\n",
       "             name      name.1\n",
       "      <character> <character>\n",
       "  [1]           A           A\n",
       "  [2]           A           B\n",
       "  [3]           A           C\n",
       "  [4]           B           A\n",
       "  [5]           B           B\n",
       "  [6]           B           C\n",
       "  [7]           B           A\n",
       "  [8]           B           B\n",
       "  [9]           B           C\n",
       "  -------\n",
       "  seqinfo: 1 sequence from an unspecified genome; no seqlengths"
      ]
     },
     "metadata": {},
     "output_type": "display_data"
    }
   ],
   "source": [
    "anchorlift(gr1, gr2, window=100)"
   ]
  },
  {
   "cell_type": "markdown",
   "metadata": {},
   "source": [
    "# rrbind\n",
    "### rrbind() calculates intersecting/union columns of data.frame/data.table"
   ]
  },
  {
   "cell_type": "code",
   "execution_count": 35,
   "metadata": {
    "collapsed": true
   },
   "outputs": [],
   "source": [
    "## Function: \n",
    "## rrbind() \n",
    "##\n",
    "## Motivation:\n",
    "## Implementation of'rbind()', but for calculating intersecting/union columns of data.frame/data.table\n",
    "## \n",
    "## Args: \n",
    "## 'union'         If TRUE, takes union of columns (default = TRUE)\n",
    "#' 'as.data.table' If TRUE, returns the binded data as a data.table (default = FALSE)\n",
    "## \n",
    "## Use: \n",
    "## rrbind(dt1, dt2)\n",
    "##"
   ]
  },
  {
   "cell_type": "code",
   "execution_count": 36,
   "metadata": {
    "collapsed": true
   },
   "outputs": [],
   "source": [
    "dt1 = gr2dt(gr1)  ## example data.table dt1\n",
    "dt2 = gr2dt(gr2)  ## example data.table dt2"
   ]
  },
  {
   "cell_type": "code",
   "execution_count": 37,
   "metadata": {},
   "outputs": [
    {
     "data": {
      "text/html": [
       "<table>\n",
       "<thead><tr><th scope=col>seqnames</th><th scope=col>start</th><th scope=col>end</th><th scope=col>strand</th><th scope=col>width</th><th scope=col>score</th><th scope=col>GC</th><th scope=col>name</th></tr></thead>\n",
       "<tbody>\n",
       "\t<tr><td>1        </td><td>101      </td><td>111      </td><td>-        </td><td>11       </td><td> 1       </td><td>1.0000000</td><td>A        </td></tr>\n",
       "\t<tr><td>2        </td><td>102      </td><td>112      </td><td>+        </td><td>11       </td><td> 2       </td><td>0.8888889</td><td>A        </td></tr>\n",
       "\t<tr><td>2        </td><td>103      </td><td>113      </td><td>+        </td><td>11       </td><td> 3       </td><td>0.7777778</td><td>A        </td></tr>\n",
       "\t<tr><td>2        </td><td>104      </td><td>114      </td><td>*        </td><td>11       </td><td> 4       </td><td>0.6666667</td><td>A        </td></tr>\n",
       "\t<tr><td>1        </td><td>105      </td><td>115      </td><td>*        </td><td>11       </td><td> 5       </td><td>0.5555556</td><td>B        </td></tr>\n",
       "\t<tr><td>1        </td><td>106      </td><td>116      </td><td>+        </td><td>11       </td><td> 6       </td><td>0.4444444</td><td>B        </td></tr>\n",
       "\t<tr><td>3        </td><td>107      </td><td>117      </td><td>+        </td><td>11       </td><td> 7       </td><td>0.3333333</td><td>B        </td></tr>\n",
       "\t<tr><td>3        </td><td>108      </td><td>118      </td><td>+        </td><td>11       </td><td> 8       </td><td>0.2222222</td><td>C        </td></tr>\n",
       "\t<tr><td>3        </td><td>109      </td><td>119      </td><td>-        </td><td>11       </td><td> 9       </td><td>0.1111111</td><td>D        </td></tr>\n",
       "\t<tr><td>3        </td><td>110      </td><td>120      </td><td>-        </td><td>11       </td><td>10       </td><td>0.0000000</td><td>D        </td></tr>\n",
       "\t<tr><td>1        </td><td>103      </td><td>105      </td><td>+        </td><td> 3       </td><td>NA       </td><td>       NA</td><td>A        </td></tr>\n",
       "\t<tr><td>1        </td><td>107      </td><td>109      </td><td>-        </td><td> 3       </td><td>NA       </td><td>       NA</td><td>B        </td></tr>\n",
       "\t<tr><td>1        </td><td>113      </td><td>116      </td><td>-        </td><td> 4       </td><td>NA       </td><td>       NA</td><td>C        </td></tr>\n",
       "</tbody>\n",
       "</table>\n"
      ],
      "text/latex": [
       "\\begin{tabular}{r|llllllll}\n",
       " seqnames & start & end & strand & width & score & GC & name\\\\\n",
       "\\hline\n",
       "\t 1         & 101       & 111       & -         & 11        &  1        & 1.0000000 & A        \\\\\n",
       "\t 2         & 102       & 112       & +         & 11        &  2        & 0.8888889 & A        \\\\\n",
       "\t 2         & 103       & 113       & +         & 11        &  3        & 0.7777778 & A        \\\\\n",
       "\t 2         & 104       & 114       & *         & 11        &  4        & 0.6666667 & A        \\\\\n",
       "\t 1         & 105       & 115       & *         & 11        &  5        & 0.5555556 & B        \\\\\n",
       "\t 1         & 106       & 116       & +         & 11        &  6        & 0.4444444 & B        \\\\\n",
       "\t 3         & 107       & 117       & +         & 11        &  7        & 0.3333333 & B        \\\\\n",
       "\t 3         & 108       & 118       & +         & 11        &  8        & 0.2222222 & C        \\\\\n",
       "\t 3         & 109       & 119       & -         & 11        &  9        & 0.1111111 & D        \\\\\n",
       "\t 3         & 110       & 120       & -         & 11        & 10        & 0.0000000 & D        \\\\\n",
       "\t 1         & 103       & 105       & +         &  3        & NA        &        NA & A        \\\\\n",
       "\t 1         & 107       & 109       & -         &  3        & NA        &        NA & B        \\\\\n",
       "\t 1         & 113       & 116       & -         &  4        & NA        &        NA & C        \\\\\n",
       "\\end{tabular}\n"
      ],
      "text/markdown": [
       "\n",
       "seqnames | start | end | strand | width | score | GC | name | \n",
       "|---|---|---|---|---|---|---|---|---|---|---|---|---|\n",
       "| 1         | 101       | 111       | -         | 11        |  1        | 1.0000000 | A         | \n",
       "| 2         | 102       | 112       | +         | 11        |  2        | 0.8888889 | A         | \n",
       "| 2         | 103       | 113       | +         | 11        |  3        | 0.7777778 | A         | \n",
       "| 2         | 104       | 114       | *         | 11        |  4        | 0.6666667 | A         | \n",
       "| 1         | 105       | 115       | *         | 11        |  5        | 0.5555556 | B         | \n",
       "| 1         | 106       | 116       | +         | 11        |  6        | 0.4444444 | B         | \n",
       "| 3         | 107       | 117       | +         | 11        |  7        | 0.3333333 | B         | \n",
       "| 3         | 108       | 118       | +         | 11        |  8        | 0.2222222 | C         | \n",
       "| 3         | 109       | 119       | -         | 11        |  9        | 0.1111111 | D         | \n",
       "| 3         | 110       | 120       | -         | 11        | 10        | 0.0000000 | D         | \n",
       "| 1         | 103       | 105       | +         |  3        | NA        |        NA | A         | \n",
       "| 1         | 107       | 109       | -         |  3        | NA        |        NA | B         | \n",
       "| 1         | 113       | 116       | -         |  4        | NA        |        NA | C         | \n",
       "\n",
       "\n"
      ],
      "text/plain": [
       "   seqnames start end strand width score GC        name\n",
       "1  1        101   111 -      11     1    1.0000000 A   \n",
       "2  2        102   112 +      11     2    0.8888889 A   \n",
       "3  2        103   113 +      11     3    0.7777778 A   \n",
       "4  2        104   114 *      11     4    0.6666667 A   \n",
       "5  1        105   115 *      11     5    0.5555556 B   \n",
       "6  1        106   116 +      11     6    0.4444444 B   \n",
       "7  3        107   117 +      11     7    0.3333333 B   \n",
       "8  3        108   118 +      11     8    0.2222222 C   \n",
       "9  3        109   119 -      11     9    0.1111111 D   \n",
       "10 3        110   120 -      11    10    0.0000000 D   \n",
       "11 1        103   105 +       3    NA           NA A   \n",
       "12 1        107   109 -       3    NA           NA B   \n",
       "13 1        113   116 -       4    NA           NA C   "
      ]
     },
     "metadata": {},
     "output_type": "display_data"
    }
   ],
   "source": [
    "rrbind(dt1, dt2, as.data.table=TRUE)"
   ]
  },
  {
   "cell_type": "code",
   "execution_count": 38,
   "metadata": {},
   "outputs": [
    {
     "data": {
      "text/html": [
       "<table>\n",
       "<thead><tr><th scope=col>seqnames</th><th scope=col>start</th><th scope=col>end</th><th scope=col>strand</th><th scope=col>width</th><th scope=col>name</th><th scope=col>score</th><th scope=col>GC</th></tr></thead>\n",
       "<tbody>\n",
       "\t<tr><td>1        </td><td>103      </td><td>105      </td><td>+        </td><td> 3       </td><td>A        </td><td>NA       </td><td>       NA</td></tr>\n",
       "\t<tr><td>1        </td><td>107      </td><td>109      </td><td>-        </td><td> 3       </td><td>B        </td><td>NA       </td><td>       NA</td></tr>\n",
       "\t<tr><td>1        </td><td>113      </td><td>116      </td><td>-        </td><td> 4       </td><td>C        </td><td>NA       </td><td>       NA</td></tr>\n",
       "\t<tr><td>1        </td><td>101      </td><td>111      </td><td>-        </td><td>11       </td><td>A        </td><td> 1       </td><td>1.0000000</td></tr>\n",
       "\t<tr><td>2        </td><td>102      </td><td>112      </td><td>+        </td><td>11       </td><td>A        </td><td> 2       </td><td>0.8888889</td></tr>\n",
       "\t<tr><td>2        </td><td>103      </td><td>113      </td><td>+        </td><td>11       </td><td>A        </td><td> 3       </td><td>0.7777778</td></tr>\n",
       "\t<tr><td>2        </td><td>104      </td><td>114      </td><td>*        </td><td>11       </td><td>A        </td><td> 4       </td><td>0.6666667</td></tr>\n",
       "\t<tr><td>1        </td><td>105      </td><td>115      </td><td>*        </td><td>11       </td><td>B        </td><td> 5       </td><td>0.5555556</td></tr>\n",
       "\t<tr><td>1        </td><td>106      </td><td>116      </td><td>+        </td><td>11       </td><td>B        </td><td> 6       </td><td>0.4444444</td></tr>\n",
       "\t<tr><td>3        </td><td>107      </td><td>117      </td><td>+        </td><td>11       </td><td>B        </td><td> 7       </td><td>0.3333333</td></tr>\n",
       "\t<tr><td>3        </td><td>108      </td><td>118      </td><td>+        </td><td>11       </td><td>C        </td><td> 8       </td><td>0.2222222</td></tr>\n",
       "\t<tr><td>3        </td><td>109      </td><td>119      </td><td>-        </td><td>11       </td><td>D        </td><td> 9       </td><td>0.1111111</td></tr>\n",
       "\t<tr><td>3        </td><td>110      </td><td>120      </td><td>-        </td><td>11       </td><td>D        </td><td>10       </td><td>0.0000000</td></tr>\n",
       "</tbody>\n",
       "</table>\n"
      ],
      "text/latex": [
       "\\begin{tabular}{r|llllllll}\n",
       " seqnames & start & end & strand & width & name & score & GC\\\\\n",
       "\\hline\n",
       "\t 1         & 103       & 105       & +         &  3        & A         & NA        &        NA\\\\\n",
       "\t 1         & 107       & 109       & -         &  3        & B         & NA        &        NA\\\\\n",
       "\t 1         & 113       & 116       & -         &  4        & C         & NA        &        NA\\\\\n",
       "\t 1         & 101       & 111       & -         & 11        & A         &  1        & 1.0000000\\\\\n",
       "\t 2         & 102       & 112       & +         & 11        & A         &  2        & 0.8888889\\\\\n",
       "\t 2         & 103       & 113       & +         & 11        & A         &  3        & 0.7777778\\\\\n",
       "\t 2         & 104       & 114       & *         & 11        & A         &  4        & 0.6666667\\\\\n",
       "\t 1         & 105       & 115       & *         & 11        & B         &  5        & 0.5555556\\\\\n",
       "\t 1         & 106       & 116       & +         & 11        & B         &  6        & 0.4444444\\\\\n",
       "\t 3         & 107       & 117       & +         & 11        & B         &  7        & 0.3333333\\\\\n",
       "\t 3         & 108       & 118       & +         & 11        & C         &  8        & 0.2222222\\\\\n",
       "\t 3         & 109       & 119       & -         & 11        & D         &  9        & 0.1111111\\\\\n",
       "\t 3         & 110       & 120       & -         & 11        & D         & 10        & 0.0000000\\\\\n",
       "\\end{tabular}\n"
      ],
      "text/markdown": [
       "\n",
       "seqnames | start | end | strand | width | name | score | GC | \n",
       "|---|---|---|---|---|---|---|---|---|---|---|---|---|\n",
       "| 1         | 103       | 105       | +         |  3        | A         | NA        |        NA | \n",
       "| 1         | 107       | 109       | -         |  3        | B         | NA        |        NA | \n",
       "| 1         | 113       | 116       | -         |  4        | C         | NA        |        NA | \n",
       "| 1         | 101       | 111       | -         | 11        | A         |  1        | 1.0000000 | \n",
       "| 2         | 102       | 112       | +         | 11        | A         |  2        | 0.8888889 | \n",
       "| 2         | 103       | 113       | +         | 11        | A         |  3        | 0.7777778 | \n",
       "| 2         | 104       | 114       | *         | 11        | A         |  4        | 0.6666667 | \n",
       "| 1         | 105       | 115       | *         | 11        | B         |  5        | 0.5555556 | \n",
       "| 1         | 106       | 116       | +         | 11        | B         |  6        | 0.4444444 | \n",
       "| 3         | 107       | 117       | +         | 11        | B         |  7        | 0.3333333 | \n",
       "| 3         | 108       | 118       | +         | 11        | C         |  8        | 0.2222222 | \n",
       "| 3         | 109       | 119       | -         | 11        | D         |  9        | 0.1111111 | \n",
       "| 3         | 110       | 120       | -         | 11        | D         | 10        | 0.0000000 | \n",
       "\n",
       "\n"
      ],
      "text/plain": [
       "   seqnames start end strand width name score GC       \n",
       "1  1        103   105 +       3    A    NA           NA\n",
       "2  1        107   109 -       3    B    NA           NA\n",
       "3  1        113   116 -       4    C    NA           NA\n",
       "4  1        101   111 -      11    A     1    1.0000000\n",
       "5  2        102   112 +      11    A     2    0.8888889\n",
       "6  2        103   113 +      11    A     3    0.7777778\n",
       "7  2        104   114 *      11    A     4    0.6666667\n",
       "8  1        105   115 *      11    B     5    0.5555556\n",
       "9  1        106   116 +      11    B     6    0.4444444\n",
       "10 3        107   117 +      11    B     7    0.3333333\n",
       "11 3        108   118 +      11    C     8    0.2222222\n",
       "12 3        109   119 -      11    D     9    0.1111111\n",
       "13 3        110   120 -      11    D    10    0.0000000"
      ]
     },
     "metadata": {},
     "output_type": "display_data"
    }
   ],
   "source": [
    "rrbind(dt2, dt1, as.data.table=TRUE)"
   ]
  },
  {
   "cell_type": "code",
   "execution_count": null,
   "metadata": {
    "collapsed": true
   },
   "outputs": [],
   "source": []
  },
  {
   "cell_type": "code",
   "execution_count": null,
   "metadata": {
    "collapsed": true
   },
   "outputs": [],
   "source": []
  }
 ],
 "metadata": {
  "kernelspec": {
   "display_name": "R 3.3",
   "language": "R",
   "name": "ir33"
  },
  "language_info": {
   "codemirror_mode": "r",
   "file_extension": ".r",
   "mimetype": "text/x-r-source",
   "name": "R",
   "pygments_lexer": "r",
   "version": "3.4.3"
  }
 },
 "nbformat": 4,
 "nbformat_minor": 2
}
